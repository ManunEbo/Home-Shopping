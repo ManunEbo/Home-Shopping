{
 "cells": [
  {
   "cell_type": "markdown",
   "id": "0500899f",
   "metadata": {},
   "source": [
    "<h1 style=\"color: green;\">Summary</h1>\n",
    "\n",
    "<p>\n",
    "The following tasks are accomplished in this section:\n",
    "<ul>\n",
    "<li>Hyperparameter tuning with GridSearchCV</li>\n",
    "<li>Final feature selection using selectfrom</li>\n",
    "<li>Optimization and threshold tuning</li>\n",
    "<li></li>\n",
    "<li></li>\n",
    "</ul>\n",
    "\n",
    "\n",
    "\n",
    "</p>"
   ]
  },
  {
   "cell_type": "markdown",
   "id": "0486df7e",
   "metadata": {},
   "source": [
    "<h1 style=\"color: green;\">Import libraries</h1>\n"
   ]
  },
  {
   "cell_type": "code",
   "execution_count": 1,
   "id": "ba06574b",
   "metadata": {},
   "outputs": [],
   "source": [
    "import pandas as pd\n",
    "import numpy as np\n",
    "\n",
    "import time\n",
    "\n",
    "import seaborn as sb\n",
    "import matplotlib.pyplot as plt\n",
    "\n",
    "# Imblearn for oversampling\n",
    "from imblearn.over_sampling import SMOTE\n",
    "\n",
    "# Scaling the values\n",
    "from sklearn.preprocessing import binarize\n",
    "\n",
    "# RidgeCV for preliminary feature importance\n",
    "from sklearn.linear_model import RidgeCV\n",
    "\n",
    "\n",
    "# GridsearchCV\n",
    "from sklearn.model_selection import GridSearchCV\n",
    "\n",
    "# RandomForestClassifier\n",
    "from sklearn.ensemble import RandomForestClassifier\n",
    "\n",
    "# Logistic regression\n",
    "from sklearn.linear_model import LogisticRegression\n",
    "\n",
    "# KNN\n",
    "from sklearn.neighbors import KNeighborsClassifier\n",
    "\n",
    "# Naive bayes classifier\n",
    "from sklearn.naive_bayes import GaussianNB\n",
    "\n",
    "# SVM: svc\n",
    "from sklearn.svm import SVC\n",
    "\n",
    "# XGB.classifier\n",
    "import xgboost as xgb\n",
    "\n",
    "# feature selection\n",
    "from sklearn.feature_selection import SelectFromModel\n",
    "\n",
    "# Metrics Accuracy\n",
    "from sklearn.metrics import \\\n",
    "accuracy_score, confusion_matrix, recall_score, roc_curve,roc_auc_score\n",
    "\n",
    "# joblib for storing models\n",
    "import joblib\n",
    "\n",
    "# feature importance\n",
    "from sklearn.inspection import permutation_importance\n",
    "\n",
    "import warnings\n",
    "warnings.filterwarnings('ignore')"
   ]
  },
  {
   "cell_type": "markdown",
   "id": "dd9da951",
   "metadata": {},
   "source": [
    "<h1 style=\"color: green;\">Import data</h1>\n"
   ]
  },
  {
   "cell_type": "code",
   "execution_count": 2,
   "id": "8402f325",
   "metadata": {},
   "outputs": [],
   "source": [
    "X_train = pd.read_csv(\"../Data/homeshopping_classif_X_train.csv\")\n",
    "X_test = pd.read_csv(\"../Data/homeshopping_classif_X_test.csv\")"
   ]
  },
  {
   "cell_type": "code",
   "execution_count": 3,
   "id": "2b5c390a",
   "metadata": {},
   "outputs": [
    {
     "data": {
      "text/plain": [
       "((621, 81), (267, 81))"
      ]
     },
     "execution_count": 3,
     "metadata": {},
     "output_type": "execute_result"
    }
   ],
   "source": [
    "X_train.shape, X_test.shape"
   ]
  },
  {
   "cell_type": "code",
   "execution_count": 4,
   "id": "d0ab4375",
   "metadata": {
    "scrolled": true
   },
   "outputs": [
    {
     "data": {
      "text/plain": [
       "0    1\n",
       "1    0\n",
       "2    1\n",
       "3    0\n",
       "4    0\n",
       "Name: y_train, dtype: int64"
      ]
     },
     "execution_count": 4,
     "metadata": {},
     "output_type": "execute_result"
    }
   ],
   "source": [
    "# extracting y_train\n",
    "y_train = X_train.y_train\n",
    "X_train.drop(['y_train'], axis=1, inplace=True)\n",
    "y_train.head()\n"
   ]
  },
  {
   "cell_type": "code",
   "execution_count": 5,
   "id": "88d7c94d",
   "metadata": {},
   "outputs": [
    {
     "data": {
      "text/plain": [
       "0    0\n",
       "1    0\n",
       "2    0\n",
       "3    1\n",
       "4    0\n",
       "Name: y_test, dtype: int64"
      ]
     },
     "execution_count": 5,
     "metadata": {},
     "output_type": "execute_result"
    }
   ],
   "source": [
    "# Extracting y_test\n",
    "y_test = X_test.y_test\n",
    "X_test.drop(['y_test'], axis=1, inplace=True)\n",
    "y_test.head()"
   ]
  },
  {
   "cell_type": "markdown",
   "id": "e80e9e24",
   "metadata": {},
   "source": [
    "<h1 style=\"color: green;\">Balancing the data with imblearn.over_sampling SMOTE </h1>"
   ]
  },
  {
   "cell_type": "markdown",
   "id": "0ebd286f",
   "metadata": {},
   "source": [
    "<P>\n",
    "Binary classification models have a bias towards the majority target attribute.<br> \n",
    "This means that if the target distribution favours target = 0 then the model will learn to predict<br>\n",
    "that attribute better than the target = 1 attribute. This effect is visible in the sensitivity and<br>\n",
    "specificity of such models.\n",
    "</P>\n",
    "<p><b>\n",
    "    Below resampling is performed using Imblearn oversampling with SMOTE.<br>\n",
    "    SMOTE employes a nearest neighbour algorithm to generate/interpolate samples.<br>\n",
    "    This introduces variability around the original data points being sampled such that<br>\n",
    "    the model doesn't overfit the original data points\n",
    "</b></p>"
   ]
  },
  {
   "cell_type": "code",
   "execution_count": 6,
   "id": "5596cdf3",
   "metadata": {},
   "outputs": [],
   "source": [
    "resamp = SMOTE(random_state=44)\n",
    "X_train_resample, y_train_resample = resamp.fit_resample(X_train,y_train)"
   ]
  },
  {
   "cell_type": "code",
   "execution_count": 7,
   "id": "c7116410",
   "metadata": {},
   "outputs": [
    {
     "name": "stdout",
     "output_type": "stream",
     "text": [
      "(942, 80)\n"
     ]
    },
    {
     "data": {
      "text/html": [
       "<div>\n",
       "<style scoped>\n",
       "    .dataframe tbody tr th:only-of-type {\n",
       "        vertical-align: middle;\n",
       "    }\n",
       "\n",
       "    .dataframe tbody tr th {\n",
       "        vertical-align: top;\n",
       "    }\n",
       "\n",
       "    .dataframe thead th {\n",
       "        text-align: right;\n",
       "    }\n",
       "</style>\n",
       "<table border=\"1\" class=\"dataframe\">\n",
       "  <thead>\n",
       "    <tr style=\"text-align: right;\">\n",
       "      <th></th>\n",
       "      <th>Total_Nbr_of_Items</th>\n",
       "      <th>Total_Price</th>\n",
       "      <th>Venue</th>\n",
       "      <th>Payment_Type</th>\n",
       "      <th>Card_Source</th>\n",
       "      <th>Date_diff</th>\n",
       "      <th>Week_day_name</th>\n",
       "      <th>Nbr_items_per_wk</th>\n",
       "      <th>Expenditure_per_wk</th>\n",
       "      <th>Total_Exp_wk_perc</th>\n",
       "      <th>...</th>\n",
       "      <th>Education_wk</th>\n",
       "      <th>Education_wk_perc</th>\n",
       "      <th>Tech_and_services_wk</th>\n",
       "      <th>Cosmetics_and_selfcare_wk</th>\n",
       "      <th>Cosmetics_and_selfcare_exp_receipt</th>\n",
       "      <th>Cosmetics_and_selfcare_exp_wk</th>\n",
       "      <th>Cosmetics_and_selfcare_wk_exp_perc</th>\n",
       "      <th>Clothes_and_shoes_wk</th>\n",
       "      <th>House_and_kitchen_wk</th>\n",
       "      <th>House_and_kitchen_exp_receipt</th>\n",
       "    </tr>\n",
       "  </thead>\n",
       "  <tbody>\n",
       "    <tr>\n",
       "      <th>0</th>\n",
       "      <td>-0.304150</td>\n",
       "      <td>0.108578</td>\n",
       "      <td>-0.228713</td>\n",
       "      <td>0.024481</td>\n",
       "      <td>0.586003</td>\n",
       "      <td>-0.595665</td>\n",
       "      <td>-0.179150</td>\n",
       "      <td>1.431712</td>\n",
       "      <td>1.243970</td>\n",
       "      <td>1.229109</td>\n",
       "      <td>...</td>\n",
       "      <td>0.107108</td>\n",
       "      <td>-0.007061</td>\n",
       "      <td>0.048790</td>\n",
       "      <td>0.344791</td>\n",
       "      <td>0.004288</td>\n",
       "      <td>0.027321</td>\n",
       "      <td>-0.0479</td>\n",
       "      <td>0.075451</td>\n",
       "      <td>0.092007</td>\n",
       "      <td>-0.000415</td>\n",
       "    </tr>\n",
       "    <tr>\n",
       "      <th>1</th>\n",
       "      <td>0.711166</td>\n",
       "      <td>0.631123</td>\n",
       "      <td>0.807895</td>\n",
       "      <td>0.024481</td>\n",
       "      <td>-0.065017</td>\n",
       "      <td>0.962480</td>\n",
       "      <td>-0.097813</td>\n",
       "      <td>0.629976</td>\n",
       "      <td>0.407817</td>\n",
       "      <td>1.917409</td>\n",
       "      <td>...</td>\n",
       "      <td>0.107108</td>\n",
       "      <td>-0.007061</td>\n",
       "      <td>-0.006863</td>\n",
       "      <td>0.344791</td>\n",
       "      <td>0.004288</td>\n",
       "      <td>0.027321</td>\n",
       "      <td>-0.0479</td>\n",
       "      <td>0.075451</td>\n",
       "      <td>0.092007</td>\n",
       "      <td>-0.000415</td>\n",
       "    </tr>\n",
       "    <tr>\n",
       "      <th>2</th>\n",
       "      <td>-0.304150</td>\n",
       "      <td>0.108578</td>\n",
       "      <td>-0.228713</td>\n",
       "      <td>0.024481</td>\n",
       "      <td>-0.065017</td>\n",
       "      <td>-0.595665</td>\n",
       "      <td>0.389195</td>\n",
       "      <td>0.629976</td>\n",
       "      <td>1.243970</td>\n",
       "      <td>1.229109</td>\n",
       "      <td>...</td>\n",
       "      <td>0.107108</td>\n",
       "      <td>-0.007061</td>\n",
       "      <td>-0.006863</td>\n",
       "      <td>0.344791</td>\n",
       "      <td>0.004288</td>\n",
       "      <td>0.027321</td>\n",
       "      <td>-0.0479</td>\n",
       "      <td>0.075451</td>\n",
       "      <td>0.092007</td>\n",
       "      <td>-0.000415</td>\n",
       "    </tr>\n",
       "    <tr>\n",
       "      <th>3</th>\n",
       "      <td>0.711166</td>\n",
       "      <td>-0.266718</td>\n",
       "      <td>0.242304</td>\n",
       "      <td>0.024481</td>\n",
       "      <td>-0.065017</td>\n",
       "      <td>1.618723</td>\n",
       "      <td>-0.179150</td>\n",
       "      <td>0.629976</td>\n",
       "      <td>1.243970</td>\n",
       "      <td>1.229109</td>\n",
       "      <td>...</td>\n",
       "      <td>0.107108</td>\n",
       "      <td>-0.007061</td>\n",
       "      <td>-0.006863</td>\n",
       "      <td>0.344791</td>\n",
       "      <td>0.004288</td>\n",
       "      <td>0.027321</td>\n",
       "      <td>-0.0479</td>\n",
       "      <td>0.075451</td>\n",
       "      <td>0.092007</td>\n",
       "      <td>-0.000415</td>\n",
       "    </tr>\n",
       "    <tr>\n",
       "      <th>4</th>\n",
       "      <td>-0.304150</td>\n",
       "      <td>0.108578</td>\n",
       "      <td>-0.228713</td>\n",
       "      <td>0.024481</td>\n",
       "      <td>0.586003</td>\n",
       "      <td>-0.595665</td>\n",
       "      <td>0.121203</td>\n",
       "      <td>0.113680</td>\n",
       "      <td>0.407817</td>\n",
       "      <td>0.293031</td>\n",
       "      <td>...</td>\n",
       "      <td>0.107108</td>\n",
       "      <td>-0.007061</td>\n",
       "      <td>-0.006863</td>\n",
       "      <td>-3.488539</td>\n",
       "      <td>0.004288</td>\n",
       "      <td>0.027321</td>\n",
       "      <td>-0.0479</td>\n",
       "      <td>0.075451</td>\n",
       "      <td>0.092007</td>\n",
       "      <td>-0.000415</td>\n",
       "    </tr>\n",
       "  </tbody>\n",
       "</table>\n",
       "<p>5 rows × 80 columns</p>\n",
       "</div>"
      ],
      "text/plain": [
       "   Total_Nbr_of_Items  Total_Price     Venue  Payment_Type  Card_Source  \\\n",
       "0           -0.304150     0.108578 -0.228713      0.024481     0.586003   \n",
       "1            0.711166     0.631123  0.807895      0.024481    -0.065017   \n",
       "2           -0.304150     0.108578 -0.228713      0.024481    -0.065017   \n",
       "3            0.711166    -0.266718  0.242304      0.024481    -0.065017   \n",
       "4           -0.304150     0.108578 -0.228713      0.024481     0.586003   \n",
       "\n",
       "   Date_diff  Week_day_name  Nbr_items_per_wk  Expenditure_per_wk  \\\n",
       "0  -0.595665      -0.179150          1.431712            1.243970   \n",
       "1   0.962480      -0.097813          0.629976            0.407817   \n",
       "2  -0.595665       0.389195          0.629976            1.243970   \n",
       "3   1.618723      -0.179150          0.629976            1.243970   \n",
       "4  -0.595665       0.121203          0.113680            0.407817   \n",
       "\n",
       "   Total_Exp_wk_perc  ...  Education_wk  Education_wk_perc  \\\n",
       "0           1.229109  ...      0.107108          -0.007061   \n",
       "1           1.917409  ...      0.107108          -0.007061   \n",
       "2           1.229109  ...      0.107108          -0.007061   \n",
       "3           1.229109  ...      0.107108          -0.007061   \n",
       "4           0.293031  ...      0.107108          -0.007061   \n",
       "\n",
       "   Tech_and_services_wk  Cosmetics_and_selfcare_wk  \\\n",
       "0              0.048790                   0.344791   \n",
       "1             -0.006863                   0.344791   \n",
       "2             -0.006863                   0.344791   \n",
       "3             -0.006863                   0.344791   \n",
       "4             -0.006863                  -3.488539   \n",
       "\n",
       "   Cosmetics_and_selfcare_exp_receipt  Cosmetics_and_selfcare_exp_wk  \\\n",
       "0                            0.004288                       0.027321   \n",
       "1                            0.004288                       0.027321   \n",
       "2                            0.004288                       0.027321   \n",
       "3                            0.004288                       0.027321   \n",
       "4                            0.004288                       0.027321   \n",
       "\n",
       "   Cosmetics_and_selfcare_wk_exp_perc  Clothes_and_shoes_wk  \\\n",
       "0                             -0.0479              0.075451   \n",
       "1                             -0.0479              0.075451   \n",
       "2                             -0.0479              0.075451   \n",
       "3                             -0.0479              0.075451   \n",
       "4                             -0.0479              0.075451   \n",
       "\n",
       "   House_and_kitchen_wk  House_and_kitchen_exp_receipt  \n",
       "0              0.092007                      -0.000415  \n",
       "1              0.092007                      -0.000415  \n",
       "2              0.092007                      -0.000415  \n",
       "3              0.092007                      -0.000415  \n",
       "4              0.092007                      -0.000415  \n",
       "\n",
       "[5 rows x 80 columns]"
      ]
     },
     "execution_count": 7,
     "metadata": {},
     "output_type": "execute_result"
    }
   ],
   "source": [
    "print(X_train_resample.shape)\n",
    "X_train_resample.head()"
   ]
  },
  {
   "cell_type": "code",
   "execution_count": 8,
   "id": "99a94fa5",
   "metadata": {},
   "outputs": [
    {
     "name": "stdout",
     "output_type": "stream",
     "text": [
      "(942,)\n"
     ]
    },
    {
     "data": {
      "text/plain": [
       "1    471\n",
       "0    471\n",
       "Name: y_train, dtype: int64"
      ]
     },
     "execution_count": 8,
     "metadata": {},
     "output_type": "execute_result"
    }
   ],
   "source": [
    "print(y_train_resample.shape)\n",
    "y_train_resample.value_counts()"
   ]
  },
  {
   "cell_type": "code",
   "execution_count": 9,
   "id": "ad878e24",
   "metadata": {},
   "outputs": [
    {
     "data": {
      "image/png": "[encoded data removed]",
      "text/plain": [
       "<Figure size 640x480 with 1 Axes>"
      ]
     },
     "metadata": {},
     "output_type": "display_data"
    }
   ],
   "source": [
    "# figure background\n",
    "fig = plt.figure()\n",
    "fig.patch.set_facecolor('#212121')\n",
    "fig.patch.set_alpha(0.95)\n",
    "\n",
    "ax = fig.add_subplot(111)\n",
    "ax.patch.set_facecolor('#212121')\n",
    "ax.patch.set_alpha(1.0)\n",
    "ax.yaxis.label.set_color('lime')\n",
    "ax.xaxis.label.set_color('lime')\n",
    "ax.title.set_color('lime')\n",
    "ax.tick_params(colors='lime', which='both')\n",
    "\n",
    "ax = y_train.value_counts().plot.pie(autopct='%.2f', colors=['yellow','green'])\n",
    "_ = ax.set_title(\"Actual data split\")"
   ]
  },
  {
   "cell_type": "code",
   "execution_count": 10,
   "id": "5b139140",
   "metadata": {},
   "outputs": [
    {
     "data": {
      "image/png": "[encoded data removed]",
      "text/plain": [
       "<Figure size 640x480 with 1 Axes>"
      ]
     },
     "metadata": {},
     "output_type": "display_data"
    }
   ],
   "source": [
    "# figure background\n",
    "fig = plt.figure()\n",
    "fig.patch.set_facecolor('#212121')\n",
    "fig.patch.set_alpha(0.95)\n",
    "\n",
    "ax = fig.add_subplot(111)\n",
    "ax.patch.set_facecolor('#212121')\n",
    "ax.patch.set_alpha(1.0)\n",
    "ax.yaxis.label.set_color('lime')\n",
    "ax.xaxis.label.set_color('lime')\n",
    "ax.title.set_color('lime')\n",
    "ax.tick_params(colors='lime', which='both')\n",
    "\n",
    "ax = y_train_resample.value_counts().plot.pie(autopct='%.2f', colors=['red','lime'])\n",
    "_ = ax.set_title(\"Synthetic Over-sampling\\nWith SMOTE\")"
   ]
  },
  {
   "cell_type": "markdown",
   "id": "58ca014a",
   "metadata": {},
   "source": [
    "<p>\n",
    "    As can be seen above, there is now an equal amount of target = 1 and target = 0<br>\n",
    "    The dataset is now balanced\n",
    "\n",
    "</p>"
   ]
  },
  {
   "cell_type": "markdown",
   "id": "5c25b883",
   "metadata": {},
   "source": [
    "<h1 style=\"color: green;\">Model building with GridSearchCV</h1>"
   ]
  },
  {
   "cell_type": "code",
   "execution_count": 11,
   "id": "a05fb1ac",
   "metadata": {},
   "outputs": [],
   "source": [
    "keys = ['RandomForestClassifier','LogisticRegression','KNeighborsClassifier','GaussianNB','SVC','XGB'] \n",
    "\n",
    "models_list = {\n",
    "    'RandomForestClassifier': RandomForestClassifier(),\n",
    "    'LogisticRegression': LogisticRegression(),\n",
    "    'KNeighborsClassifier': KNeighborsClassifier(),\n",
    "    'GaussianNB': GaussianNB(),\n",
    "    'SVC': SVC(),\n",
    "    'XGB':xgb.XGBClassifier()\n",
    "}\n",
    "\n",
    "param_list = {\n",
    "    'RandomForestClassifier': {\n",
    "        'n_estimators': np.arange(100,1300,100),\n",
    "        'random_state': [1]\n",
    "    },\n",
    "    \n",
    "    'LogisticRegression': {\n",
    "        'penalty' : ['l1','l2','elasticnet'],\n",
    "        'C': np.logspace(-4,4,20),\n",
    "        'max_iter' : [10000,50000]\n",
    "    },\n",
    "    'KNeighborsClassifier': {\n",
    "        'n_neighbors': [4,5,6,7,8,9,10],\n",
    "        'weights': ['uniform', 'distance'],\n",
    "        'algorithm': ['auto','ball_tree','kd_tree','brute'],\n",
    "        'p': [1,2]\n",
    "    },\n",
    "    'GaussianNB': {\n",
    "        'var_smoothing': np.logspace(0,-9, num=100)\n",
    "    },\n",
    "    'SVC': {\n",
    "        'kernel': ['rbf','linear','poly'],\n",
    "        'gamma': [0.001,0.01,0.1,0.5,1,3,5,10],\n",
    "        'C': [0.1,1,10,100,1000],\n",
    "        'degree': [3,4,5,6,7,8]\n",
    "    },\n",
    "    'XGB':{\n",
    "         'max_depth':[4,6,8],\n",
    "         'min_child_weight':[4,6,8],\n",
    "         'gamma':[0,1],\n",
    "         'learning_rate': [0.1,0.05,0.01],\n",
    "         'n_estimators':[100,300,500]\n",
    "    }\n",
    "}"
   ]
  },
  {
   "cell_type": "markdown",
   "id": "938174b3",
   "metadata": {},
   "source": [
    "<h3 style=\"color: green;\">GridSearch with imbalanced data</h3>"
   ]
  },
  {
   "cell_type": "code",
   "execution_count": 12,
   "id": "97f4a4f2",
   "metadata": {},
   "outputs": [
    {
     "name": "stdout",
     "output_type": "stream",
     "text": [
      "Fitting 5 folds for each of 12 candidates, totalling 60 fits\n",
      "Fitting 5 folds for each of 120 candidates, totalling 600 fits\n",
      "Fitting 5 folds for each of 112 candidates, totalling 560 fits\n",
      "Fitting 5 folds for each of 100 candidates, totalling 500 fits\n",
      "Fitting 5 folds for each of 720 candidates, totalling 3600 fits\n",
      "Fitting 5 folds for each of 162 candidates, totalling 810 fits\n"
     ]
    }
   ],
   "source": [
    "key_model_params = []\n",
    "for key in keys:\n",
    "    string = []\n",
    "    string.append(key)\n",
    "    string.append(param_list[key])\n",
    "    \n",
    "    start_time =  time.perf_counter()\n",
    "    gs = GridSearchCV(models_list[key],param_grid=param_list[key],cv=5, verbose=True, n_jobs=-1)\n",
    "    gs.fit(X_train,y_train)\n",
    "    end_time = time.perf_counter()\n",
    "    training_duration = end_time - start_time\n",
    "    \n",
    "    string.append(gs.best_params_)\n",
    "    string.append(gs.best_score_)\n",
    "    string.append(gs.score(X_test,y_test))\n",
    "    string.append(training_duration)\n",
    "    \n",
    "    key_model_params.append(string)"
   ]
  },
  {
   "cell_type": "code",
   "execution_count": 13,
   "id": "a1ea8a74",
   "metadata": {},
   "outputs": [
    {
     "data": {
      "text/html": [
       "<div>\n",
       "<style scoped>\n",
       "    .dataframe tbody tr th:only-of-type {\n",
       "        vertical-align: middle;\n",
       "    }\n",
       "\n",
       "    .dataframe tbody tr th {\n",
       "        vertical-align: top;\n",
       "    }\n",
       "\n",
       "    .dataframe thead th {\n",
       "        text-align: right;\n",
       "    }\n",
       "</style>\n",
       "<table border=\"1\" class=\"dataframe\">\n",
       "  <thead>\n",
       "    <tr style=\"text-align: right;\">\n",
       "      <th></th>\n",
       "      <th>Model</th>\n",
       "      <th>Param_list_in</th>\n",
       "      <th>best_params</th>\n",
       "      <th>best_score</th>\n",
       "      <th>score_x_y_test</th>\n",
       "      <th>Training_duration_seconds</th>\n",
       "    </tr>\n",
       "  </thead>\n",
       "  <tbody>\n",
       "    <tr>\n",
       "      <th>5</th>\n",
       "      <td>XGB</td>\n",
       "      <td>{'max_depth': [4, 6, 8], 'min_child_weight': [...</td>\n",
       "      <td>{'gamma': 0, 'learning_rate': 0.1, 'max_depth'...</td>\n",
       "      <td>0.903484</td>\n",
       "      <td>0.921348</td>\n",
       "      <td>77.781676</td>\n",
       "    </tr>\n",
       "    <tr>\n",
       "      <th>0</th>\n",
       "      <td>RandomForestClassifier</td>\n",
       "      <td>{'n_estimators': [100, 200, 300, 400, 500, 600...</td>\n",
       "      <td>{'n_estimators': 700, 'random_state': 1}</td>\n",
       "      <td>0.897019</td>\n",
       "      <td>0.891386</td>\n",
       "      <td>10.057101</td>\n",
       "    </tr>\n",
       "    <tr>\n",
       "      <th>4</th>\n",
       "      <td>SVC</td>\n",
       "      <td>{'kernel': ['rbf', 'linear', 'poly'], 'gamma':...</td>\n",
       "      <td>{'C': 10, 'degree': 3, 'gamma': 0.001, 'kernel...</td>\n",
       "      <td>0.885652</td>\n",
       "      <td>0.883895</td>\n",
       "      <td>177.849810</td>\n",
       "    </tr>\n",
       "    <tr>\n",
       "      <th>1</th>\n",
       "      <td>LogisticRegression</td>\n",
       "      <td>{'penalty': ['l1', 'l2', 'elasticnet'], 'C': [...</td>\n",
       "      <td>{'C': 0.23357214690901212, 'max_iter': 10000, ...</td>\n",
       "      <td>0.887265</td>\n",
       "      <td>0.880150</td>\n",
       "      <td>1.164184</td>\n",
       "    </tr>\n",
       "    <tr>\n",
       "      <th>2</th>\n",
       "      <td>KNeighborsClassifier</td>\n",
       "      <td>{'n_neighbors': [4, 5, 6, 7, 8, 9, 10], 'weigh...</td>\n",
       "      <td>{'algorithm': 'auto', 'n_neighbors': 10, 'p': ...</td>\n",
       "      <td>0.884116</td>\n",
       "      <td>0.868914</td>\n",
       "      <td>0.999190</td>\n",
       "    </tr>\n",
       "    <tr>\n",
       "      <th>3</th>\n",
       "      <td>GaussianNB</td>\n",
       "      <td>{'var_smoothing': [1.0, 0.8111308307896871, 0....</td>\n",
       "      <td>{'var_smoothing': 0.8111308307896871}</td>\n",
       "      <td>0.824452</td>\n",
       "      <td>0.853933</td>\n",
       "      <td>0.440188</td>\n",
       "    </tr>\n",
       "  </tbody>\n",
       "</table>\n",
       "</div>"
      ],
      "text/plain": [
       "                    Model                                      Param_list_in  \\\n",
       "5                     XGB  {'max_depth': [4, 6, 8], 'min_child_weight': [...   \n",
       "0  RandomForestClassifier  {'n_estimators': [100, 200, 300, 400, 500, 600...   \n",
       "4                     SVC  {'kernel': ['rbf', 'linear', 'poly'], 'gamma':...   \n",
       "1      LogisticRegression  {'penalty': ['l1', 'l2', 'elasticnet'], 'C': [...   \n",
       "2    KNeighborsClassifier  {'n_neighbors': [4, 5, 6, 7, 8, 9, 10], 'weigh...   \n",
       "3              GaussianNB  {'var_smoothing': [1.0, 0.8111308307896871, 0....   \n",
       "\n",
       "                                         best_params  best_score  \\\n",
       "5  {'gamma': 0, 'learning_rate': 0.1, 'max_depth'...    0.903484   \n",
       "0           {'n_estimators': 700, 'random_state': 1}    0.897019   \n",
       "4  {'C': 10, 'degree': 3, 'gamma': 0.001, 'kernel...    0.885652   \n",
       "1  {'C': 0.23357214690901212, 'max_iter': 10000, ...    0.887265   \n",
       "2  {'algorithm': 'auto', 'n_neighbors': 10, 'p': ...    0.884116   \n",
       "3              {'var_smoothing': 0.8111308307896871}    0.824452   \n",
       "\n",
       "   score_x_y_test  Training_duration_seconds  \n",
       "5        0.921348                  77.781676  \n",
       "0        0.891386                  10.057101  \n",
       "4        0.883895                 177.849810  \n",
       "1        0.880150                   1.164184  \n",
       "2        0.868914                   0.999190  \n",
       "3        0.853933                   0.440188  "
      ]
     },
     "execution_count": 13,
     "metadata": {},
     "output_type": "execute_result"
    }
   ],
   "source": [
    "GridSearchOutput = pd.DataFrame(key_model_params, columns =['Model','Param_list_in','best_params',\n",
    "                                                            'best_score','score_x_y_test',\n",
    "                                                            'Training_duration_seconds'])\n",
    "GridSearchOutput.sort_values(by=['score_x_y_test','best_score'], ascending=False)"
   ]
  },
  {
   "cell_type": "markdown",
   "id": "7f385a6e",
   "metadata": {},
   "source": [
    "<h3 style=\"color: green;\">GridSearch with balanced data</h3>"
   ]
  },
  {
   "cell_type": "code",
   "execution_count": 14,
   "id": "e996c28c",
   "metadata": {},
   "outputs": [
    {
     "name": "stdout",
     "output_type": "stream",
     "text": [
      "Fitting 5 folds for each of 12 candidates, totalling 60 fits\n",
      "Fitting 5 folds for each of 120 candidates, totalling 600 fits\n",
      "Fitting 5 folds for each of 112 candidates, totalling 560 fits\n",
      "Fitting 5 folds for each of 100 candidates, totalling 500 fits\n",
      "Fitting 5 folds for each of 720 candidates, totalling 3600 fits\n",
      "Fitting 5 folds for each of 162 candidates, totalling 810 fits\n"
     ]
    }
   ],
   "source": [
    "key_model_params = []\n",
    "for key in keys:\n",
    "    string = []\n",
    "    string.append(key)\n",
    "    string.append(param_list[key])\n",
    "    \n",
    "    start_time =  time.perf_counter()\n",
    "    gs = GridSearchCV(models_list[key],param_grid=param_list[key],cv=5, verbose=True, n_jobs=-1)\n",
    "    gs.fit(X_train_resample,y_train_resample)\n",
    "    end_time = time.perf_counter()\n",
    "    training_duration = end_time - start_time\n",
    "    \n",
    "    string.append(gs.best_params_)\n",
    "    string.append(gs.best_score_)\n",
    "    string.append(gs.score(X_test,y_test))\n",
    "    string.append(training_duration)\n",
    "    \n",
    "    key_model_params.append(string)"
   ]
  },
  {
   "cell_type": "code",
   "execution_count": 15,
   "id": "2c9fb698",
   "metadata": {},
   "outputs": [
    {
     "data": {
      "text/html": [
       "<div>\n",
       "<style scoped>\n",
       "    .dataframe tbody tr th:only-of-type {\n",
       "        vertical-align: middle;\n",
       "    }\n",
       "\n",
       "    .dataframe tbody tr th {\n",
       "        vertical-align: top;\n",
       "    }\n",
       "\n",
       "    .dataframe thead th {\n",
       "        text-align: right;\n",
       "    }\n",
       "</style>\n",
       "<table border=\"1\" class=\"dataframe\">\n",
       "  <thead>\n",
       "    <tr style=\"text-align: right;\">\n",
       "      <th></th>\n",
       "      <th>Model</th>\n",
       "      <th>Param_list_in</th>\n",
       "      <th>best_params</th>\n",
       "      <th>best_score</th>\n",
       "      <th>score_x_y_test</th>\n",
       "      <th>Training_duration_seconds</th>\n",
       "    </tr>\n",
       "  </thead>\n",
       "  <tbody>\n",
       "    <tr>\n",
       "      <th>5</th>\n",
       "      <td>XGB</td>\n",
       "      <td>{'max_depth': [4, 6, 8], 'min_child_weight': [...</td>\n",
       "      <td>{'gamma': 0, 'learning_rate': 0.05, 'max_depth...</td>\n",
       "      <td>0.937515</td>\n",
       "      <td>0.955056</td>\n",
       "      <td>117.438615</td>\n",
       "    </tr>\n",
       "    <tr>\n",
       "      <th>0</th>\n",
       "      <td>RandomForestClassifier</td>\n",
       "      <td>{'n_estimators': [100, 200, 300, 400, 500, 600...</td>\n",
       "      <td>{'n_estimators': 800, 'random_state': 1}</td>\n",
       "      <td>0.942790</td>\n",
       "      <td>0.921348</td>\n",
       "      <td>16.289182</td>\n",
       "    </tr>\n",
       "    <tr>\n",
       "      <th>2</th>\n",
       "      <td>KNeighborsClassifier</td>\n",
       "      <td>{'n_neighbors': [4, 5, 6, 7, 8, 9, 10], 'weigh...</td>\n",
       "      <td>{'algorithm': 'auto', 'n_neighbors': 4, 'p': 1...</td>\n",
       "      <td>0.946910</td>\n",
       "      <td>0.902622</td>\n",
       "      <td>2.063866</td>\n",
       "    </tr>\n",
       "    <tr>\n",
       "      <th>1</th>\n",
       "      <td>LogisticRegression</td>\n",
       "      <td>{'penalty': ['l1', 'l2', 'elasticnet'], 'C': [...</td>\n",
       "      <td>{'C': 1.623776739188721, 'max_iter': 10000, 'p...</td>\n",
       "      <td>0.906580</td>\n",
       "      <td>0.857678</td>\n",
       "      <td>1.995366</td>\n",
       "    </tr>\n",
       "    <tr>\n",
       "      <th>4</th>\n",
       "      <td>SVC</td>\n",
       "      <td>{'kernel': ['rbf', 'linear', 'poly'], 'gamma':...</td>\n",
       "      <td>{'C': 10, 'degree': 3, 'gamma': 0.5, 'kernel':...</td>\n",
       "      <td>0.965017</td>\n",
       "      <td>0.808989</td>\n",
       "      <td>287.083663</td>\n",
       "    </tr>\n",
       "    <tr>\n",
       "      <th>3</th>\n",
       "      <td>GaussianNB</td>\n",
       "      <td>{'var_smoothing': [1.0, 0.8111308307896871, 0....</td>\n",
       "      <td>{'var_smoothing': 0.01873817422860384}</td>\n",
       "      <td>0.851345</td>\n",
       "      <td>0.779026</td>\n",
       "      <td>0.605587</td>\n",
       "    </tr>\n",
       "  </tbody>\n",
       "</table>\n",
       "</div>"
      ],
      "text/plain": [
       "                    Model                                      Param_list_in  \\\n",
       "5                     XGB  {'max_depth': [4, 6, 8], 'min_child_weight': [...   \n",
       "0  RandomForestClassifier  {'n_estimators': [100, 200, 300, 400, 500, 600...   \n",
       "2    KNeighborsClassifier  {'n_neighbors': [4, 5, 6, 7, 8, 9, 10], 'weigh...   \n",
       "1      LogisticRegression  {'penalty': ['l1', 'l2', 'elasticnet'], 'C': [...   \n",
       "4                     SVC  {'kernel': ['rbf', 'linear', 'poly'], 'gamma':...   \n",
       "3              GaussianNB  {'var_smoothing': [1.0, 0.8111308307896871, 0....   \n",
       "\n",
       "                                         best_params  best_score  \\\n",
       "5  {'gamma': 0, 'learning_rate': 0.05, 'max_depth...    0.937515   \n",
       "0           {'n_estimators': 800, 'random_state': 1}    0.942790   \n",
       "2  {'algorithm': 'auto', 'n_neighbors': 4, 'p': 1...    0.946910   \n",
       "1  {'C': 1.623776739188721, 'max_iter': 10000, 'p...    0.906580   \n",
       "4  {'C': 10, 'degree': 3, 'gamma': 0.5, 'kernel':...    0.965017   \n",
       "3             {'var_smoothing': 0.01873817422860384}    0.851345   \n",
       "\n",
       "   score_x_y_test  Training_duration_seconds  \n",
       "5        0.955056                 117.438615  \n",
       "0        0.921348                  16.289182  \n",
       "2        0.902622                   2.063866  \n",
       "1        0.857678                   1.995366  \n",
       "4        0.808989                 287.083663  \n",
       "3        0.779026                   0.605587  "
      ]
     },
     "execution_count": 15,
     "metadata": {},
     "output_type": "execute_result"
    }
   ],
   "source": [
    "GridSearchOutput_balanced = pd.DataFrame(key_model_params, columns =['Model','Param_list_in','best_params',\n",
    "                                                            'best_score','score_x_y_test',\n",
    "                                                            'Training_duration_seconds'])\n",
    "GridSearchOutput_balanced.sort_values(by=['score_x_y_test','best_score'], ascending=False)"
   ]
  },
  {
   "cell_type": "markdown",
   "id": "58a9651e",
   "metadata": {},
   "source": [
    "<p>\n",
    "    The comparison above shows that balancing the data introduces significant improvement in the model\n",
    "    accuracy.<br>\n",
    "    <b>In general, this means an improvement in sensitivity</b> i.e. it is usually the case that accuracy is a<br>\n",
    "    measure of percentage of correct classification. However, with imbalanced data, the model would<br>\n",
    "    correctly classify the majority group in the label/target and misclassify the minority group.<br>\n",
    "    Balancing the data increases the correct classification of the minority group.<br>\n",
    "    <b>This comparison will be done with the confusion matrix and threshold tuning.</b>\n",
    "</p>"
   ]
  },
  {
   "cell_type": "markdown",
   "id": "33fdcc67",
   "metadata": {},
   "source": [
    "<h1 style=\"color: green;\">Comparing the best models for balanced and imbalanced data</h1>"
   ]
  },
  {
   "cell_type": "markdown",
   "id": "84d353a3",
   "metadata": {},
   "source": [
    "<h3 style=\"color: green;\">Imbalanced data best model</h3>"
   ]
  },
  {
   "cell_type": "code",
   "execution_count": 16,
   "id": "49413d5a",
   "metadata": {},
   "outputs": [
    {
     "data": {
      "text/plain": [
       "{'gamma': 0,\n",
       " 'learning_rate': 0.1,\n",
       " 'max_depth': 4,\n",
       " 'min_child_weight': 4,\n",
       " 'n_estimators': 100}"
      ]
     },
     "execution_count": 16,
     "metadata": {},
     "output_type": "execute_result"
    }
   ],
   "source": [
    "# Retrieving the best parameters\n",
    "GridSearchOutput['best_params'][5]"
   ]
  },
  {
   "cell_type": "code",
   "execution_count": 17,
   "id": "67c5da25",
   "metadata": {},
   "outputs": [
    {
     "data": {
      "text/plain": [
       "0.9710144927536232"
      ]
     },
     "execution_count": 17,
     "metadata": {},
     "output_type": "execute_result"
    }
   ],
   "source": [
    "# instantiate the model\n",
    "\n",
    "xgb_clfier = xgb.XGBClassifier(n_estimators=100, gamma=0, learning_rate=0.1, max_depth=4, min_child_weight=4)\n",
    "\n",
    "# Fitting the model\n",
    "xgb_clfier.fit(X_train,y_train)\n",
    "\n",
    "# Checking the accuracy of the model\n",
    "xgb_clfier.score(X_train,y_train)\n"
   ]
  },
  {
   "cell_type": "code",
   "execution_count": 18,
   "id": "3ee8bc7e",
   "metadata": {},
   "outputs": [
    {
     "data": {
      "text/plain": [
       "0.9213483146067416"
      ]
     },
     "execution_count": 18,
     "metadata": {},
     "output_type": "execute_result"
    }
   ],
   "source": [
    "# Checking the accuracy of the model\n",
    "xgb_clfier.score(X_test,y_test)"
   ]
  },
  {
   "cell_type": "markdown",
   "id": "e0648988",
   "metadata": {},
   "source": [
    "<h3 style=\"color: green;\">Feature importance for XGB classifier</h3>"
   ]
  },
  {
   "cell_type": "code",
   "execution_count": 19,
   "id": "48fa1ae9",
   "metadata": {},
   "outputs": [
    {
     "data": {
      "image/png": "[encoded data removed]",
      "text/plain": [
       "<Figure size 640x480 with 1 Axes>"
      ]
     },
     "metadata": {},
     "output_type": "display_data"
    }
   ],
   "source": [
    "xgb_clfier_imp = pd.Series(xgb_clfier.feature_importances_, \n",
    "                    index=X_train.columns)\n",
    "\n",
    "# plotting importance\n",
    "# figure background\n",
    "fig = plt.figure()\n",
    "fig.patch.set_facecolor('#212121')\n",
    "fig.patch.set_alpha(0.95)\n",
    "\n",
    "ax = fig.add_subplot(111)\n",
    "ax.patch.set_facecolor('#212121')\n",
    "ax.patch.set_alpha(1.0)\n",
    "ax.yaxis.label.set_color('lime')\n",
    "ax.xaxis.label.set_color('lime')\n",
    "ax.title.set_color('lime')\n",
    "ax.tick_params(colors='lime', which='both')\n",
    "\n",
    "\n",
    "xgb_clfier_imp.nlargest(19).sort_values().plot(ax=ax,\n",
    "                                        kind='barh', \n",
    "                                        color='red',\n",
    "                                        title='XGB feature importance\\nImpurity based')\n",
    "plt.show()"
   ]
  },
  {
   "cell_type": "markdown",
   "id": "0505b95f",
   "metadata": {},
   "source": [
    "<h3 style=\"color: green;\">Balanced data best model</h3>"
   ]
  },
  {
   "cell_type": "code",
   "execution_count": 20,
   "id": "edfd84eb",
   "metadata": {},
   "outputs": [
    {
     "data": {
      "text/plain": [
       "{'gamma': 0,\n",
       " 'learning_rate': 0.05,\n",
       " 'max_depth': 8,\n",
       " 'min_child_weight': 4,\n",
       " 'n_estimators': 500}"
      ]
     },
     "execution_count": 20,
     "metadata": {},
     "output_type": "execute_result"
    }
   ],
   "source": [
    "# Retrieving the best parameters\n",
    "GridSearchOutput_balanced['best_params'][5]"
   ]
  },
  {
   "cell_type": "code",
   "execution_count": 21,
   "id": "8e4bbed3",
   "metadata": {},
   "outputs": [
    {
     "data": {
      "text/plain": [
       "0.9989384288747346"
      ]
     },
     "execution_count": 21,
     "metadata": {},
     "output_type": "execute_result"
    }
   ],
   "source": [
    "# instantiate the model\n",
    "\n",
    "xgb_clfier_B = xgb.XGBClassifier(n_estimators=500, gamma=0, learning_rate=0.05, max_depth=8, min_child_weight=4)\n",
    "\n",
    "# Fitting the model\n",
    "xgb_clfier_B.fit(X_train_resample,y_train_resample)\n",
    "\n",
    "# Checking the accuracy of the model\n",
    "xgb_clfier_B.score(X_train_resample,y_train_resample)\n"
   ]
  },
  {
   "cell_type": "code",
   "execution_count": 22,
   "id": "3bf69877",
   "metadata": {},
   "outputs": [
    {
     "data": {
      "text/plain": [
       "0.9550561797752809"
      ]
     },
     "execution_count": 22,
     "metadata": {},
     "output_type": "execute_result"
    }
   ],
   "source": [
    "# Checking the accuracy of the model\n",
    "xgb_clfier_B.score(X_test,y_test)"
   ]
  },
  {
   "cell_type": "code",
   "execution_count": 23,
   "id": "930235c1",
   "metadata": {},
   "outputs": [
    {
     "data": {
      "image/png": "[encoded data removed]",
      "text/plain": [
       "<Figure size 640x480 with 1 Axes>"
      ]
     },
     "metadata": {},
     "output_type": "display_data"
    }
   ],
   "source": [
    "xgb_clfier_imp_B = pd.Series(xgb_clfier_B.feature_importances_, \n",
    "                    index=X_train.columns)\n",
    "\n",
    "# plotting importance\n",
    "# figure background\n",
    "fig = plt.figure()\n",
    "fig.patch.set_facecolor('#212121')\n",
    "fig.patch.set_alpha(0.95)\n",
    "\n",
    "ax = fig.add_subplot(111)\n",
    "ax.patch.set_facecolor('#212121')\n",
    "ax.patch.set_alpha(1.0)\n",
    "ax.yaxis.label.set_color('lime')\n",
    "ax.xaxis.label.set_color('lime')\n",
    "ax.title.set_color('lime')\n",
    "ax.tick_params(colors='lime', which='both')\n",
    "\n",
    "\n",
    "xgb_clfier_imp_B.nlargest(19).sort_values().plot(ax=ax,\n",
    "                                        kind='barh', \n",
    "                                        color='red',\n",
    "                                        title='XGB feature importance\\nImpurity based')\n",
    "plt.show()"
   ]
  },
  {
   "cell_type": "markdown",
   "id": "892c3d5a",
   "metadata": {},
   "source": [
    "<h1 style=\"color: green;\">Evaluating the best model (XGBoost)</h1>\n",
    "<p style=\"color: red;\">\n",
    "This is done for the purpose of demonstrating knowledge in key areas.<br>\n",
    "</p>\n",
    "<p>\n",
    "    Below a comparison is made between two variations of the XGBoost models:<br>\n",
    "<ul>\n",
    "    <li><b>xgb_clfier</b>: model built with imbalanced data</li>\n",
    "    <li><b>xgb_clfier_B</b>: model built with balanced data</li>\n",
    "</ul>\n",
    "Since the objective is to determine whether I will have less than 5 shopping trips in a week,<br>\n",
    "the aim is to optimize the model for sensitivity i.e. to maximise the correct predictions of<br>\n",
    "less than 5 shopping trips in a week, true positives, while minimizing false negatives,<br>\n",
    "the model incorrectly predicts more than four shopping trips a week.<br><br>\n",
    "The comparison will also illustrate the advantage of using balanced data over imbalanced data.\n",
    "</p>"
   ]
  },
  {
   "cell_type": "markdown",
   "id": "880a3a51",
   "metadata": {},
   "source": [
    "<h3 style=\"color: green;\">Retrieving the models</h3>"
   ]
  },
  {
   "cell_type": "markdown",
   "id": "c5adb31e",
   "metadata": {},
   "source": [
    "<p style=\"color:red;\">Model 1: imbalanced data model</p>"
   ]
  },
  {
   "cell_type": "code",
   "execution_count": 24,
   "id": "b720086c",
   "metadata": {
    "scrolled": true
   },
   "outputs": [
    {
     "data": {
      "text/html": [
       "<style>#sk-container-id-1 {color: black;background-color: white;}#sk-container-id-1 pre{padding: 0;}#sk-container-id-1 div.sk-toggleable {background-color: white;}#sk-container-id-1 label.sk-toggleable__label {cursor: pointer;display: block;width: 100%;margin-bottom: 0;padding: 0.3em;box-sizing: border-box;text-align: center;}#sk-container-id-1 label.sk-toggleable__label-arrow:before {content: \"▸\";float: left;margin-right: 0.25em;color: #696969;}#sk-container-id-1 label.sk-toggleable__label-arrow:hover:before {color: black;}#sk-container-id-1 div.sk-estimator:hover label.sk-toggleable__label-arrow:before {color: black;}#sk-container-id-1 div.sk-toggleable__content {max-height: 0;max-width: 0;overflow: hidden;text-align: left;background-color: #f0f8ff;}#sk-container-id-1 div.sk-toggleable__content pre {margin: 0.2em;color: black;border-radius: 0.25em;background-color: #f0f8ff;}#sk-container-id-1 input.sk-toggleable__control:checked~div.sk-toggleable__content {max-height: 200px;max-width: 100%;overflow: auto;}#sk-container-id-1 input.sk-toggleable__control:checked~label.sk-toggleable__label-arrow:before {content: \"▾\";}#sk-container-id-1 div.sk-estimator input.sk-toggleable__control:checked~label.sk-toggleable__label {background-color: #d4ebff;}#sk-container-id-1 div.sk-label input.sk-toggleable__control:checked~label.sk-toggleable__label {background-color: #d4ebff;}#sk-container-id-1 input.sk-hidden--visually {border: 0;clip: rect(1px 1px 1px 1px);clip: rect(1px, 1px, 1px, 1px);height: 1px;margin: -1px;overflow: hidden;padding: 0;position: absolute;width: 1px;}#sk-container-id-1 div.sk-estimator {font-family: monospace;background-color: #f0f8ff;border: 1px dotted black;border-radius: 0.25em;box-sizing: border-box;margin-bottom: 0.5em;}#sk-container-id-1 div.sk-estimator:hover {background-color: #d4ebff;}#sk-container-id-1 div.sk-parallel-item::after {content: \"\";width: 100%;border-bottom: 1px solid gray;flex-grow: 1;}#sk-container-id-1 div.sk-label:hover label.sk-toggleable__label {background-color: #d4ebff;}#sk-container-id-1 div.sk-serial::before {content: \"\";position: absolute;border-left: 1px solid gray;box-sizing: border-box;top: 0;bottom: 0;left: 50%;z-index: 0;}#sk-container-id-1 div.sk-serial {display: flex;flex-direction: column;align-items: center;background-color: white;padding-right: 0.2em;padding-left: 0.2em;position: relative;}#sk-container-id-1 div.sk-item {position: relative;z-index: 1;}#sk-container-id-1 div.sk-parallel {display: flex;align-items: stretch;justify-content: center;background-color: white;position: relative;}#sk-container-id-1 div.sk-item::before, #sk-container-id-1 div.sk-parallel-item::before {content: \"\";position: absolute;border-left: 1px solid gray;box-sizing: border-box;top: 0;bottom: 0;left: 50%;z-index: -1;}#sk-container-id-1 div.sk-parallel-item {display: flex;flex-direction: column;z-index: 1;position: relative;background-color: white;}#sk-container-id-1 div.sk-parallel-item:first-child::after {align-self: flex-end;width: 50%;}#sk-container-id-1 div.sk-parallel-item:last-child::after {align-self: flex-start;width: 50%;}#sk-container-id-1 div.sk-parallel-item:only-child::after {width: 0;}#sk-container-id-1 div.sk-dashed-wrapped {border: 1px dashed gray;margin: 0 0.4em 0.5em 0.4em;box-sizing: border-box;padding-bottom: 0.4em;background-color: white;}#sk-container-id-1 div.sk-label label {font-family: monospace;font-weight: bold;display: inline-block;line-height: 1.2em;}#sk-container-id-1 div.sk-label-container {text-align: center;}#sk-container-id-1 div.sk-container {/* jupyter's `normalize.less` sets `[hidden] { display: none; }` but bootstrap.min.css set `[hidden] { display: none !important; }` so we also need the `!important` here to be able to override the default hidden behavior on the sphinx rendered scikit-learn.org. See: https://github.com/scikit-learn/scikit-learn/issues/21755 */display: inline-block !important;position: relative;}#sk-container-id-1 div.sk-text-repr-fallback {display: none;}</style><div id=\"sk-container-id-1\" class=\"sk-top-container\"><div class=\"sk-text-repr-fallback\"><pre>XGBClassifier(base_score=None, booster=None, callbacks=None,\n",
       "              colsample_bylevel=None, colsample_bynode=None,\n",
       "              colsample_bytree=None, early_stopping_rounds=None,\n",
       "              enable_categorical=False, eval_metric=None, feature_types=None,\n",
       "              gamma=0, gpu_id=None, grow_policy=None, importance_type=None,\n",
       "              interaction_constraints=None, learning_rate=0.1, max_bin=None,\n",
       "              max_cat_threshold=None, max_cat_to_onehot=None,\n",
       "              max_delta_step=None, max_depth=4, max_leaves=None,\n",
       "              min_child_weight=4, missing=nan, monotone_constraints=None,\n",
       "              n_estimators=100, n_jobs=None, num_parallel_tree=None,\n",
       "              predictor=None, random_state=None, ...)</pre><b>In a Jupyter environment, please rerun this cell to show the HTML representation or trust the notebook. <br />On GitHub, the HTML representation is unable to render, please try loading this page with nbviewer.org.</b></div><div class=\"sk-container\" hidden><div class=\"sk-item\"><div class=\"sk-estimator sk-toggleable\"><input class=\"sk-toggleable__control sk-hidden--visually\" id=\"sk-estimator-id-1\" type=\"checkbox\" checked><label for=\"sk-estimator-id-1\" class=\"sk-toggleable__label sk-toggleable__label-arrow\">XGBClassifier</label><div class=\"sk-toggleable__content\"><pre>XGBClassifier(base_score=None, booster=None, callbacks=None,\n",
       "              colsample_bylevel=None, colsample_bynode=None,\n",
       "              colsample_bytree=None, early_stopping_rounds=None,\n",
       "              enable_categorical=False, eval_metric=None, feature_types=None,\n",
       "              gamma=0, gpu_id=None, grow_policy=None, importance_type=None,\n",
       "              interaction_constraints=None, learning_rate=0.1, max_bin=None,\n",
       "              max_cat_threshold=None, max_cat_to_onehot=None,\n",
       "              max_delta_step=None, max_depth=4, max_leaves=None,\n",
       "              min_child_weight=4, missing=nan, monotone_constraints=None,\n",
       "              n_estimators=100, n_jobs=None, num_parallel_tree=None,\n",
       "              predictor=None, random_state=None, ...)</pre></div></div></div></div></div>"
      ],
      "text/plain": [
       "XGBClassifier(base_score=None, booster=None, callbacks=None,\n",
       "              colsample_bylevel=None, colsample_bynode=None,\n",
       "              colsample_bytree=None, early_stopping_rounds=None,\n",
       "              enable_categorical=False, eval_metric=None, feature_types=None,\n",
       "              gamma=0, gpu_id=None, grow_policy=None, importance_type=None,\n",
       "              interaction_constraints=None, learning_rate=0.1, max_bin=None,\n",
       "              max_cat_threshold=None, max_cat_to_onehot=None,\n",
       "              max_delta_step=None, max_depth=4, max_leaves=None,\n",
       "              min_child_weight=4, missing=nan, monotone_constraints=None,\n",
       "              n_estimators=100, n_jobs=None, num_parallel_tree=None,\n",
       "              predictor=None, random_state=None, ...)"
      ]
     },
     "execution_count": 24,
     "metadata": {},
     "output_type": "execute_result"
    }
   ],
   "source": [
    "xgb_clfier"
   ]
  },
  {
   "cell_type": "markdown",
   "id": "6c4ed029",
   "metadata": {},
   "source": [
    "<p style=\"color:red;\">Model 2: SMOTE balanced data model</p>"
   ]
  },
  {
   "cell_type": "code",
   "execution_count": 25,
   "id": "9182cfbb",
   "metadata": {},
   "outputs": [
    {
     "data": {
      "text/html": [
       "<style>#sk-container-id-2 {color: black;background-color: white;}#sk-container-id-2 pre{padding: 0;}#sk-container-id-2 div.sk-toggleable {background-color: white;}#sk-container-id-2 label.sk-toggleable__label {cursor: pointer;display: block;width: 100%;margin-bottom: 0;padding: 0.3em;box-sizing: border-box;text-align: center;}#sk-container-id-2 label.sk-toggleable__label-arrow:before {content: \"▸\";float: left;margin-right: 0.25em;color: #696969;}#sk-container-id-2 label.sk-toggleable__label-arrow:hover:before {color: black;}#sk-container-id-2 div.sk-estimator:hover label.sk-toggleable__label-arrow:before {color: black;}#sk-container-id-2 div.sk-toggleable__content {max-height: 0;max-width: 0;overflow: hidden;text-align: left;background-color: #f0f8ff;}#sk-container-id-2 div.sk-toggleable__content pre {margin: 0.2em;color: black;border-radius: 0.25em;background-color: #f0f8ff;}#sk-container-id-2 input.sk-toggleable__control:checked~div.sk-toggleable__content {max-height: 200px;max-width: 100%;overflow: auto;}#sk-container-id-2 input.sk-toggleable__control:checked~label.sk-toggleable__label-arrow:before {content: \"▾\";}#sk-container-id-2 div.sk-estimator input.sk-toggleable__control:checked~label.sk-toggleable__label {background-color: #d4ebff;}#sk-container-id-2 div.sk-label input.sk-toggleable__control:checked~label.sk-toggleable__label {background-color: #d4ebff;}#sk-container-id-2 input.sk-hidden--visually {border: 0;clip: rect(1px 1px 1px 1px);clip: rect(1px, 1px, 1px, 1px);height: 1px;margin: -1px;overflow: hidden;padding: 0;position: absolute;width: 1px;}#sk-container-id-2 div.sk-estimator {font-family: monospace;background-color: #f0f8ff;border: 1px dotted black;border-radius: 0.25em;box-sizing: border-box;margin-bottom: 0.5em;}#sk-container-id-2 div.sk-estimator:hover {background-color: #d4ebff;}#sk-container-id-2 div.sk-parallel-item::after {content: \"\";width: 100%;border-bottom: 1px solid gray;flex-grow: 1;}#sk-container-id-2 div.sk-label:hover label.sk-toggleable__label {background-color: #d4ebff;}#sk-container-id-2 div.sk-serial::before {content: \"\";position: absolute;border-left: 1px solid gray;box-sizing: border-box;top: 0;bottom: 0;left: 50%;z-index: 0;}#sk-container-id-2 div.sk-serial {display: flex;flex-direction: column;align-items: center;background-color: white;padding-right: 0.2em;padding-left: 0.2em;position: relative;}#sk-container-id-2 div.sk-item {position: relative;z-index: 1;}#sk-container-id-2 div.sk-parallel {display: flex;align-items: stretch;justify-content: center;background-color: white;position: relative;}#sk-container-id-2 div.sk-item::before, #sk-container-id-2 div.sk-parallel-item::before {content: \"\";position: absolute;border-left: 1px solid gray;box-sizing: border-box;top: 0;bottom: 0;left: 50%;z-index: -1;}#sk-container-id-2 div.sk-parallel-item {display: flex;flex-direction: column;z-index: 1;position: relative;background-color: white;}#sk-container-id-2 div.sk-parallel-item:first-child::after {align-self: flex-end;width: 50%;}#sk-container-id-2 div.sk-parallel-item:last-child::after {align-self: flex-start;width: 50%;}#sk-container-id-2 div.sk-parallel-item:only-child::after {width: 0;}#sk-container-id-2 div.sk-dashed-wrapped {border: 1px dashed gray;margin: 0 0.4em 0.5em 0.4em;box-sizing: border-box;padding-bottom: 0.4em;background-color: white;}#sk-container-id-2 div.sk-label label {font-family: monospace;font-weight: bold;display: inline-block;line-height: 1.2em;}#sk-container-id-2 div.sk-label-container {text-align: center;}#sk-container-id-2 div.sk-container {/* jupyter's `normalize.less` sets `[hidden] { display: none; }` but bootstrap.min.css set `[hidden] { display: none !important; }` so we also need the `!important` here to be able to override the default hidden behavior on the sphinx rendered scikit-learn.org. See: https://github.com/scikit-learn/scikit-learn/issues/21755 */display: inline-block !important;position: relative;}#sk-container-id-2 div.sk-text-repr-fallback {display: none;}</style><div id=\"sk-container-id-2\" class=\"sk-top-container\"><div class=\"sk-text-repr-fallback\"><pre>XGBClassifier(base_score=None, booster=None, callbacks=None,\n",
       "              colsample_bylevel=None, colsample_bynode=None,\n",
       "              colsample_bytree=None, early_stopping_rounds=None,\n",
       "              enable_categorical=False, eval_metric=None, feature_types=None,\n",
       "              gamma=0, gpu_id=None, grow_policy=None, importance_type=None,\n",
       "              interaction_constraints=None, learning_rate=0.05, max_bin=None,\n",
       "              max_cat_threshold=None, max_cat_to_onehot=None,\n",
       "              max_delta_step=None, max_depth=8, max_leaves=None,\n",
       "              min_child_weight=4, missing=nan, monotone_constraints=None,\n",
       "              n_estimators=500, n_jobs=None, num_parallel_tree=None,\n",
       "              predictor=None, random_state=None, ...)</pre><b>In a Jupyter environment, please rerun this cell to show the HTML representation or trust the notebook. <br />On GitHub, the HTML representation is unable to render, please try loading this page with nbviewer.org.</b></div><div class=\"sk-container\" hidden><div class=\"sk-item\"><div class=\"sk-estimator sk-toggleable\"><input class=\"sk-toggleable__control sk-hidden--visually\" id=\"sk-estimator-id-2\" type=\"checkbox\" checked><label for=\"sk-estimator-id-2\" class=\"sk-toggleable__label sk-toggleable__label-arrow\">XGBClassifier</label><div class=\"sk-toggleable__content\"><pre>XGBClassifier(base_score=None, booster=None, callbacks=None,\n",
       "              colsample_bylevel=None, colsample_bynode=None,\n",
       "              colsample_bytree=None, early_stopping_rounds=None,\n",
       "              enable_categorical=False, eval_metric=None, feature_types=None,\n",
       "              gamma=0, gpu_id=None, grow_policy=None, importance_type=None,\n",
       "              interaction_constraints=None, learning_rate=0.05, max_bin=None,\n",
       "              max_cat_threshold=None, max_cat_to_onehot=None,\n",
       "              max_delta_step=None, max_depth=8, max_leaves=None,\n",
       "              min_child_weight=4, missing=nan, monotone_constraints=None,\n",
       "              n_estimators=500, n_jobs=None, num_parallel_tree=None,\n",
       "              predictor=None, random_state=None, ...)</pre></div></div></div></div></div>"
      ],
      "text/plain": [
       "XGBClassifier(base_score=None, booster=None, callbacks=None,\n",
       "              colsample_bylevel=None, colsample_bynode=None,\n",
       "              colsample_bytree=None, early_stopping_rounds=None,\n",
       "              enable_categorical=False, eval_metric=None, feature_types=None,\n",
       "              gamma=0, gpu_id=None, grow_policy=None, importance_type=None,\n",
       "              interaction_constraints=None, learning_rate=0.05, max_bin=None,\n",
       "              max_cat_threshold=None, max_cat_to_onehot=None,\n",
       "              max_delta_step=None, max_depth=8, max_leaves=None,\n",
       "              min_child_weight=4, missing=nan, monotone_constraints=None,\n",
       "              n_estimators=500, n_jobs=None, num_parallel_tree=None,\n",
       "              predictor=None, random_state=None, ...)"
      ]
     },
     "execution_count": 25,
     "metadata": {},
     "output_type": "execute_result"
    }
   ],
   "source": [
    "xgb_clfier_B"
   ]
  },
  {
   "cell_type": "markdown",
   "id": "6bccb4bd",
   "metadata": {},
   "source": [
    "<h3 style=\"color: green;\">Confusion matrix</h3>"
   ]
  },
  {
   "cell_type": "markdown",
   "id": "c5beb0bf",
   "metadata": {},
   "source": [
    "<h1>\n",
    "$\\begin {bmatrix} Sample size=n & Predicted: 0 & Predicted: 1 \n",
    "\\\\ Actual: 0 & TN & FP \n",
    "\\\\ Actual: 1 & FN & TP  \n",
    "\\end{bmatrix}$\n",
    "</h1>"
   ]
  },
  {
   "cell_type": "markdown",
   "id": "4d54dc32",
   "metadata": {},
   "source": [
    "<ul style=\"color: black;\">\n",
    "<b style=\"color: green;\">Basic terminolgy:</b>\n",
    "<li><b>True positive(TP): </b> we correctly predicted that they do have the condition</li>\n",
    "<li><b>True negatives(TN): </b> we correctly predicted that they don't have the condition</li>\n",
    "<li><b>False positive (FP):</b> we incorrectly predicted that they do have the condition ( a <b>\"Type I error\"</b>)</li>\n",
    "<li><b>False negatives (FN):</b> we incorrectly predicted that they don't have the condition (a <b>\"Type II error\"</b>)</li>\n",
    "</ul>"
   ]
  },
  {
   "cell_type": "markdown",
   "id": "df0b925e",
   "metadata": {},
   "source": [
    "<p style=\"color: red;\">Model 1</p>"
   ]
  },
  {
   "cell_type": "code",
   "execution_count": 26,
   "id": "e998c75f",
   "metadata": {},
   "outputs": [
    {
     "data": {
      "text/plain": [
       "(267,)"
      ]
     },
     "execution_count": 26,
     "metadata": {},
     "output_type": "execute_result"
    }
   ],
   "source": [
    "m1_y_pred = xgb_clfier.predict(X_test)\n",
    "m1_y_pred.shape"
   ]
  },
  {
   "cell_type": "code",
   "execution_count": 27,
   "id": "69daf43c",
   "metadata": {},
   "outputs": [
    {
     "data": {
      "text/plain": [
       "(267,)"
      ]
     },
     "execution_count": 27,
     "metadata": {},
     "output_type": "execute_result"
    }
   ],
   "source": [
    "y_test.shape"
   ]
  },
  {
   "cell_type": "code",
   "execution_count": 28,
   "id": "23372092",
   "metadata": {},
   "outputs": [
    {
     "data": {
      "text/plain": [
       "array([[194,   5],\n",
       "       [ 16,  52]])"
      ]
     },
     "execution_count": 28,
     "metadata": {},
     "output_type": "execute_result"
    }
   ],
   "source": [
    "m1_confusion_matrix = confusion_matrix(y_test,m1_y_pred)\n",
    "m1_confusion_matrix"
   ]
  },
  {
   "cell_type": "markdown",
   "id": "fce1bea6",
   "metadata": {},
   "source": [
    "<h1>\n",
    "$\\begin {bmatrix} n=267 & Predicted: 0 & Predicted: 1 & Totals\n",
    "\\\\ Actual: 0 & 194 & 5 & 199\n",
    "\\\\ Actual: 1 & 16 & 52  & 68\n",
    "\\\\ Totals: & 210 & 57 & 267\n",
    "\\end{bmatrix}$\n",
    "</h1>"
   ]
  },
  {
   "cell_type": "code",
   "execution_count": 29,
   "id": "0df116fa",
   "metadata": {},
   "outputs": [],
   "source": [
    "# unraveling the confusion matrix\n",
    "m1_tn,m1_fp,m1_fn,m1_tp = confusion_matrix(y_test,m1_y_pred).ravel()"
   ]
  },
  {
   "cell_type": "markdown",
   "id": "9dee8eaa",
   "metadata": {},
   "source": [
    "<p style=\"color: red;\">Model 2</p>"
   ]
  },
  {
   "cell_type": "code",
   "execution_count": 30,
   "id": "38f14abc",
   "metadata": {},
   "outputs": [
    {
     "data": {
      "text/plain": [
       "(267,)"
      ]
     },
     "execution_count": 30,
     "metadata": {},
     "output_type": "execute_result"
    }
   ],
   "source": [
    "m2_y_pred = xgb_clfier_B.predict(X_test)\n",
    "m2_y_pred.shape"
   ]
  },
  {
   "cell_type": "code",
   "execution_count": 31,
   "id": "1c41e59c",
   "metadata": {},
   "outputs": [
    {
     "data": {
      "text/plain": [
       "(267,)"
      ]
     },
     "execution_count": 31,
     "metadata": {},
     "output_type": "execute_result"
    }
   ],
   "source": [
    "y_test.shape"
   ]
  },
  {
   "cell_type": "code",
   "execution_count": 32,
   "id": "1f0305c7",
   "metadata": {},
   "outputs": [
    {
     "data": {
      "text/plain": [
       "array([[196,   3],\n",
       "       [  9,  59]])"
      ]
     },
     "execution_count": 32,
     "metadata": {},
     "output_type": "execute_result"
    }
   ],
   "source": [
    "m2_confusion_matrix = confusion_matrix(y_test,m2_y_pred)\n",
    "m2_confusion_matrix"
   ]
  },
  {
   "cell_type": "markdown",
   "id": "f0712b5a",
   "metadata": {},
   "source": [
    "<h1>\n",
    "$\\begin {bmatrix} n=267 & Predicted: 0 & Predicted: 1 & Totals\n",
    "\\\\ Actual: 0 & 196 & 3 & 199\n",
    "\\\\ Actual: 1 & 9 & 59  & 68\n",
    "\\\\ Totals: & 205 & 62 & 267\n",
    "\\end{bmatrix}$\n",
    "</h1>"
   ]
  },
  {
   "cell_type": "code",
   "execution_count": 33,
   "id": "4b65c32b",
   "metadata": {},
   "outputs": [],
   "source": [
    "# unraveling the confusion matrix\n",
    "m2_tn,m2_fp,m2_fn,m2_tp = confusion_matrix(y_test,m2_y_pred).ravel()"
   ]
  },
  {
   "cell_type": "markdown",
   "id": "78310d40",
   "metadata": {},
   "source": [
    "<h3 style=\"color: green;\">Sensitivity(recall): when the actual value is positive,how often is the prediction correct</h3>"
   ]
  },
  {
   "cell_type": "markdown",
   "id": "e0d28ede",
   "metadata": {},
   "source": [
    "<p style=\"color: red;\">Model 1</p>"
   ]
  },
  {
   "cell_type": "code",
   "execution_count": 34,
   "id": "0a94538b",
   "metadata": {},
   "outputs": [
    {
     "name": "stdout",
     "output_type": "stream",
     "text": [
      "Model 1 sensitivity via recall_score: 0.7647058823529411\n",
      "Model 1 hand calculated sensitivity: 0.7647058823529411\n"
     ]
    }
   ],
   "source": [
    "m1_sensitivity = recall_score(y_test,m1_y_pred)\n",
    "print(\"Model 1 sensitivity via recall_score: {}\".format(m1_sensitivity))\n",
    "\n",
    "print(\"Model 1 hand calculated sensitivity: {}\".format(m1_tp /(m1_tp + m1_fn)))"
   ]
  },
  {
   "cell_type": "markdown",
   "id": "17a53b9b",
   "metadata": {},
   "source": [
    "<p style=\"color: red;\">Model 2</p>"
   ]
  },
  {
   "cell_type": "code",
   "execution_count": 35,
   "id": "e7ecff7c",
   "metadata": {},
   "outputs": [
    {
     "name": "stdout",
     "output_type": "stream",
     "text": [
      "Model 2 sensitivity via recall_score: 0.8676470588235294\n",
      "Model 2 hand calculated sensitivity: 0.8676470588235294\n"
     ]
    }
   ],
   "source": [
    "    m2_sensitivity = recall_score(y_test,m2_y_pred)\n",
    "print(\"Model 2 sensitivity via recall_score: {}\".format(m2_sensitivity))\n",
    "\n",
    "print(\"Model 2 hand calculated sensitivity: {}\".format(m2_tp /(m2_tp + m2_fn)))"
   ]
  },
  {
   "cell_type": "code",
   "execution_count": 36,
   "id": "92364407",
   "metadata": {},
   "outputs": [
    {
     "data": {
      "text/plain": [
       "0.13461538461538472"
      ]
     },
     "execution_count": 36,
     "metadata": {},
     "output_type": "execute_result"
    }
   ],
   "source": [
    "# Calculating the percentage difference in sensitivity between the models\n",
    "(0.8676470588235294 - 0.7647058823529411)/0.7647058823529411"
   ]
  },
  {
   "cell_type": "markdown",
   "id": "d47e8820",
   "metadata": {},
   "source": [
    "<p>\n",
    "It can be seen above that the balanced data has 13% improvement in sensitivity:<br>\n",
    "This means that the second model is more accurate when it comes to correctly<br>\n",
    "predicting less than 5 shopping trips per week\n",
    "</p>"
   ]
  },
  {
   "cell_type": "markdown",
   "id": "4e3b53c7",
   "metadata": {},
   "source": [
    "<h3 style=\"color: green;\">Specificity: When the actual value is negative, how often is the prediction correct</h3>"
   ]
  },
  {
   "cell_type": "markdown",
   "id": "e3362fb5",
   "metadata": {},
   "source": [
    "<p style=\"color: red;\">Model 1</p>"
   ]
  },
  {
   "cell_type": "code",
   "execution_count": 37,
   "id": "612648df",
   "metadata": {},
   "outputs": [
    {
     "name": "stdout",
     "output_type": "stream",
     "text": [
      "Model 1 specificity: 0.9748743718592965\n"
     ]
    }
   ],
   "source": [
    "m1_Specificity = m1_tn/(m1_tn + m1_fp)\n",
    "print(\"Model 1 specificity: {}\".format(m1_Specificity))"
   ]
  },
  {
   "cell_type": "markdown",
   "id": "037e3baa",
   "metadata": {},
   "source": [
    "<p style=\"color: red;\">Model 2</p>"
   ]
  },
  {
   "cell_type": "code",
   "execution_count": 38,
   "id": "92d0ebf3",
   "metadata": {},
   "outputs": [
    {
     "name": "stdout",
     "output_type": "stream",
     "text": [
      "Model 2 specificity: 0.9849246231155779\n"
     ]
    }
   ],
   "source": [
    "m2_Specificity = m2_tn/(m2_tn + m2_fp)\n",
    "print(\"Model 2 specificity: {}\".format(m2_Specificity))"
   ]
  },
  {
   "cell_type": "markdown",
   "id": "9a94d3f3",
   "metadata": {},
   "source": [
    "<p>\n",
    "There is negligible difference between the two models with respect to specificity.<br>\n",
    "However, model 2 has a near perfect score of 98%: demonstrating the superiority of oversampling.<br><br>\n",
    "\n",
    "Both the models have higher specificity than sensitivity. This means the models predicts negative<br>\n",
    "instances better than it does positive instances i.e. the model is better at telling when<br>\n",
    "I'm going to have more than 4 shopping trips in a week than when I'm going to have 4 <br>\n",
    "or less shopping trips in a week.\n",
    "</p>"
   ]
  },
  {
   "cell_type": "markdown",
   "id": "58f2f9cb",
   "metadata": {},
   "source": [
    "<h3 style=\"color: green;\">Precision: when a positive value is predicted, how often is the prediction correct</h3>"
   ]
  },
  {
   "cell_type": "markdown",
   "id": "038d3229",
   "metadata": {},
   "source": [
    "<p style=\"color: red;\">Model 1</p>"
   ]
  },
  {
   "cell_type": "code",
   "execution_count": 39,
   "id": "d6607e8d",
   "metadata": {},
   "outputs": [
    {
     "name": "stdout",
     "output_type": "stream",
     "text": [
      "Model 1 precision: 0.9122807017543859\n"
     ]
    }
   ],
   "source": [
    "m1_precision = m1_tp / (m1_tp + m1_fp)\n",
    "print(\"Model 1 precision: {}\".format(m1_precision))"
   ]
  },
  {
   "cell_type": "markdown",
   "id": "fe723358",
   "metadata": {},
   "source": [
    "<p style=\"color: red;\">Model 2</p>"
   ]
  },
  {
   "cell_type": "code",
   "execution_count": 40,
   "id": "8901bb69",
   "metadata": {},
   "outputs": [
    {
     "name": "stdout",
     "output_type": "stream",
     "text": [
      "Model 2 precision: 0.9516129032258065\n"
     ]
    }
   ],
   "source": [
    "m2_precision = m2_tp / (m2_tp + m2_fp)\n",
    "print(\"Model 2 precision: {}\".format(m2_precision))"
   ]
  },
  {
   "cell_type": "code",
   "execution_count": 41,
   "id": "1fc74023",
   "metadata": {},
   "outputs": [
    {
     "data": {
      "text/plain": [
       "0.043114143920595635"
      ]
     },
     "execution_count": 41,
     "metadata": {},
     "output_type": "execute_result"
    }
   ],
   "source": [
    "# calculating the precision percentage difference between model 1 and model 2\n",
    "(0.9516129032258065 - 0.9122807017543859)/0.9122807017543859"
   ]
  },
  {
   "cell_type": "code",
   "execution_count": 42,
   "id": "243d9fe1",
   "metadata": {},
   "outputs": [
    {
     "data": {
      "text/plain": [
       "array([[194,   5],\n",
       "       [ 16,  52]])"
      ]
     },
     "execution_count": 42,
     "metadata": {},
     "output_type": "execute_result"
    }
   ],
   "source": [
    "m1_confusion_matrix"
   ]
  },
  {
   "cell_type": "code",
   "execution_count": 43,
   "id": "b1d0aec5",
   "metadata": {},
   "outputs": [
    {
     "data": {
      "text/plain": [
       "array([[196,   3],\n",
       "       [  9,  59]])"
      ]
     },
     "execution_count": 43,
     "metadata": {},
     "output_type": "execute_result"
    }
   ],
   "source": [
    "m2_confusion_matrix"
   ]
  },
  {
   "cell_type": "markdown",
   "id": "42ca54ac",
   "metadata": {},
   "source": [
    "<p style=\"color: black;\">\n",
    "It must be noted that the models have very high precision: the proportion of the true<br> \n",
    "positive rates are higher than false positive rates for both models. However, model 2 has a<br>\n",
    "4% lead with respect to precision.<br> \n",
    "Thus atleast 91% of the time when the models say I'm going to have 4 or less shopping trips per week, it's often right.\n",
    "</p>"
   ]
  },
  {
   "cell_type": "markdown",
   "id": "40b79375",
   "metadata": {},
   "source": [
    "<p>\n",
    "<b>The performance improvement of balancing the data is evident.</b> Thus final model feature selection and threshold tuning will be done with the balanced data model.\n",
    "</p>"
   ]
  },
  {
   "cell_type": "markdown",
   "id": "469d7431",
   "metadata": {},
   "source": [
    "<h1 style=\"color: green;\">Final model feature selection</h1>"
   ]
  },
  {
   "cell_type": "code",
   "execution_count": 44,
   "id": "8b743e34",
   "metadata": {},
   "outputs": [
    {
     "data": {
      "text/plain": [
       "(942, 80)"
      ]
     },
     "execution_count": 44,
     "metadata": {},
     "output_type": "execute_result"
    }
   ],
   "source": [
    "# shape of X_train_resample before final feature selection\n",
    "X_train_resample.shape"
   ]
  },
  {
   "cell_type": "code",
   "execution_count": 45,
   "id": "fcef6504",
   "metadata": {},
   "outputs": [],
   "source": [
    "# select features using the impotance derived from XGBoost\n",
    "sel_ = SelectFromModel(xgb.XGBClassifier(n_estimators=500, \n",
    "                                         gamma=0, \n",
    "                                         learning_rate=0.05, \n",
    "                                         max_depth=8, \n",
    "                                         min_child_weight=4))\n",
    "\n",
    "sel_.fit(X_train_resample, y_train_resample)\n",
    "\n",
    "# remove features with zero coefficient from dataset\n",
    "# and parse again as dataframe (output of sklearn is\n",
    "# numpy array)\n",
    "X_train_xgb = pd.DataFrame(sel_.transform(X_train_resample))\n",
    "X_test_xgb = pd.DataFrame(sel_.transform(X_test))\n",
    "\n",
    "# add the columns name\n",
    "X_train_xgb.columns = X_train_resample.columns[(sel_.get_support())]\n",
    "X_test_xgb.columns = X_test.columns[(sel_.get_support())]"
   ]
  },
  {
   "cell_type": "code",
   "execution_count": 46,
   "id": "51245a20",
   "metadata": {},
   "outputs": [
    {
     "data": {
      "text/plain": [
       "(942, 28)"
      ]
     },
     "execution_count": 46,
     "metadata": {},
     "output_type": "execute_result"
    }
   ],
   "source": [
    "# Shape of X_train_resample/X_train_xgb after final feature selection\n",
    "# As can be seen the number of features has been reduced to 28\n",
    "X_train_xgb.shape"
   ]
  },
  {
   "cell_type": "code",
   "execution_count": 47,
   "id": "9db5d340",
   "metadata": {},
   "outputs": [
    {
     "data": {
      "text/plain": [
       "Index(['Total_Nbr_of_Items', 'Venue', 'Date_diff', 'Nbr_items_per_wk',\n",
       "       'Expenditure_per_wk', 'Total_Exp_wk_perc', 'Drinks', 'Vegetables',\n",
       "       'Cosmetics_and_selfcare', 'House_and_kitchen', 'Bread_wk',\n",
       "       'Cooked_meats_wk', 'Raw_meats_wk', 'Snacks_wk', 'Snacks_exp_receipt',\n",
       "       'Snacks_exp_wk', 'Drinks_wk', 'Drinks_exp_wk', 'Vegetables_exp_wk',\n",
       "       'Fruit_wk', 'Cooking_base_wk', 'Dairy_produce_wk', 'Seasoning_wk',\n",
       "       'Breakfast_wk', 'Education_wk', 'Cosmetics_and_selfcare_wk',\n",
       "       'Cosmetics_and_selfcare_wk_exp_perc', 'House_and_kitchen_wk'],\n",
       "      dtype='object')"
      ]
     },
     "execution_count": 47,
     "metadata": {},
     "output_type": "execute_result"
    }
   ],
   "source": [
    "# features remaining in the model\n",
    "X_train_xgb.columns"
   ]
  },
  {
   "cell_type": "code",
   "execution_count": 48,
   "id": "6fe89c97",
   "metadata": {},
   "outputs": [
    {
     "data": {
      "text/plain": [
       "0.994692144373673"
      ]
     },
     "execution_count": 48,
     "metadata": {},
     "output_type": "execute_result"
    }
   ],
   "source": [
    "# Re-running the model with the final features\n",
    "# instantiate the model\n",
    "\n",
    "xgb_clfier_final_features = xgb.XGBClassifier(n_estimators=500, \n",
    "                                             gamma=0, \n",
    "                                             learning_rate=0.05, \n",
    "                                             max_depth=8, \n",
    "                                             min_child_weight=4)\n",
    "\n",
    "# Fitting the model\n",
    "xgb_clfier_final_features.fit(X_train_xgb,y_train_resample)\n",
    "\n",
    "# Checking the accuracy of the model\n",
    "xgb_clfier_final_features.score(X_train_xgb,y_train_resample)\n"
   ]
  },
  {
   "cell_type": "code",
   "execution_count": 49,
   "id": "ab258ee5",
   "metadata": {},
   "outputs": [
    {
     "data": {
      "text/plain": [
       "0.9625468164794008"
      ]
     },
     "execution_count": 49,
     "metadata": {},
     "output_type": "execute_result"
    }
   ],
   "source": [
    "xgb_clfier_final_features.score(X_test_xgb,y_test)"
   ]
  },
  {
   "cell_type": "markdown",
   "id": "38a2d96f",
   "metadata": {},
   "source": [
    "<p>\n",
    "Both the training and test scores are much higher than previous run with the balanced data.<br>\n",
    "Which means the removal of some features has resulted in a much better model.\n",
    "</p>"
   ]
  },
  {
   "cell_type": "markdown",
   "id": "e6abab8a",
   "metadata": {},
   "source": [
    "<h3 style=\"color: green;\">Final model feature selection importance</h3>"
   ]
  },
  {
   "cell_type": "code",
   "execution_count": 50,
   "id": "9fd1f406",
   "metadata": {},
   "outputs": [
    {
     "data": {
      "image/png": "[encoded data removed]",
      "text/plain": [
       "<Figure size 640x480 with 1 Axes>"
      ]
     },
     "metadata": {},
     "output_type": "display_data"
    }
   ],
   "source": [
    "xgb_clfier_final_features_imp = pd.Series(xgb_clfier_final_features.feature_importances_, \n",
    "                    index=X_train_xgb.columns)\n",
    "\n",
    "# plotting importance\n",
    "# figure background\n",
    "fig = plt.figure()\n",
    "fig.patch.set_facecolor('#212121')\n",
    "fig.patch.set_alpha(0.95)\n",
    "\n",
    "ax = fig.add_subplot(111)\n",
    "ax.patch.set_facecolor('#212121')\n",
    "ax.patch.set_alpha(1.0)\n",
    "ax.yaxis.label.set_color('lime')\n",
    "ax.xaxis.label.set_color('lime')\n",
    "ax.title.set_color('lime')\n",
    "ax.tick_params(colors='lime', which='both')\n",
    "\n",
    "\n",
    "xgb_clfier_final_features_imp.nlargest(31).sort_values().plot(ax=ax,\n",
    "                                        kind='barh', \n",
    "                                        color='red',\n",
    "                                        title='XGB feature importance\\nImpurity based')\n",
    "plt.show()"
   ]
  },
  {
   "cell_type": "markdown",
   "id": "04af041b",
   "metadata": {},
   "source": [
    "<h1 style=\"color: green;\">Evaluating the final model (XGBoost with balanced data)</h1>"
   ]
  },
  {
   "cell_type": "code",
   "execution_count": 51,
   "id": "468ad61b",
   "metadata": {},
   "outputs": [
    {
     "data": {
      "text/plain": [
       "(267,)"
      ]
     },
     "execution_count": 51,
     "metadata": {},
     "output_type": "execute_result"
    }
   ],
   "source": [
    "final_y_pred = xgb_clfier_final_features.predict(X_test_xgb)\n",
    "final_y_pred.shape"
   ]
  },
  {
   "cell_type": "code",
   "execution_count": 52,
   "id": "4bb33b5b",
   "metadata": {},
   "outputs": [
    {
     "data": {
      "text/plain": [
       "(267,)"
      ]
     },
     "execution_count": 52,
     "metadata": {},
     "output_type": "execute_result"
    }
   ],
   "source": [
    "y_test.shape"
   ]
  },
  {
   "cell_type": "code",
   "execution_count": 65,
   "id": "9587f3d0",
   "metadata": {},
   "outputs": [
    {
     "data": {
      "text/plain": [
       "array([[196,   3],\n",
       "       [  7,  61]])"
      ]
     },
     "execution_count": 65,
     "metadata": {},
     "output_type": "execute_result"
    }
   ],
   "source": [
    "final_confusion_matrix = confusion_matrix(y_test,final_y_pred)\n",
    "final_confusion_matrix"
   ]
  },
  {
   "cell_type": "code",
   "execution_count": 54,
   "id": "41ae7192",
   "metadata": {
    "scrolled": true
   },
   "outputs": [
    {
     "data": {
      "text/plain": [
       "array([[196,   3],\n",
       "       [  9,  59]])"
      ]
     },
     "execution_count": 54,
     "metadata": {},
     "output_type": "execute_result"
    }
   ],
   "source": [
    "# comparison with the previous balanced data model with 80 features\n",
    "m2_confusion_matrix"
   ]
  },
  {
   "cell_type": "markdown",
   "id": "ed211ae9",
   "metadata": {},
   "source": [
    "<p>\n",
    "As can be seen, 2 units have been shifted from false negatives to true positives, the false positives and<br>\n",
    "true negatives have remained the same. This indicates an improvement in precision.\n",
    "</p>"
   ]
  },
  {
   "cell_type": "markdown",
   "id": "aaa3e570",
   "metadata": {},
   "source": [
    "<h1>\n",
    "$\\begin {bmatrix} n=267 & Predicted: 0 & Predicted: 1 & Totals\n",
    "\\\\ Actual: 0 & 196 & 3 & 199\n",
    "\\\\ Actual: 1 & 7 & 61  & 68\n",
    "\\\\ Totals: & 203 & 64 & 267\n",
    "\\end{bmatrix}$\n",
    "</h1>"
   ]
  },
  {
   "cell_type": "code",
   "execution_count": 55,
   "id": "35a11d69",
   "metadata": {},
   "outputs": [],
   "source": [
    "# unraveling the confusion matrix\n",
    "final_tn,final_fp,final_fn,final_tp = confusion_matrix(y_test,final_y_pred).ravel()"
   ]
  },
  {
   "cell_type": "markdown",
   "id": "f4e40937",
   "metadata": {},
   "source": [
    "<h3 style=\"color: green;\">Sensitivity(recall): when the actual value is positive,how often is the prediction correct</h3>"
   ]
  },
  {
   "cell_type": "code",
   "execution_count": 56,
   "id": "612d7cd9",
   "metadata": {},
   "outputs": [
    {
     "name": "stdout",
     "output_type": "stream",
     "text": [
      "Model 1 sensitivity via recall_score: 0.8970588235294118\n"
     ]
    }
   ],
   "source": [
    "final_sensitivity = recall_score(y_test,final_y_pred)\n",
    "print(\"Model 1 sensitivity via recall_score: {}\".format(final_sensitivity))"
   ]
  },
  {
   "cell_type": "code",
   "execution_count": 57,
   "id": "e6b89c4e",
   "metadata": {},
   "outputs": [
    {
     "data": {
      "text/plain": [
       "0.8676470588235294"
      ]
     },
     "execution_count": 57,
     "metadata": {},
     "output_type": "execute_result"
    }
   ],
   "source": [
    "# previous sensitivity for balanced data model\n",
    "m2_sensitivity"
   ]
  },
  {
   "cell_type": "code",
   "execution_count": 58,
   "id": "c51cd33a",
   "metadata": {},
   "outputs": [
    {
     "data": {
      "text/plain": [
       "0.03389830508474577"
      ]
     },
     "execution_count": 58,
     "metadata": {},
     "output_type": "execute_result"
    }
   ],
   "source": [
    "# Sensitivity percentage improvement comparison between previous model and final selection\n",
    "(final_sensitivity - m2_sensitivity)/m2_sensitivity\n",
    "# There is a 3% improvement in sensitivity from performing feature selection"
   ]
  },
  {
   "cell_type": "markdown",
   "id": "3373f4fe",
   "metadata": {},
   "source": [
    "<h3 style=\"color: green;\">Specificity: When the actual value is negative, how often is the prediction correct</h3>"
   ]
  },
  {
   "cell_type": "code",
   "execution_count": 59,
   "id": "b2830af2",
   "metadata": {},
   "outputs": [
    {
     "name": "stdout",
     "output_type": "stream",
     "text": [
      "Model 1 specificity: 0.9849246231155779\n"
     ]
    }
   ],
   "source": [
    "final_Specificity = final_tn/(final_tn + final_fp)\n",
    "print(\"Model 1 specificity: {}\".format(final_Specificity))"
   ]
  },
  {
   "cell_type": "code",
   "execution_count": 60,
   "id": "45e1691c",
   "metadata": {},
   "outputs": [
    {
     "data": {
      "text/plain": [
       "0.9849246231155779"
      ]
     },
     "execution_count": 60,
     "metadata": {},
     "output_type": "execute_result"
    }
   ],
   "source": [
    "# Previous specificity for balanced data model\n",
    "m2_Specificity"
   ]
  },
  {
   "cell_type": "code",
   "execution_count": 61,
   "id": "1bb832f6",
   "metadata": {},
   "outputs": [
    {
     "data": {
      "text/plain": [
       "0.0"
      ]
     },
     "execution_count": 61,
     "metadata": {},
     "output_type": "execute_result"
    }
   ],
   "source": [
    "# specificity percentage improvement comparison between previous model and final selection\n",
    "(final_Specificity - m2_Specificity)/m2_Specificity\n",
    "# There is no change in specificity between the previous model and the final feature selection"
   ]
  },
  {
   "cell_type": "markdown",
   "id": "76cc3eeb",
   "metadata": {},
   "source": [
    "<h3 style=\"color: green;\">Precision: when a positive value is predicted, how often is the prediction correct</h3>"
   ]
  },
  {
   "cell_type": "code",
   "execution_count": 62,
   "id": "7a2efe16",
   "metadata": {},
   "outputs": [
    {
     "name": "stdout",
     "output_type": "stream",
     "text": [
      "Final model precision: 0.953125\n"
     ]
    }
   ],
   "source": [
    "final_precision = final_tp / (final_tp + final_fp)\n",
    "print(\"Final model precision: {}\".format(final_precision))"
   ]
  },
  {
   "cell_type": "code",
   "execution_count": 63,
   "id": "35ab6637",
   "metadata": {},
   "outputs": [
    {
     "data": {
      "text/plain": [
       "0.9516129032258065"
      ]
     },
     "execution_count": 63,
     "metadata": {},
     "output_type": "execute_result"
    }
   ],
   "source": [
    "m2_precision"
   ]
  },
  {
   "cell_type": "code",
   "execution_count": 64,
   "id": "0899c05c",
   "metadata": {},
   "outputs": [
    {
     "data": {
      "text/plain": [
       "0.0015889830508474124"
      ]
     },
     "execution_count": 64,
     "metadata": {},
     "output_type": "execute_result"
    }
   ],
   "source": [
    "# Precision percentage improvement comparison between previous model and final selection\n",
    "(final_precision - m2_precision)/m2_precision\n",
    "# There is negligible improvement in precision."
   ]
  },
  {
   "cell_type": "markdown",
   "id": "f47f4c07",
   "metadata": {},
   "source": [
    "<h3 style=\"color: green;\">Predicted probabilities</h3>"
   ]
  },
  {
   "cell_type": "markdown",
   "id": "7bcf3e5b",
   "metadata": {},
   "source": [
    "<p style=\"color: red;\">Balanced data model predicted probabilities </p>"
   ]
  },
  {
   "cell_type": "code",
   "execution_count": 93,
   "id": "17b46e03",
   "metadata": {},
   "outputs": [
    {
     "name": "stdout",
     "output_type": "stream",
     "text": [
      "Average probability for balanced data: 0.24335362017154694\n"
     ]
    }
   ],
   "source": [
    "m2_pred_prob = xgb_clfier_B.predict_proba(X_test)[:,1]\n",
    "\n",
    "print(\"Average probability for balanced data: {}\".format(m2_pred_prob.mean()))\n"
   ]
  },
  {
   "cell_type": "markdown",
   "id": "688a9b9e",
   "metadata": {},
   "source": [
    "<p style=\"color: red;\">Final features model predicted probabilities </p>"
   ]
  },
  {
   "cell_type": "code",
   "execution_count": 94,
   "id": "f082a21d",
   "metadata": {
    "scrolled": true
   },
   "outputs": [
    {
     "name": "stdout",
     "output_type": "stream",
     "text": [
      "Average proabability for final features: 0.24371080100536346\n"
     ]
    }
   ],
   "source": [
    "final_pred_prob = xgb_clfier_final_features.predict_proba(X_test_xgb)[:,1]\n",
    "print(\"Average proabability for final features: {}\".format(final_pred_prob.mean()))\n"
   ]
  },
  {
   "cell_type": "markdown",
   "id": "4c4ca3c2",
   "metadata": {},
   "source": [
    "<p>\n",
    "The final feature model has a slight higher average probability.<br>\n",
    "This means that for some instances the final features model is allocating higher probabilities.\n",
    "</p>"
   ]
  },
  {
   "cell_type": "code",
   "execution_count": 83,
   "id": "bcad6c63",
   "metadata": {},
   "outputs": [
    {
     "data": {
      "image/png": "[encoded data removed]",
      "text/plain": [
       "<Figure size 640x480 with 1 Axes>"
      ]
     },
     "metadata": {},
     "output_type": "display_data"
    }
   ],
   "source": [
    "sb.set_style('dark')\n",
    "# sb.set_palette(theme,2)\n",
    "sb.set(rc={'axes.facecolor':'#424242',\n",
    "           'figure.facecolor':'#212121',\n",
    "           'axes.labelcolor':'lime',\n",
    "           'text.color':'lime'})\n",
    "\n",
    "# histogram of predicted probabilities\n",
    "# figure background\n",
    "fig = plt.figure()\n",
    "fig.patch.set_facecolor('#212121')\n",
    "fig.patch.set_alpha(0.95)\n",
    "\n",
    "ax = fig.add_subplot(111)\n",
    "ax.patch.set_facecolor('#212121')\n",
    "ax.patch.set_alpha(1.0)\n",
    "ax.yaxis.label.set_color('lime')\n",
    "ax.xaxis.label.set_color('lime')\n",
    "ax.title.set_color('lime')\n",
    "ax.tick_params(colors='lime', which='both')\n",
    "\n",
    "plt.xlim(0,1)\n",
    "plt.title(\"Histogram of predicted probabilities\\nfor balanced data model\")\n",
    "plt.xlabel(\"Predicted probability of class 1\")\n",
    "plt.ylabel(\"Frequency\")\n",
    "\n",
    "plt.hist(m2_pred_prob, bins=4, color='red')\n",
    "plt.show()"
   ]
  },
  {
   "cell_type": "code",
   "execution_count": 84,
   "id": "bc043e82",
   "metadata": {},
   "outputs": [
    {
     "data": {
      "image/png": "[encoded data removed]",
      "text/plain": [
       "<Figure size 640x480 with 1 Axes>"
      ]
     },
     "metadata": {},
     "output_type": "display_data"
    }
   ],
   "source": [
    "# histogram of predicted probabilities\n",
    "# figure background\n",
    "fig = plt.figure()\n",
    "fig.patch.set_facecolor('#212121')\n",
    "fig.patch.set_alpha(0.95)\n",
    "\n",
    "ax = fig.add_subplot(111)\n",
    "ax.patch.set_facecolor('#212121')\n",
    "ax.patch.set_alpha(1.0)\n",
    "ax.yaxis.label.set_color('lime')\n",
    "ax.xaxis.label.set_color('lime')\n",
    "ax.title.set_color('lime')\n",
    "ax.tick_params(colors='lime', which='both')\n",
    "\n",
    "plt.xlim(0,1)\n",
    "plt.title(\"Histogram of predicted probabilities\\nfor final feature model\")\n",
    "plt.xlabel(\"Predicted probability of class 1\")\n",
    "plt.ylabel(\"Frequency\")\n",
    "\n",
    "plt.hist(final_pred_prob, bins=4, color='red')\n",
    "plt.show()"
   ]
  },
  {
   "cell_type": "markdown",
   "id": "bac8cb18",
   "metadata": {},
   "source": [
    "<p>\n",
    "The histograms show that the majority of instances have a lower probability of being in the target=1<br>\n",
    "group, the first bin.<br><br>\n",
    "While a smaller subset of instances have higher probabilities, probabilities greater than 0.5, the default cut off. <br>\n",
    "When comparing the two models, they have the same performance in the first bin, however they differ in the<br>\n",
    "second, third and fourth bin: the final feature model is allocating higher probabilities to instances;<br>\n",
    "<b>the fourth bin of the balanced data model has less than 50 instances while the final feature model has 50 frequencies.<br>It's assumed these frequencies are pulled up from the second and third bins.</b>\n",
    "</p>\n"
   ]
  },
  {
   "cell_type": "markdown",
   "id": "64bbf0c6",
   "metadata": {},
   "source": [
    "<h1 style=\"color: green;\">Sensitivity threshold tuning</h1>"
   ]
  },
  {
   "cell_type": "code",
   "execution_count": 95,
   "id": "b92e6bea",
   "metadata": {},
   "outputs": [
    {
     "data": {
      "text/plain": [
       "array([[196,   3],\n",
       "       [  9,  59]])"
      ]
     },
     "execution_count": 95,
     "metadata": {},
     "output_type": "execute_result"
    }
   ],
   "source": [
    "m2_confusion_matrix"
   ]
  },
  {
   "cell_type": "code",
   "execution_count": 96,
   "id": "64b56b88",
   "metadata": {},
   "outputs": [
    {
     "data": {
      "text/plain": [
       "array([[196,   3],\n",
       "       [  7,  61]])"
      ]
     },
     "execution_count": 96,
     "metadata": {},
     "output_type": "execute_result"
    }
   ],
   "source": [
    "final_confusion_matrix"
   ]
  },
  {
   "cell_type": "markdown",
   "id": "a5027943",
   "metadata": {},
   "source": [
    "<p style=\"color: black;\">\n",
    "I'm more concerned about lowering the number of shopping trips I do in a week.<br>\n",
    "So I want to increase the sensitivity of the model by shifting the 7 instances in the bottom left corner<br>\n",
    "of final features model to the right. This can be done by adjusting the probability threshold.<br><br>\n",
    "\n",
    "<b>Note, these levels of sensitivity are excellent and acceptable, so the following is done mainly to<br> demonstrate knowledge in key areas rather than a neccessity born out of bad models.</b>\n",
    "</p>\n",
    "\n",
    "<p>The superiority of the final feature selection model has been adequately illustrated.<br>\n",
    "The threshold tuning will be done only on the final feature model\n",
    "</p>"
   ]
  },
  {
   "cell_type": "markdown",
   "id": "aca1034b",
   "metadata": {},
   "source": [
    "<p>\n",
    "From the histograms above, it would be sensible to designate 0.2 as the threshold for target=1 classification<br>\n",
    "i.e. a probability greater than 0.2 means less than 5 shopping trips in a week.<br>\n",
    "This is because looking at the distributions, there aren't that many instances to the right of 0.2 so <br>\n",
    "it makes sense to group them.\n",
    "</p>"
   ]
  },
  {
   "cell_type": "code",
   "execution_count": 119,
   "id": "428c8c44",
   "metadata": {},
   "outputs": [],
   "source": [
    "# Threshold tuning\n",
    "# after a few trials it seems 0.33 is the optimal threshold\n",
    "# beyond this threshold there is higher compensation for false positives for\n",
    "# no gain in true positives i.e. its difficult to shift the last unit\n",
    "final_pred_class_binarize = binarize([final_pred_prob],threshold=0.33)[0]"
   ]
  },
  {
   "cell_type": "code",
   "execution_count": 120,
   "id": "5e6748bb",
   "metadata": {},
   "outputs": [
    {
     "data": {
      "text/plain": [
       "array([[196,   3],\n",
       "       [  7,  61]])"
      ]
     },
     "execution_count": 120,
     "metadata": {},
     "output_type": "execute_result"
    }
   ],
   "source": [
    "# Original final_confusion_matrix confusion matrix\n",
    "final_confusion_matrix"
   ]
  },
  {
   "cell_type": "code",
   "execution_count": 121,
   "id": "bc975e2a",
   "metadata": {},
   "outputs": [
    {
     "data": {
      "text/plain": [
       "array([[191,   8],\n",
       "       [  1,  67]])"
      ]
     },
     "execution_count": 121,
     "metadata": {},
     "output_type": "execute_result"
    }
   ],
   "source": [
    "# new confusion matrix after threshold tuning\n",
    "final_binarize_confusion_matrix = confusion_matrix(y_test,final_pred_class_binarize)\n",
    "final_binarize_confusion_matrix"
   ]
  },
  {
   "cell_type": "markdown",
   "id": "718bf8b4",
   "metadata": {},
   "source": [
    "<p style=\"color: black;\">\n",
    "As can be seen above, we have shifted 6 units which were false negatives into true <br>\n",
    "positives using <b>threshold=0.33</b>.<br>\n",
    "Further reduction of threshold in attempt to shift the last unit across has a higher cost<br>\n",
    "with respect to specificity i.e. it causes a higher increase in false negative rates i.e.<br>\n",
    "situations where the actual instance is number of shopping trips greater than 4 but the<br>\n",
    "prediction states that it is less than 4 shopping trips.\n",
    "</p>"
   ]
  },
  {
   "cell_type": "code",
   "execution_count": 122,
   "id": "97b1cde7",
   "metadata": {},
   "outputs": [],
   "source": [
    "# unraveling the new confusion matrix\n",
    "final_Binarize_tn,final_Binarize_fp,final_Binarize_fn,final_Binarize_tp = \\\n",
    "confusion_matrix(y_test,final_pred_class_binarize).ravel()"
   ]
  },
  {
   "cell_type": "code",
   "execution_count": 123,
   "id": "bfe33d13",
   "metadata": {},
   "outputs": [
    {
     "name": "stdout",
     "output_type": "stream",
     "text": [
      "Original final_sensitivity sensitivity: 0.8970588235294118\n",
      "Threshold final_sensitivity sensitivity: 0.9852941176470589\n"
     ]
    }
   ],
   "source": [
    "# Sensitivity\n",
    "final_sensitivity_binarize = recall_score(y_test,final_pred_class_binarize)\n",
    "\n",
    "print(\"Original final feature sensitivity: {0}\".format(final_sensitivity))\n",
    "print(\"Threshold final features sensitivity: {0}\".format(final_sensitivity_binarize))"
   ]
  },
  {
   "cell_type": "code",
   "execution_count": 125,
   "id": "55f67778",
   "metadata": {},
   "outputs": [
    {
     "data": {
      "text/plain": [
       "0.09836065573770493"
      ]
     },
     "execution_count": 125,
     "metadata": {},
     "output_type": "execute_result"
    }
   ],
   "source": [
    "(final_sensitivity_binarize - final_sensitivity)/final_sensitivity"
   ]
  },
  {
   "cell_type": "code",
   "execution_count": 124,
   "id": "eef3015c",
   "metadata": {},
   "outputs": [
    {
     "name": "stdout",
     "output_type": "stream",
     "text": [
      "Original final features specificity: 0.9849246231155779\n",
      "Threshold tuned model 1 specificity: 0.9597989949748744\n"
     ]
    }
   ],
   "source": [
    "# Specificity\n",
    "final_binarize_specificity = final_Binarize_tn/(final_Binarize_tn + final_Binarize_fp)\n",
    "\n",
    "print(\"Original final features specificity: {0}\".format(final_Specificity))\n",
    "print(\"Threshold tuned model 1 specificity: {}\".format(final_binarize_specificity))"
   ]
  },
  {
   "cell_type": "code",
   "execution_count": 126,
   "id": "1ce3ceb5",
   "metadata": {},
   "outputs": [
    {
     "data": {
      "text/plain": [
       "-0.02551020408163265"
      ]
     },
     "execution_count": 126,
     "metadata": {},
     "output_type": "execute_result"
    }
   ],
   "source": [
    "(final_binarize_specificity - final_Specificity)/final_Specificity"
   ]
  },
  {
   "cell_type": "markdown",
   "id": "8ed2e97c",
   "metadata": {},
   "source": [
    "<p style=\"color: black;\">\n",
    "As can be seen above, threshold tuning has made a signigicant improvement in sensitivity,<br>\n",
    "approximately 10% increase with a minimal cost in specificity of approximately -3%.\n",
    "</p>"
   ]
  },
  {
   "cell_type": "markdown",
   "id": "9d4352e4",
   "metadata": {},
   "source": [
    "<h3 style=\"color: green;\">Receiver operating Characteristic Curve (ROC Curves) and Area Under the Curve (AUC)</h3>"
   ]
  },
  {
   "cell_type": "code",
   "execution_count": 128,
   "id": "455c9470",
   "metadata": {},
   "outputs": [
    {
     "data": {
      "image/png": "[encoded data removed]",
      "text/plain": [
       "<Figure size 640x480 with 1 Axes>"
      ]
     },
     "metadata": {},
     "output_type": "display_data"
    }
   ],
   "source": [
    "# retrieving false positive rate, true positive rates and thresholds in preparation for ROC curve\n",
    "final_fpr, final_tpr, final_thresholds = roc_curve(y_test, final_pred_prob)\n",
    "\n",
    "# graph false positive rate (fpr) vs true positive rate (tpr)\n",
    "fig = plt.figure()\n",
    "fig.patch.set_facecolor('#212121')\n",
    "fig.patch.set_alpha(0.95)\n",
    "\n",
    "ax = fig.add_subplot(111)\n",
    "ax.patch.set_facecolor('#212121')\n",
    "ax.patch.set_alpha(1.0)\n",
    "ax.yaxis.label.set_color('lime')\n",
    "ax.xaxis.label.set_color('lime')\n",
    "ax.title.set_color('lime')\n",
    "ax.tick_params(colors='lime', which='both')\n",
    "\n",
    "plt.plot(final_fpr, final_tpr, color='red')\n",
    "plt.xlim([0.0, 1.0])\n",
    "plt.ylim([0.0, 1.0])\n",
    "plt.title('ROC curve for number of shopping trips classifier\\nFinal features model')\n",
    "plt.xlabel('False Positive Rate (1-Specificity)')\n",
    "plt.ylabel('True Positive Rate (Sensitivity)')\n",
    "plt.grid(True)\n",
    "plt.show()"
   ]
  },
  {
   "cell_type": "markdown",
   "id": "f707865a",
   "metadata": {},
   "source": [
    "<h3 style=\"color: green;\">Area Under the Curve (AUC)</h3>"
   ]
  },
  {
   "cell_type": "code",
   "execution_count": 129,
   "id": "24c76acc",
   "metadata": {},
   "outputs": [
    {
     "data": {
      "text/plain": [
       "0.9950487732781556"
      ]
     },
     "execution_count": 129,
     "metadata": {},
     "output_type": "execute_result"
    }
   ],
   "source": [
    "# AUC(Area under the curve) model 1\n",
    "roc_auc_score(y_test, final_pred_prob)"
   ]
  },
  {
   "cell_type": "markdown",
   "id": "34c226dc",
   "metadata": {},
   "source": [
    "<h3 style=\"color: green;\">Selecting Sensitivity and Specificity from ROC using a function</h3>"
   ]
  },
  {
   "cell_type": "code",
   "execution_count": 130,
   "id": "d8ff8996",
   "metadata": {},
   "outputs": [],
   "source": [
    "# define a function that accepts a threshold and prints sensitivity and specificity\n",
    "def final_evaluate_threshold(threshold):\n",
    "    print(\"Sensitivity: \",final_tpr[final_thresholds > threshold][-1])\n",
    "    print(\"Specificity: {}\".format(1 -final_fpr[final_thresholds > threshold][-1]))"
   ]
  },
  {
   "cell_type": "code",
   "execution_count": 144,
   "id": "2daee9ed",
   "metadata": {},
   "outputs": [
    {
     "name": "stdout",
     "output_type": "stream",
     "text": [
      "Sensitivity:  0.9852941176470589\n",
      "Specificity: 0.9597989949748744\n"
     ]
    }
   ],
   "source": [
    "final_evaluate_threshold(0.33)"
   ]
  },
  {
   "cell_type": "markdown",
   "id": "bf83e13a",
   "metadata": {},
   "source": [
    "<p style=\"color: black;\"><b>\n",
    "The function above is very useful, infact it should be the first point of call<br>\n",
    "for threshold tuning.\n",
    "</b></p>"
   ]
  },
  {
   "cell_type": "markdown",
   "id": "1b3703bb",
   "metadata": {},
   "source": [
    "<h3 style=\"color: green;\">Sensitivity vs Specificity threshold ranges for final features model</h3>\n",
    "<p>\n",
    "    The function above is extended to review various threshold ranges, below,<br>\n",
    "    to visualise the optimisation of sensitivity vs specificity\n",
    "</p>"
   ]
  },
  {
   "cell_type": "code",
   "execution_count": 140,
   "id": "abdfaf68",
   "metadata": {},
   "outputs": [],
   "source": [
    "def final_evaluate_threshold_range(threshold):\n",
    "    threshold_range = []\n",
    "    for x in threshold:\n",
    "        string = []\n",
    "        string.append(x)\n",
    "        tpr_threshold = final_tpr[final_thresholds > x][-1]\n",
    "        string.append(tpr_threshold)\n",
    "        fpr_threshold = 1 -final_fpr[final_thresholds > x][-1]\n",
    "        string.append(fpr_threshold)\n",
    "        threshold_range.append(string)\n",
    "    \n",
    "    return threshold_range"
   ]
  },
  {
   "cell_type": "code",
   "execution_count": 151,
   "id": "e37969c3",
   "metadata": {},
   "outputs": [],
   "source": [
    "final_range = [0.05, 0.1,0.11, 0.12,0.13,0.14,0.15, 0.2, 0.25, 0.3, 0.35, 0.4]\n",
    "\n",
    "final_range_of_thresholds = final_evaluate_threshold_range(final_range)\n"
   ]
  },
  {
   "cell_type": "code",
   "execution_count": 152,
   "id": "f2a5babb",
   "metadata": {},
   "outputs": [
    {
     "data": {
      "text/html": [
       "<div>\n",
       "<style scoped>\n",
       "    .dataframe tbody tr th:only-of-type {\n",
       "        vertical-align: middle;\n",
       "    }\n",
       "\n",
       "    .dataframe tbody tr th {\n",
       "        vertical-align: top;\n",
       "    }\n",
       "\n",
       "    .dataframe thead th {\n",
       "        text-align: right;\n",
       "    }\n",
       "</style>\n",
       "<table border=\"1\" class=\"dataframe\">\n",
       "  <thead>\n",
       "    <tr style=\"text-align: right;\">\n",
       "      <th></th>\n",
       "      <th>Threshold</th>\n",
       "      <th>Sensitivity</th>\n",
       "      <th>Specificity</th>\n",
       "    </tr>\n",
       "  </thead>\n",
       "  <tbody>\n",
       "    <tr>\n",
       "      <th>0</th>\n",
       "      <td>0.05</td>\n",
       "      <td>1.000000</td>\n",
       "      <td>0.869347</td>\n",
       "    </tr>\n",
       "    <tr>\n",
       "      <th>1</th>\n",
       "      <td>0.10</td>\n",
       "      <td>1.000000</td>\n",
       "      <td>0.869347</td>\n",
       "    </tr>\n",
       "    <tr>\n",
       "      <th>2</th>\n",
       "      <td>0.11</td>\n",
       "      <td>1.000000</td>\n",
       "      <td>0.869347</td>\n",
       "    </tr>\n",
       "    <tr>\n",
       "      <th>3</th>\n",
       "      <td>0.12</td>\n",
       "      <td>1.000000</td>\n",
       "      <td>0.869347</td>\n",
       "    </tr>\n",
       "    <tr>\n",
       "      <th>4</th>\n",
       "      <td>0.13</td>\n",
       "      <td>1.000000</td>\n",
       "      <td>0.879397</td>\n",
       "    </tr>\n",
       "    <tr>\n",
       "      <th>5</th>\n",
       "      <td>0.14</td>\n",
       "      <td>1.000000</td>\n",
       "      <td>0.889447</td>\n",
       "    </tr>\n",
       "    <tr>\n",
       "      <th>6</th>\n",
       "      <td>0.15</td>\n",
       "      <td>0.985294</td>\n",
       "      <td>0.889447</td>\n",
       "    </tr>\n",
       "    <tr>\n",
       "      <th>7</th>\n",
       "      <td>0.20</td>\n",
       "      <td>0.985294</td>\n",
       "      <td>0.959799</td>\n",
       "    </tr>\n",
       "    <tr>\n",
       "      <th>8</th>\n",
       "      <td>0.25</td>\n",
       "      <td>0.985294</td>\n",
       "      <td>0.959799</td>\n",
       "    </tr>\n",
       "    <tr>\n",
       "      <th>9</th>\n",
       "      <td>0.30</td>\n",
       "      <td>0.985294</td>\n",
       "      <td>0.959799</td>\n",
       "    </tr>\n",
       "    <tr>\n",
       "      <th>10</th>\n",
       "      <td>0.35</td>\n",
       "      <td>0.926471</td>\n",
       "      <td>0.979899</td>\n",
       "    </tr>\n",
       "    <tr>\n",
       "      <th>11</th>\n",
       "      <td>0.40</td>\n",
       "      <td>0.882353</td>\n",
       "      <td>0.984925</td>\n",
       "    </tr>\n",
       "  </tbody>\n",
       "</table>\n",
       "</div>"
      ],
      "text/plain": [
       "    Threshold  Sensitivity  Specificity\n",
       "0        0.05     1.000000     0.869347\n",
       "1        0.10     1.000000     0.869347\n",
       "2        0.11     1.000000     0.869347\n",
       "3        0.12     1.000000     0.869347\n",
       "4        0.13     1.000000     0.879397\n",
       "5        0.14     1.000000     0.889447\n",
       "6        0.15     0.985294     0.889447\n",
       "7        0.20     0.985294     0.959799\n",
       "8        0.25     0.985294     0.959799\n",
       "9        0.30     0.985294     0.959799\n",
       "10       0.35     0.926471     0.979899\n",
       "11       0.40     0.882353     0.984925"
      ]
     },
     "execution_count": 152,
     "metadata": {},
     "output_type": "execute_result"
    }
   ],
   "source": [
    "final_thresholds_data = pd.DataFrame(final_range_of_thresholds, columns=['Threshold','Sensitivity','Specificity'])\n",
    "final_thresholds_data"
   ]
  },
  {
   "cell_type": "code",
   "execution_count": 153,
   "id": "5daa856f",
   "metadata": {},
   "outputs": [
    {
     "data": {
      "image/png": "[encoded data removed]",
      "text/plain": [
       "<Figure size 640x480 with 1 Axes>"
      ]
     },
     "metadata": {},
     "output_type": "display_data"
    }
   ],
   "source": [
    "# Plotting sensitivity vs specificity\n",
    "\n",
    "# graph false positive rate (fpr) vs true positive rate (tpr)\n",
    "fig = plt.figure()\n",
    "fig.patch.set_facecolor('#212121')\n",
    "fig.patch.set_alpha(0.95)\n",
    "\n",
    "ax = fig.add_subplot(111)\n",
    "ax.patch.set_facecolor('#212121')\n",
    "ax.patch.set_alpha(1.0)\n",
    "ax.yaxis.label.set_color('lime')\n",
    "ax.xaxis.label.set_color('lime')\n",
    "ax.title.set_color('lime')\n",
    "ax.tick_params(colors='lime', which='both')\n",
    "\n",
    "plt.plot(final_thresholds_data.Threshold, final_thresholds_data.Sensitivity, \n",
    "         color='lime',lw=3.3, label='Sensitivity')\n",
    "plt.plot(final_thresholds_data.Threshold, final_thresholds_data.Specificity, \n",
    "         color='red',lw=3.3, label='Specificity')\n",
    "# plt.xlim([0.0, 1.0])\n",
    "# plt.ylim([0.0, 1.0])\n",
    "plt.title('Sensitivity vs specificity\\nFinal features model')\n",
    "plt.xlabel('Threshold')\n",
    "plt.ylabel('Percentage')\n",
    "ax.legend()\n",
    "plt.grid(True)\n",
    "plt.show()"
   ]
  },
  {
   "cell_type": "markdown",
   "id": "4c2b79ab",
   "metadata": {},
   "source": [
    "<p>\n",
    "The graph illustrates the sensitivity and specificity levels for a given threshold value.\n",
    "</p>"
   ]
  },
  {
   "cell_type": "markdown",
   "id": "dda57be8",
   "metadata": {},
   "source": [
    "<h1 style=\"color: green;\">Threshold tuning choice</h1>"
   ]
  },
  {
   "cell_type": "markdown",
   "id": "b0f24789",
   "metadata": {},
   "source": [
    "<p>\n",
    "Let's consider the extreme case where all the true positives are captured at the expense of increasing false positives.\n",
    "</p>"
   ]
  },
  {
   "cell_type": "code",
   "execution_count": 146,
   "id": "e179b0a5",
   "metadata": {},
   "outputs": [
    {
     "name": "stdout",
     "output_type": "stream",
     "text": [
      "Sensitivity:  1.0\n",
      "Specificity: 0.8894472361809045\n"
     ]
    }
   ],
   "source": [
    "final_evaluate_threshold(0.14)"
   ]
  },
  {
   "cell_type": "code",
   "execution_count": 148,
   "id": "9a3f9ec4",
   "metadata": {},
   "outputs": [],
   "source": [
    "# Threshold tuning\n",
    "# after a few trials it seems 0.14 is the optimal threshold for model 1\n",
    "final_pred_class_binarize = binarize([final_pred_prob],threshold=0.14)[0]"
   ]
  },
  {
   "cell_type": "code",
   "execution_count": 149,
   "id": "c3a165c1",
   "metadata": {},
   "outputs": [
    {
     "data": {
      "text/plain": [
       "array([[196,   3],\n",
       "       [  7,  61]])"
      ]
     },
     "execution_count": 149,
     "metadata": {},
     "output_type": "execute_result"
    }
   ],
   "source": [
    "# Original final_confusion_matrix confusion matrix\n",
    "final_confusion_matrix"
   ]
  },
  {
   "cell_type": "code",
   "execution_count": 150,
   "id": "dd5a486f",
   "metadata": {},
   "outputs": [
    {
     "data": {
      "text/plain": [
       "array([[176,  23],\n",
       "       [  0,  68]])"
      ]
     },
     "execution_count": 150,
     "metadata": {},
     "output_type": "execute_result"
    }
   ],
   "source": [
    "# new confusion matrix after threshold tuning\n",
    "final_binarize_confusion_matrix = confusion_matrix(y_test,final_pred_class_binarize)\n",
    "final_binarize_confusion_matrix"
   ]
  },
  {
   "cell_type": "markdown",
   "id": "3d3afbda",
   "metadata": {},
   "source": [
    "<p>\n",
    "\n",
    "Looking at the sensitivity vs specificity plot for model 2 with a threshold of <b>0.14</b> the sensitivity is <b>1.0</b> and the specificity is <b>0.89</b>. Using this threshold would result in <b>shifting 7 instances</b> from false negatives to true positive while accepting <b>20 instances</b> shift from true negative to false positive.<br>\n",
    "Note, as this scales up the false positives will increase while the false negatives in theory should remain 0.<br>\n",
    "This is an extreme position to take but it ensures that all the true positive instances are captured.<br>\n",
    "</p>"
   ]
  },
  {
   "cell_type": "markdown",
   "id": "5758da49",
   "metadata": {},
   "source": [
    "<h1 style=\"color: green;\">Saving the best model</h1>"
   ]
  },
  {
   "cell_type": "code",
   "execution_count": 154,
   "id": "1f997c20",
   "metadata": {},
   "outputs": [
    {
     "data": {
      "text/plain": [
       "['../Models/xgboost_classifier10062023']"
      ]
     },
     "execution_count": 154,
     "metadata": {},
     "output_type": "execute_result"
    }
   ],
   "source": [
    "# joblib.dump(xgb_clfier_final_features,'../Models/xgboost_classifier10062023')"
   ]
  },
  {
   "cell_type": "markdown",
   "id": "3ecd04ab",
   "metadata": {},
   "source": [
    "<h3 style=\"color: green;\">Using a stored model</h3>"
   ]
  },
  {
   "cell_type": "code",
   "execution_count": 155,
   "id": "b6804ca9",
   "metadata": {},
   "outputs": [],
   "source": [
    "sample_X = X_test_xgb[:30]\n",
    "sample_Y = y_test[:30]"
   ]
  },
  {
   "cell_type": "markdown",
   "id": "d022d6bc",
   "metadata": {},
   "source": [
    "<h3 style=\"color: green;\">Loading the stored model</h3>"
   ]
  },
  {
   "cell_type": "code",
   "execution_count": 156,
   "id": "870c72d3",
   "metadata": {},
   "outputs": [],
   "source": [
    "xgb_loaded = joblib.load('../Models/xgboost_classifier10062023')"
   ]
  },
  {
   "cell_type": "markdown",
   "id": "605c4ed8",
   "metadata": {},
   "source": [
    "<h3 style=\"color: green;\">Making predictions with the loaded model</h3>"
   ]
  },
  {
   "cell_type": "code",
   "execution_count": 157,
   "id": "180996a9",
   "metadata": {},
   "outputs": [
    {
     "data": {
      "text/plain": [
       "0.9666666666666667"
      ]
     },
     "execution_count": 157,
     "metadata": {},
     "output_type": "execute_result"
    }
   ],
   "source": [
    "# Making predictions with stored model\n",
    "loaded_pred = xgb_loaded.predict(sample_X)\n",
    "\n",
    "# Checking the accuracy score\n",
    "accuracy_score(loaded_pred,sample_Y)"
   ]
  },
  {
   "cell_type": "markdown",
   "id": "28849896",
   "metadata": {},
   "source": [
    "<h5 style=\"color: green;\">Reclassifying (binarizing) the predicted probabilities</h5>"
   ]
  },
  {
   "cell_type": "code",
   "execution_count": 158,
   "id": "76a8419d",
   "metadata": {},
   "outputs": [],
   "source": [
    "loaded_prob = xgb_loaded.predict_proba(sample_X)[:,1]"
   ]
  },
  {
   "cell_type": "code",
   "execution_count": 159,
   "id": "f2983d84",
   "metadata": {},
   "outputs": [
    {
     "data": {
      "text/plain": [
       "array([0., 0., 0., 1., 1., 1., 0., 1., 0., 0., 1., 1., 1., 1., 0., 0., 0.,\n",
       "       0., 0., 0., 1., 0., 1., 0., 0., 0., 0., 0., 0., 0.], dtype=float32)"
      ]
     },
     "execution_count": 159,
     "metadata": {},
     "output_type": "execute_result"
    }
   ],
   "source": [
    "loaded_pred_class_binarize = binarize([loaded_prob],threshold=0.14)[0]\n",
    "loaded_pred_class_binarize"
   ]
  },
  {
   "cell_type": "code",
   "execution_count": 160,
   "id": "dfacf0bf",
   "metadata": {},
   "outputs": [
    {
     "data": {
      "text/plain": [
       "0.9"
      ]
     },
     "execution_count": 160,
     "metadata": {},
     "output_type": "execute_result"
    }
   ],
   "source": [
    "accuracy_score(loaded_pred_class_binarize,sample_Y)"
   ]
  },
  {
   "cell_type": "markdown",
   "id": "26a8bacf",
   "metadata": {},
   "source": [
    "<p>\n",
    "Note, the drop in accuracy is due to the false positives as we have tuned for sensitivity.<br>\n",
    "Which means that all the true positives, what we care about, have been captured.<br>\n",
    "The false positives are an affordable cost. However the accuracy is still very high.\n",
    "</p>"
   ]
  },
  {
   "cell_type": "markdown",
   "id": "692999db",
   "metadata": {},
   "source": [
    "<h1 style=\"color: green;\">Summary</h1>\n",
    "<p>\n",
    "The superiority of balancing the data on the model has been evidenced: model 2, the imblearn oversampling<br>\n",
    "with SMOTE has consistently outperformed model 1 the imbalanced data on many metrics.<br><br>\n",
    "\n",
    "Adjusting the classification threshold effects the metrics that determine how good the model is. In this scenario, the objective was to optimise sensitivity to capture more instances that are less than 5 shopping trips per week at a moderate expense of false positives, incorrectly assigning instances of more than 5 shopping trips per week to less than 5 shopping trips per week.<br><br>\n",
    "Sensitivity has been optimized using a threshold of 0.14 which captures all of the true positive instances while accepting a few false positives. This gives us a sensitivity of 1.0 coupled with a specificity of 0.89.\n",
    "</p>"
   ]
  },
  {
   "cell_type": "code",
   "execution_count": null,
   "id": "6982f19d",
   "metadata": {},
   "outputs": [],
   "source": []
  }
 ],
 "metadata": {
  "kernelspec": {
   "display_name": "Python 3 (ipykernel)",
   "language": "python",
   "name": "python3"
  },
  "language_info": {
   "codemirror_mode": {
    "name": "ipython",
    "version": 3
   },
   "file_extension": ".py",
   "mimetype": "text/x-python",
   "name": "python",
   "nbconvert_exporter": "python",
   "pygments_lexer": "ipython3",
   "version": "3.10.6"
  }
 },
 "nbformat": 4,
 "nbformat_minor": 5
}
