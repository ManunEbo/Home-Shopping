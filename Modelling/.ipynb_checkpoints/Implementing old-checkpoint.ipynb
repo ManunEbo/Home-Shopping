{
 "cells": [
  {
   "cell_type": "markdown",
   "id": "7bce4ca8",
   "metadata": {},
   "source": [
    "<h1 style=\"color: green;\">Imports</h1>"
   ]
  },
  {
   "cell_type": "code",
   "execution_count": 1,
   "id": "513d675b",
   "metadata": {},
   "outputs": [],
   "source": [
    "import pandas as pd\n",
    "import numpy as np\n",
    "\n",
    "import sqlalchemy\n",
    "\n",
    "from datetime import datetime\n",
    "\n",
    "# OneHotEncoder for encoding Venue\n",
    "from sklearn.preprocessing import OneHotEncoder\n",
    "\n",
    "# Joblib\n",
    "import joblib"
   ]
  },
  {
   "cell_type": "code",
   "execution_count": 2,
   "id": "7422d448",
   "metadata": {},
   "outputs": [],
   "source": [
    "# Loading environment variables\n",
    "from dotenv import load_dotenv\n",
    "load_dotenv()\n",
    "\n",
    "# connecting to MySQL database using URL connection string\n",
    "sqlUrl = sqlalchemy.engine.URL.create(\n",
    "    drivername = os.getenv('drivername'),\n",
    "    username = os.getenv('username'),\n",
    "    password = os.getenv('password'),\n",
    "    host = os.getenv('host'),\n",
    "    port = os.getenv('port'),\n",
    "    database = os.getenv('database')\n",
    ")\n",
    "\n",
    "engine = sqlalchemy.create_engine(sqlUrl)"
   ]
  },
  {
   "cell_type": "code",
   "execution_count": 3,
   "id": "706ae883",
   "metadata": {},
   "outputs": [],
   "source": [
    "sql_str = \"\"\"select *,yearweek(Receipt_date) as week_of_year\n",
    "                from hs.receipt\n",
    "                where yearweek(Receipt_date) = yearweek(curdate())\n",
    "                order by Receipt_id desc;\"\"\""
   ]
  },
  {
   "cell_type": "code",
   "execution_count": 4,
   "id": "1cdf8128",
   "metadata": {},
   "outputs": [
    {
     "data": {
      "text/html": [
       "<div>\n",
       "<style scoped>\n",
       "    .dataframe tbody tr th:only-of-type {\n",
       "        vertical-align: middle;\n",
       "    }\n",
       "\n",
       "    .dataframe tbody tr th {\n",
       "        vertical-align: top;\n",
       "    }\n",
       "\n",
       "    .dataframe thead th {\n",
       "        text-align: right;\n",
       "    }\n",
       "</style>\n",
       "<table border=\"1\" class=\"dataframe\">\n",
       "  <thead>\n",
       "    <tr style=\"text-align: right;\">\n",
       "      <th></th>\n",
       "      <th>Receipt_id</th>\n",
       "      <th>Venue_id</th>\n",
       "      <th>Total_Nbr_of_Items</th>\n",
       "      <th>Total_Price</th>\n",
       "      <th>Receipt_Date</th>\n",
       "      <th>Receipt_Time</th>\n",
       "      <th>week_of_year</th>\n",
       "    </tr>\n",
       "  </thead>\n",
       "  <tbody>\n",
       "    <tr>\n",
       "      <th>0</th>\n",
       "      <td>742</td>\n",
       "      <td>8</td>\n",
       "      <td>1</td>\n",
       "      <td>48.99</td>\n",
       "      <td>2022-10-03</td>\n",
       "      <td>0 days 08:00:00</td>\n",
       "      <td>202240</td>\n",
       "    </tr>\n",
       "    <tr>\n",
       "      <th>1</th>\n",
       "      <td>741</td>\n",
       "      <td>36</td>\n",
       "      <td>9</td>\n",
       "      <td>12.59</td>\n",
       "      <td>2022-10-02</td>\n",
       "      <td>0 days 10:55:20</td>\n",
       "      <td>202240</td>\n",
       "    </tr>\n",
       "  </tbody>\n",
       "</table>\n",
       "</div>"
      ],
      "text/plain": [
       "   Receipt_id  Venue_id  Total_Nbr_of_Items  Total_Price Receipt_Date  \\\n",
       "0         742         8                   1        48.99   2022-10-03   \n",
       "1         741        36                   9        12.59   2022-10-02   \n",
       "\n",
       "     Receipt_Time  week_of_year  \n",
       "0 0 days 08:00:00        202240  \n",
       "1 0 days 10:55:20        202240  "
      ]
     },
     "execution_count": 4,
     "metadata": {},
     "output_type": "execute_result"
    }
   ],
   "source": [
    "Receipt = pd.read_sql_query(sql_str,engine)\n",
    "Receipt.drop(['Receipt_Nbr','Trans_number','Barcode','Date_Added'], axis=1, inplace=True)\n",
    "Receipt.head()"
   ]
  },
  {
   "cell_type": "code",
   "execution_count": 5,
   "id": "4dfbd558",
   "metadata": {},
   "outputs": [
    {
     "data": {
      "text/html": [
       "<div>\n",
       "<style scoped>\n",
       "    .dataframe tbody tr th:only-of-type {\n",
       "        vertical-align: middle;\n",
       "    }\n",
       "\n",
       "    .dataframe tbody tr th {\n",
       "        vertical-align: top;\n",
       "    }\n",
       "\n",
       "    .dataframe thead th {\n",
       "        text-align: right;\n",
       "    }\n",
       "</style>\n",
       "<table border=\"1\" class=\"dataframe\">\n",
       "  <thead>\n",
       "    <tr style=\"text-align: right;\">\n",
       "      <th></th>\n",
       "      <th>Receipt_id</th>\n",
       "      <th>Venue_id</th>\n",
       "      <th>Total_Nbr_of_Items</th>\n",
       "      <th>Total_Price</th>\n",
       "      <th>Receipt_Date</th>\n",
       "      <th>Receipt_Time</th>\n",
       "      <th>week_of_year</th>\n",
       "    </tr>\n",
       "  </thead>\n",
       "  <tbody>\n",
       "    <tr>\n",
       "      <th>0</th>\n",
       "      <td>742</td>\n",
       "      <td>8</td>\n",
       "      <td>1</td>\n",
       "      <td>48.99</td>\n",
       "      <td>2022-10-03</td>\n",
       "      <td>08:00:00</td>\n",
       "      <td>202240</td>\n",
       "    </tr>\n",
       "    <tr>\n",
       "      <th>1</th>\n",
       "      <td>741</td>\n",
       "      <td>36</td>\n",
       "      <td>9</td>\n",
       "      <td>12.59</td>\n",
       "      <td>2022-10-02</td>\n",
       "      <td>10:55:20</td>\n",
       "      <td>202240</td>\n",
       "    </tr>\n",
       "  </tbody>\n",
       "</table>\n",
       "</div>"
      ],
      "text/plain": [
       "   Receipt_id  Venue_id  Total_Nbr_of_Items  Total_Price Receipt_Date  \\\n",
       "0         742         8                   1        48.99   2022-10-03   \n",
       "1         741        36                   9        12.59   2022-10-02   \n",
       "\n",
       "  Receipt_Time  week_of_year  \n",
       "0     08:00:00        202240  \n",
       "1     10:55:20        202240  "
      ]
     },
     "execution_count": 5,
     "metadata": {},
     "output_type": "execute_result"
    }
   ],
   "source": [
    "Receipt['Receipt_Time'] = Receipt['Receipt_Time'].apply(lambda x: \n",
    "                                              datetime.strptime(str(x).split(' ')[2],\n",
    "                                                                '%H:%M:%S'\n",
    "                                                               ).time())\n",
    "Receipt.head()"
   ]
  },
  {
   "cell_type": "code",
   "execution_count": 6,
   "id": "56b22aea",
   "metadata": {},
   "outputs": [
    {
     "name": "stdout",
     "output_type": "stream",
     "text": [
      "The Receipt_id list for the week: (742, 741)\n",
      "New Receipt_id: 743\n"
     ]
    }
   ],
   "source": [
    "# extracting the Receipt_id in \n",
    "# preparation for joining with hs.payment and hs.item\n",
    "receipt_ids = tuple(Receipt.Receipt_id.values.tolist())\n",
    "print(\"The Receipt_id list for the week: {}\".format(receipt_ids))\n",
    "\n",
    "# adding the new receipt_id\n",
    "new_receipt_id = max(receipt_ids) + 1\n",
    "print(\"New Receipt_id: {}\".format(new_receipt_id))"
   ]
  },
  {
   "cell_type": "markdown",
   "id": "3e45cf52",
   "metadata": {},
   "source": [
    "<h5 style=\"color: green;\">Guest receipt</h5>"
   ]
  },
  {
   "cell_type": "code",
   "execution_count": 7,
   "id": "4e8c1f7e",
   "metadata": {},
   "outputs": [
    {
     "data": {
      "text/html": [
       "<div>\n",
       "<style scoped>\n",
       "    .dataframe tbody tr th:only-of-type {\n",
       "        vertical-align: middle;\n",
       "    }\n",
       "\n",
       "    .dataframe tbody tr th {\n",
       "        vertical-align: top;\n",
       "    }\n",
       "\n",
       "    .dataframe thead th {\n",
       "        text-align: right;\n",
       "    }\n",
       "</style>\n",
       "<table border=\"1\" class=\"dataframe\">\n",
       "  <thead>\n",
       "    <tr style=\"text-align: right;\">\n",
       "      <th></th>\n",
       "      <th>Receipt_id</th>\n",
       "      <th>Venue_id</th>\n",
       "      <th>Total_Nbr_of_Items</th>\n",
       "      <th>Total_Price</th>\n",
       "      <th>Receipt_Date</th>\n",
       "      <th>Receipt_Time</th>\n",
       "      <th>week_of_year</th>\n",
       "    </tr>\n",
       "  </thead>\n",
       "  <tbody>\n",
       "    <tr>\n",
       "      <th>0</th>\n",
       "      <td>742</td>\n",
       "      <td>8</td>\n",
       "      <td>1</td>\n",
       "      <td>48.99</td>\n",
       "      <td>2022-10-03</td>\n",
       "      <td>08:00:00</td>\n",
       "      <td>202240</td>\n",
       "    </tr>\n",
       "    <tr>\n",
       "      <th>1</th>\n",
       "      <td>741</td>\n",
       "      <td>36</td>\n",
       "      <td>9</td>\n",
       "      <td>12.59</td>\n",
       "      <td>2022-10-02</td>\n",
       "      <td>10:55:20</td>\n",
       "      <td>202240</td>\n",
       "    </tr>\n",
       "    <tr>\n",
       "      <th>2</th>\n",
       "      <td>743</td>\n",
       "      <td>26</td>\n",
       "      <td>4</td>\n",
       "      <td>10.00</td>\n",
       "      <td>2022-10-04</td>\n",
       "      <td>19:10:01</td>\n",
       "      <td>202240</td>\n",
       "    </tr>\n",
       "  </tbody>\n",
       "</table>\n",
       "</div>"
      ],
      "text/plain": [
       "   Receipt_id  Venue_id  Total_Nbr_of_Items  Total_Price Receipt_Date  \\\n",
       "0         742         8                   1        48.99   2022-10-03   \n",
       "1         741        36                   9        12.59   2022-10-02   \n",
       "2         743        26                   4        10.00   2022-10-04   \n",
       "\n",
       "  Receipt_Time  week_of_year  \n",
       "0     08:00:00        202240  \n",
       "1     10:55:20        202240  \n",
       "2     19:10:01        202240  "
      ]
     },
     "execution_count": 7,
     "metadata": {},
     "output_type": "execute_result"
    }
   ],
   "source": [
    "\n",
    "Receipt_id_g = new_receipt_id\n",
    "Venue_id_g = 26\n",
    "Total_Nbr_of_Items_g = 4\n",
    "Total_Price_g = 10.00\n",
    "Receipt_Date_g = pd.to_datetime('2022-10-04', format=\"%Y-%m-%d\")\n",
    "Receipt_Time_g = datetime.strptime('19:10:01','%H:%M:%S').time()\n",
    "week_of_year_g = max(tuple(Receipt.week_of_year.values.tolist()))\n",
    "\n",
    "new_row = {'Receipt_id':Receipt_id_g,\n",
    "           'Venue_id': Venue_id_g,\n",
    "           'Total_Nbr_of_Items': Total_Nbr_of_Items_g,\n",
    "           'Total_Price': Total_Price_g,\n",
    "           'Receipt_Date': Receipt_Date_g.date(),\n",
    "           'Receipt_Time': Receipt_Time_g,\n",
    "           'week_of_year': week_of_year_g\n",
    "          }\n",
    "new_row = pd.DataFrame(new_row, columns=Receipt.columns, index=[0])\n",
    "Receipt = pd.concat([Receipt,new_row], ignore_index=True)\n",
    "Receipt"
   ]
  },
  {
   "cell_type": "markdown",
   "id": "d23a46dc",
   "metadata": {},
   "source": [
    "<h3 style=\"color: green;\">Querying hs.payment</h3>"
   ]
  },
  {
   "cell_type": "code",
   "execution_count": 8,
   "id": "81dd640c",
   "metadata": {},
   "outputs": [],
   "source": [
    "sql_str0 = \"\"\"select * from hs.payment\n",
    "                where Receipt_id in {}\n",
    "                order by Payment_id desc;\"\"\".format(receipt_ids)"
   ]
  },
  {
   "cell_type": "code",
   "execution_count": 9,
   "id": "ca3e9ca4",
   "metadata": {},
   "outputs": [
    {
     "data": {
      "text/html": [
       "<div>\n",
       "<style scoped>\n",
       "    .dataframe tbody tr th:only-of-type {\n",
       "        vertical-align: middle;\n",
       "    }\n",
       "\n",
       "    .dataframe tbody tr th {\n",
       "        vertical-align: top;\n",
       "    }\n",
       "\n",
       "    .dataframe thead th {\n",
       "        text-align: right;\n",
       "    }\n",
       "</style>\n",
       "<table border=\"1\" class=\"dataframe\">\n",
       "  <thead>\n",
       "    <tr style=\"text-align: right;\">\n",
       "      <th></th>\n",
       "      <th>Payment_id</th>\n",
       "      <th>Receipt_id</th>\n",
       "      <th>Payment_Type</th>\n",
       "      <th>Card_Source</th>\n",
       "    </tr>\n",
       "  </thead>\n",
       "  <tbody>\n",
       "    <tr>\n",
       "      <th>0</th>\n",
       "      <td>742</td>\n",
       "      <td>742</td>\n",
       "      <td>Card</td>\n",
       "      <td>DD</td>\n",
       "    </tr>\n",
       "    <tr>\n",
       "      <th>1</th>\n",
       "      <td>741</td>\n",
       "      <td>741</td>\n",
       "      <td>Card</td>\n",
       "      <td>Contactless</td>\n",
       "    </tr>\n",
       "  </tbody>\n",
       "</table>\n",
       "</div>"
      ],
      "text/plain": [
       "   Payment_id  Receipt_id Payment_Type  Card_Source\n",
       "0         742         742         Card           DD\n",
       "1         741         741         Card  Contactless"
      ]
     },
     "execution_count": 9,
     "metadata": {},
     "output_type": "execute_result"
    }
   ],
   "source": [
    "Payment = pd.read_sql_query(sql_str0,engine)\n",
    "Payment.drop(['Card_Nbr','Aid','Auth_Code','Date_Added'],axis=1, inplace=True)\n",
    "Payment"
   ]
  },
  {
   "cell_type": "markdown",
   "id": "be6d3689",
   "metadata": {},
   "source": [
    "<h5 style=\"color: green;\">Guest payment</h5>"
   ]
  },
  {
   "cell_type": "code",
   "execution_count": 10,
   "id": "29f9449b",
   "metadata": {},
   "outputs": [
    {
     "data": {
      "text/html": [
       "<div>\n",
       "<style scoped>\n",
       "    .dataframe tbody tr th:only-of-type {\n",
       "        vertical-align: middle;\n",
       "    }\n",
       "\n",
       "    .dataframe tbody tr th {\n",
       "        vertical-align: top;\n",
       "    }\n",
       "\n",
       "    .dataframe thead th {\n",
       "        text-align: right;\n",
       "    }\n",
       "</style>\n",
       "<table border=\"1\" class=\"dataframe\">\n",
       "  <thead>\n",
       "    <tr style=\"text-align: right;\">\n",
       "      <th></th>\n",
       "      <th>Payment_id</th>\n",
       "      <th>Receipt_id</th>\n",
       "      <th>Payment_Type</th>\n",
       "      <th>Card_Source</th>\n",
       "    </tr>\n",
       "  </thead>\n",
       "  <tbody>\n",
       "    <tr>\n",
       "      <th>0</th>\n",
       "      <td>742</td>\n",
       "      <td>742</td>\n",
       "      <td>Card</td>\n",
       "      <td>DD</td>\n",
       "    </tr>\n",
       "    <tr>\n",
       "      <th>1</th>\n",
       "      <td>741</td>\n",
       "      <td>741</td>\n",
       "      <td>Card</td>\n",
       "      <td>Contactless</td>\n",
       "    </tr>\n",
       "    <tr>\n",
       "      <th>2</th>\n",
       "      <td>743</td>\n",
       "      <td>743</td>\n",
       "      <td>Card</td>\n",
       "      <td>Contactless</td>\n",
       "    </tr>\n",
       "  </tbody>\n",
       "</table>\n",
       "</div>"
      ],
      "text/plain": [
       "   Payment_id  Receipt_id Payment_Type  Card_Source\n",
       "0         742         742         Card           DD\n",
       "1         741         741         Card  Contactless\n",
       "2         743         743         Card  Contactless"
      ]
     },
     "execution_count": 10,
     "metadata": {},
     "output_type": "execute_result"
    }
   ],
   "source": [
    "Payment_id_g = max(tuple(Payment.Payment_id.values.tolist())) + 1\n",
    "Receipt_id_g\n",
    "Payment_Type_g = 'Card'\n",
    "Card_Source_g = 'Contactless'\n",
    "\n",
    "new_row_p = {'Payment_id': Payment_id_g, \n",
    "           'Receipt_id':Receipt_id_g,\n",
    "           'Payment_Type': Payment_Type_g,\n",
    "           'Card_Source': Card_Source_g\n",
    "          }\n",
    "new_row_p = pd.DataFrame(new_row_p, columns=Payment.columns, index=[0])\n",
    "Payment = pd.concat([Payment,new_row_p], ignore_index=True)\n",
    "Payment"
   ]
  },
  {
   "cell_type": "markdown",
   "id": "dfc855c0",
   "metadata": {},
   "source": [
    "<h3 style=\"color: green;\">Querying hs.item</h3>"
   ]
  },
  {
   "cell_type": "code",
   "execution_count": 11,
   "id": "c4fd4bbe",
   "metadata": {},
   "outputs": [],
   "source": [
    "sql_str1 = \"\"\"select * from hs.item\n",
    "                where Receipt_id in {}\n",
    "                order by Item_id desc;\"\"\".format(receipt_ids)"
   ]
  },
  {
   "cell_type": "code",
   "execution_count": 12,
   "id": "cc58aa3d",
   "metadata": {},
   "outputs": [
    {
     "data": {
      "text/html": [
       "<div>\n",
       "<style scoped>\n",
       "    .dataframe tbody tr th:only-of-type {\n",
       "        vertical-align: middle;\n",
       "    }\n",
       "\n",
       "    .dataframe tbody tr th {\n",
       "        vertical-align: top;\n",
       "    }\n",
       "\n",
       "    .dataframe thead th {\n",
       "        text-align: right;\n",
       "    }\n",
       "</style>\n",
       "<table border=\"1\" class=\"dataframe\">\n",
       "  <thead>\n",
       "    <tr style=\"text-align: right;\">\n",
       "      <th></th>\n",
       "      <th>Item_id</th>\n",
       "      <th>Receipt_id</th>\n",
       "      <th>Item_name</th>\n",
       "      <th>Item_Price</th>\n",
       "    </tr>\n",
       "  </thead>\n",
       "  <tbody>\n",
       "    <tr>\n",
       "      <th>0</th>\n",
       "      <td>4182</td>\n",
       "      <td>742</td>\n",
       "      <td>Tesco mobile new Iphone &amp; contract</td>\n",
       "      <td>48.99</td>\n",
       "    </tr>\n",
       "    <tr>\n",
       "      <th>1</th>\n",
       "      <td>4181</td>\n",
       "      <td>741</td>\n",
       "      <td>Apples</td>\n",
       "      <td>1.29</td>\n",
       "    </tr>\n",
       "    <tr>\n",
       "      <th>2</th>\n",
       "      <td>4180</td>\n",
       "      <td>741</td>\n",
       "      <td>Baked beans</td>\n",
       "      <td>1.30</td>\n",
       "    </tr>\n",
       "    <tr>\n",
       "      <th>3</th>\n",
       "      <td>4179</td>\n",
       "      <td>741</td>\n",
       "      <td>Bacon</td>\n",
       "      <td>1.60</td>\n",
       "    </tr>\n",
       "    <tr>\n",
       "      <th>4</th>\n",
       "      <td>4178</td>\n",
       "      <td>741</td>\n",
       "      <td>Bacon</td>\n",
       "      <td>1.60</td>\n",
       "    </tr>\n",
       "    <tr>\n",
       "      <th>5</th>\n",
       "      <td>4177</td>\n",
       "      <td>741</td>\n",
       "      <td>Sausages</td>\n",
       "      <td>1.50</td>\n",
       "    </tr>\n",
       "    <tr>\n",
       "      <th>6</th>\n",
       "      <td>4176</td>\n",
       "      <td>741</td>\n",
       "      <td>Sausages</td>\n",
       "      <td>1.50</td>\n",
       "    </tr>\n",
       "    <tr>\n",
       "      <th>7</th>\n",
       "      <td>4175</td>\n",
       "      <td>741</td>\n",
       "      <td>Eggs</td>\n",
       "      <td>1.35</td>\n",
       "    </tr>\n",
       "    <tr>\n",
       "      <th>8</th>\n",
       "      <td>4174</td>\n",
       "      <td>741</td>\n",
       "      <td>Bread</td>\n",
       "      <td>1.10</td>\n",
       "    </tr>\n",
       "    <tr>\n",
       "      <th>9</th>\n",
       "      <td>4173</td>\n",
       "      <td>741</td>\n",
       "      <td>Greek style yogurt</td>\n",
       "      <td>1.35</td>\n",
       "    </tr>\n",
       "  </tbody>\n",
       "</table>\n",
       "</div>"
      ],
      "text/plain": [
       "   Item_id  Receipt_id                           Item_name  Item_Price\n",
       "0     4182         742  Tesco mobile new Iphone & contract       48.99\n",
       "1     4181         741                              Apples        1.29\n",
       "2     4180         741                         Baked beans        1.30\n",
       "3     4179         741                               Bacon        1.60\n",
       "4     4178         741                               Bacon        1.60\n",
       "5     4177         741                            Sausages        1.50\n",
       "6     4176         741                            Sausages        1.50\n",
       "7     4175         741                                Eggs        1.35\n",
       "8     4174         741                               Bread        1.10\n",
       "9     4173         741                  Greek style yogurt        1.35"
      ]
     },
     "execution_count": 12,
     "metadata": {},
     "output_type": "execute_result"
    }
   ],
   "source": [
    "Item = pd.read_sql_query(sql_str1,engine)\n",
    "Item.drop(['Venue_Item_code','Venue_id','Date_Added'], axis=1, inplace=True)\n",
    "Item"
   ]
  },
  {
   "cell_type": "markdown",
   "id": "4723606c",
   "metadata": {},
   "source": [
    "<h5 style=\"color: green;\">Guest items</h5>"
   ]
  },
  {
   "cell_type": "code",
   "execution_count": 13,
   "id": "dd10b954",
   "metadata": {},
   "outputs": [
    {
     "data": {
      "text/html": [
       "<div>\n",
       "<style scoped>\n",
       "    .dataframe tbody tr th:only-of-type {\n",
       "        vertical-align: middle;\n",
       "    }\n",
       "\n",
       "    .dataframe tbody tr th {\n",
       "        vertical-align: top;\n",
       "    }\n",
       "\n",
       "    .dataframe thead th {\n",
       "        text-align: right;\n",
       "    }\n",
       "</style>\n",
       "<table border=\"1\" class=\"dataframe\">\n",
       "  <thead>\n",
       "    <tr style=\"text-align: right;\">\n",
       "      <th></th>\n",
       "      <th>Item_id</th>\n",
       "      <th>Receipt_id</th>\n",
       "      <th>Item_name</th>\n",
       "      <th>Item_Price</th>\n",
       "    </tr>\n",
       "  </thead>\n",
       "  <tbody>\n",
       "    <tr>\n",
       "      <th>0</th>\n",
       "      <td>4182</td>\n",
       "      <td>742</td>\n",
       "      <td>Tesco mobile new Iphone &amp; contract</td>\n",
       "      <td>48.99</td>\n",
       "    </tr>\n",
       "    <tr>\n",
       "      <th>1</th>\n",
       "      <td>4181</td>\n",
       "      <td>741</td>\n",
       "      <td>Apples</td>\n",
       "      <td>1.29</td>\n",
       "    </tr>\n",
       "    <tr>\n",
       "      <th>2</th>\n",
       "      <td>4180</td>\n",
       "      <td>741</td>\n",
       "      <td>Baked beans</td>\n",
       "      <td>1.30</td>\n",
       "    </tr>\n",
       "    <tr>\n",
       "      <th>3</th>\n",
       "      <td>4179</td>\n",
       "      <td>741</td>\n",
       "      <td>Bacon</td>\n",
       "      <td>1.60</td>\n",
       "    </tr>\n",
       "    <tr>\n",
       "      <th>4</th>\n",
       "      <td>4178</td>\n",
       "      <td>741</td>\n",
       "      <td>Bacon</td>\n",
       "      <td>1.60</td>\n",
       "    </tr>\n",
       "    <tr>\n",
       "      <th>5</th>\n",
       "      <td>4177</td>\n",
       "      <td>741</td>\n",
       "      <td>Sausages</td>\n",
       "      <td>1.50</td>\n",
       "    </tr>\n",
       "    <tr>\n",
       "      <th>6</th>\n",
       "      <td>4176</td>\n",
       "      <td>741</td>\n",
       "      <td>Sausages</td>\n",
       "      <td>1.50</td>\n",
       "    </tr>\n",
       "    <tr>\n",
       "      <th>7</th>\n",
       "      <td>4175</td>\n",
       "      <td>741</td>\n",
       "      <td>Eggs</td>\n",
       "      <td>1.35</td>\n",
       "    </tr>\n",
       "    <tr>\n",
       "      <th>8</th>\n",
       "      <td>4174</td>\n",
       "      <td>741</td>\n",
       "      <td>Bread</td>\n",
       "      <td>1.10</td>\n",
       "    </tr>\n",
       "    <tr>\n",
       "      <th>9</th>\n",
       "      <td>4173</td>\n",
       "      <td>741</td>\n",
       "      <td>Greek style yogurt</td>\n",
       "      <td>1.35</td>\n",
       "    </tr>\n",
       "    <tr>\n",
       "      <th>10</th>\n",
       "      <td>4183</td>\n",
       "      <td>743</td>\n",
       "      <td>Whole chicken</td>\n",
       "      <td>4.98</td>\n",
       "    </tr>\n",
       "    <tr>\n",
       "      <th>11</th>\n",
       "      <td>4183</td>\n",
       "      <td>743</td>\n",
       "      <td>Garlic pouch</td>\n",
       "      <td>2.79</td>\n",
       "    </tr>\n",
       "    <tr>\n",
       "      <th>12</th>\n",
       "      <td>4183</td>\n",
       "      <td>743</td>\n",
       "      <td>Chopped tomatoes</td>\n",
       "      <td>0.32</td>\n",
       "    </tr>\n",
       "    <tr>\n",
       "      <th>13</th>\n",
       "      <td>4183</td>\n",
       "      <td>743</td>\n",
       "      <td>Chopped tomatoes</td>\n",
       "      <td>0.32</td>\n",
       "    </tr>\n",
       "    <tr>\n",
       "      <th>14</th>\n",
       "      <td>4183</td>\n",
       "      <td>743</td>\n",
       "      <td>Chopped tomatoes</td>\n",
       "      <td>0.32</td>\n",
       "    </tr>\n",
       "    <tr>\n",
       "      <th>15</th>\n",
       "      <td>4183</td>\n",
       "      <td>743</td>\n",
       "      <td>Lemons</td>\n",
       "      <td>0.79</td>\n",
       "    </tr>\n",
       "    <tr>\n",
       "      <th>16</th>\n",
       "      <td>4183</td>\n",
       "      <td>743</td>\n",
       "      <td>Limes</td>\n",
       "      <td>0.79</td>\n",
       "    </tr>\n",
       "    <tr>\n",
       "      <th>17</th>\n",
       "      <td>4183</td>\n",
       "      <td>743</td>\n",
       "      <td>Vimto</td>\n",
       "      <td>2.50</td>\n",
       "    </tr>\n",
       "    <tr>\n",
       "      <th>18</th>\n",
       "      <td>4183</td>\n",
       "      <td>743</td>\n",
       "      <td>Red onions</td>\n",
       "      <td>0.67</td>\n",
       "    </tr>\n",
       "    <tr>\n",
       "      <th>19</th>\n",
       "      <td>4183</td>\n",
       "      <td>743</td>\n",
       "      <td>Peppers mixed</td>\n",
       "      <td>0.97</td>\n",
       "    </tr>\n",
       "    <tr>\n",
       "      <th>20</th>\n",
       "      <td>4183</td>\n",
       "      <td>743</td>\n",
       "      <td>Colgate</td>\n",
       "      <td>0.99</td>\n",
       "    </tr>\n",
       "  </tbody>\n",
       "</table>\n",
       "</div>"
      ],
      "text/plain": [
       "    Item_id  Receipt_id                           Item_name  Item_Price\n",
       "0      4182         742  Tesco mobile new Iphone & contract       48.99\n",
       "1      4181         741                              Apples        1.29\n",
       "2      4180         741                         Baked beans        1.30\n",
       "3      4179         741                               Bacon        1.60\n",
       "4      4178         741                               Bacon        1.60\n",
       "5      4177         741                            Sausages        1.50\n",
       "6      4176         741                            Sausages        1.50\n",
       "7      4175         741                                Eggs        1.35\n",
       "8      4174         741                               Bread        1.10\n",
       "9      4173         741                  Greek style yogurt        1.35\n",
       "10     4183         743                       Whole chicken        4.98\n",
       "11     4183         743                        Garlic pouch        2.79\n",
       "12     4183         743                    Chopped tomatoes        0.32\n",
       "13     4183         743                    Chopped tomatoes        0.32\n",
       "14     4183         743                    Chopped tomatoes        0.32\n",
       "15     4183         743                              Lemons        0.79\n",
       "16     4183         743                               Limes        0.79\n",
       "17     4183         743                               Vimto        2.50\n",
       "18     4183         743                          Red onions        0.67\n",
       "19     4183         743                       Peppers mixed        0.97\n",
       "20     4183         743                             Colgate        0.99"
      ]
     },
     "execution_count": 13,
     "metadata": {},
     "output_type": "execute_result"
    }
   ],
   "source": [
    "Item_id_g = max(tuple(Item.Item_id.values.tolist())) + 1\n",
    "Receipt_id_g\n",
    "Item_name_g = ['Whole chicken','Garlic pouch','Chopped tomatoes',\n",
    "               'Chopped tomatoes','Chopped tomatoes','Lemons',\n",
    "               'Limes','Vimto','Red onions','Peppers mixed','Colgate']\n",
    "Item_Price = [4.98,2.79,0.32,0.32,0.32,0.79,0.79,2.50,0.67,0.97,0.99]\n",
    "\n",
    "for i in range(len(Item_name_g)):\n",
    "    new_row_i = {'Item_id': Item_id_g,\n",
    "                 'Receipt_id': Receipt_id_g,\n",
    "                 'Item_name':Item_name_g[i],\n",
    "                 'Item_Price':Item_Price[i]\n",
    "                }\n",
    "    new_row_i = pd.DataFrame(new_row_i, columns=Item.columns, index=[0])\n",
    "    Item = pd.concat([Item,new_row_i], ignore_index=True)\n",
    "\n",
    "Item"
   ]
  },
  {
   "cell_type": "code",
   "execution_count": 14,
   "id": "d9d6c796",
   "metadata": {},
   "outputs": [],
   "source": [
    "# Excluding refunds i.e. negative Total_Price\n",
    "Receipt = Receipt[Receipt.Total_Price > 0]"
   ]
  },
  {
   "cell_type": "code",
   "execution_count": 15,
   "id": "2e79d20d",
   "metadata": {},
   "outputs": [
    {
     "name": "stdout",
     "output_type": "stream",
     "text": [
      "(3, 7)\n",
      "Shape After weekday calculation (3, 9)\n"
     ]
    },
    {
     "data": {
      "text/html": [
       "<div>\n",
       "<style scoped>\n",
       "    .dataframe tbody tr th:only-of-type {\n",
       "        vertical-align: middle;\n",
       "    }\n",
       "\n",
       "    .dataframe tbody tr th {\n",
       "        vertical-align: top;\n",
       "    }\n",
       "\n",
       "    .dataframe thead th {\n",
       "        text-align: right;\n",
       "    }\n",
       "</style>\n",
       "<table border=\"1\" class=\"dataframe\">\n",
       "  <thead>\n",
       "    <tr style=\"text-align: right;\">\n",
       "      <th></th>\n",
       "      <th>Receipt_id</th>\n",
       "      <th>Venue_id</th>\n",
       "      <th>Total_Nbr_of_Items</th>\n",
       "      <th>Total_Price</th>\n",
       "      <th>Receipt_Date</th>\n",
       "      <th>Receipt_Time</th>\n",
       "      <th>week_of_year</th>\n",
       "      <th>Date_diff</th>\n",
       "      <th>Week_day</th>\n",
       "    </tr>\n",
       "  </thead>\n",
       "  <tbody>\n",
       "    <tr>\n",
       "      <th>1</th>\n",
       "      <td>741</td>\n",
       "      <td>36</td>\n",
       "      <td>9</td>\n",
       "      <td>12.59</td>\n",
       "      <td>2022-10-02</td>\n",
       "      <td>10:55:20</td>\n",
       "      <td>202240</td>\n",
       "      <td>NaN</td>\n",
       "      <td>Sunday</td>\n",
       "    </tr>\n",
       "    <tr>\n",
       "      <th>0</th>\n",
       "      <td>742</td>\n",
       "      <td>8</td>\n",
       "      <td>1</td>\n",
       "      <td>48.99</td>\n",
       "      <td>2022-10-03</td>\n",
       "      <td>08:00:00</td>\n",
       "      <td>202240</td>\n",
       "      <td>1.0</td>\n",
       "      <td>Monday</td>\n",
       "    </tr>\n",
       "    <tr>\n",
       "      <th>2</th>\n",
       "      <td>743</td>\n",
       "      <td>26</td>\n",
       "      <td>4</td>\n",
       "      <td>10.00</td>\n",
       "      <td>2022-10-04</td>\n",
       "      <td>19:10:01</td>\n",
       "      <td>202240</td>\n",
       "      <td>1.0</td>\n",
       "      <td>Tuesday</td>\n",
       "    </tr>\n",
       "  </tbody>\n",
       "</table>\n",
       "</div>"
      ],
      "text/plain": [
       "   Receipt_id  Venue_id  Total_Nbr_of_Items  Total_Price Receipt_Date  \\\n",
       "1         741        36                   9        12.59   2022-10-02   \n",
       "0         742         8                   1        48.99   2022-10-03   \n",
       "2         743        26                   4        10.00   2022-10-04   \n",
       "\n",
       "  Receipt_Time  week_of_year  Date_diff Week_day  \n",
       "1     10:55:20        202240        NaN   Sunday  \n",
       "0     08:00:00        202240        1.0   Monday  \n",
       "2     19:10:01        202240        1.0  Tuesday  "
      ]
     },
     "execution_count": 15,
     "metadata": {},
     "output_type": "execute_result"
    }
   ],
   "source": [
    "# Deriving the difference in days between shopping trips\n",
    "\n",
    "# sorting the data in ascending date order\n",
    "Receipt.sort_values('Receipt_Date',ascending=True, inplace=True)\n",
    "print(Receipt.shape)\n",
    "\n",
    "# calculating the date difference using the shift() method to get the lag -1 value\n",
    "# and retrieving the numeric part of date difference\n",
    "Receipt['Date_diff'] = (Receipt.Receipt_Date - Receipt.Receipt_Date.shift()).dt.days\n",
    "\n",
    "# Deriving the weekdate\n",
    "week = ['Monday','Tuesday','Wednesday','Thursday','Friday','Saturday','Sunday']\n",
    "# [week[x.weekday()] for x in Receipt.Receipt_Date]\n",
    "Receipt['Week_day'] = Receipt.Receipt_Date.apply(lambda x: week[x.weekday()])\n",
    "print(\"Shape After weekday calculation\",Receipt.shape)\n",
    "Receipt.tail()"
   ]
  },
  {
   "cell_type": "code",
   "execution_count": 16,
   "id": "463f65cf",
   "metadata": {},
   "outputs": [
    {
     "data": {
      "text/html": [
       "<div>\n",
       "<style scoped>\n",
       "    .dataframe tbody tr th:only-of-type {\n",
       "        vertical-align: middle;\n",
       "    }\n",
       "\n",
       "    .dataframe tbody tr th {\n",
       "        vertical-align: top;\n",
       "    }\n",
       "\n",
       "    .dataframe thead th {\n",
       "        text-align: right;\n",
       "    }\n",
       "</style>\n",
       "<table border=\"1\" class=\"dataframe\">\n",
       "  <thead>\n",
       "    <tr style=\"text-align: right;\">\n",
       "      <th></th>\n",
       "      <th>Week_day</th>\n",
       "      <th>Week_day_numeric</th>\n",
       "    </tr>\n",
       "  </thead>\n",
       "  <tbody>\n",
       "    <tr>\n",
       "      <th>1</th>\n",
       "      <td>Sunday</td>\n",
       "      <td>7</td>\n",
       "    </tr>\n",
       "    <tr>\n",
       "      <th>0</th>\n",
       "      <td>Monday</td>\n",
       "      <td>1</td>\n",
       "    </tr>\n",
       "    <tr>\n",
       "      <th>2</th>\n",
       "      <td>Tuesday</td>\n",
       "      <td>2</td>\n",
       "    </tr>\n",
       "  </tbody>\n",
       "</table>\n",
       "</div>"
      ],
      "text/plain": [
       "  Week_day  Week_day_numeric\n",
       "1   Sunday                 7\n",
       "0   Monday                 1\n",
       "2  Tuesday                 2"
      ]
     },
     "execution_count": 16,
     "metadata": {},
     "output_type": "execute_result"
    }
   ],
   "source": [
    "# Retrieving only the numeric version of weekday()\n",
    "# adding 1 to remove the 0 for the first day\n",
    "Receipt['Week_day_numeric'] = Receipt.Receipt_Date.apply(lambda x: x.weekday()) + 1\n",
    "Receipt[['Week_day','Week_day_numeric']].head(15)"
   ]
  },
  {
   "cell_type": "code",
   "execution_count": 17,
   "id": "2752c4ac",
   "metadata": {},
   "outputs": [],
   "source": [
    "# calculating week_of_year\n",
    "# Receipt['week_of_year'] = \\\n",
    "# Receipt.Receipt_Date.apply(lambda x: \"_\".join((str(x.isocalendar()[0]),str(x.isocalendar()[1]))))\n",
    "\n",
    "# Receipt.head()"
   ]
  },
  {
   "cell_type": "code",
   "execution_count": 18,
   "id": "32661936",
   "metadata": {},
   "outputs": [],
   "source": [
    "# concatenate year and week to retrieve week of the year\n",
    "# Receipt['week_of_year'] = Receipt.Receipt_Date.dt.isocalendar().year.map(str)+ \"_\" +  \\\n",
    "# Receipt.Receipt_Date.dt.isocalendar().week.map(str)\n",
    "# Receipt.head(3)"
   ]
  },
  {
   "cell_type": "code",
   "execution_count": 19,
   "id": "66b5b3f1",
   "metadata": {},
   "outputs": [
    {
     "data": {
      "text/html": [
       "<div>\n",
       "<style scoped>\n",
       "    .dataframe tbody tr th:only-of-type {\n",
       "        vertical-align: middle;\n",
       "    }\n",
       "\n",
       "    .dataframe tbody tr th {\n",
       "        vertical-align: top;\n",
       "    }\n",
       "\n",
       "    .dataframe thead th {\n",
       "        text-align: right;\n",
       "    }\n",
       "</style>\n",
       "<table border=\"1\" class=\"dataframe\">\n",
       "  <thead>\n",
       "    <tr style=\"text-align: right;\">\n",
       "      <th></th>\n",
       "      <th>Receipt_id</th>\n",
       "      <th>Venue_id</th>\n",
       "      <th>Total_Nbr_of_Items</th>\n",
       "      <th>Total_Price</th>\n",
       "      <th>Receipt_Date</th>\n",
       "      <th>Receipt_Time</th>\n",
       "      <th>week_of_year</th>\n",
       "      <th>Date_diff</th>\n",
       "      <th>Week_day</th>\n",
       "      <th>Week_day_numeric</th>\n",
       "      <th>Nbr_trips_per_wk</th>\n",
       "      <th>Nbr_items_per_wk</th>\n",
       "      <th>Nbr_items_wk_perc</th>\n",
       "      <th>Expenditure_per_wk</th>\n",
       "      <th>Total_Exp_wk_perc</th>\n",
       "    </tr>\n",
       "  </thead>\n",
       "  <tbody>\n",
       "    <tr>\n",
       "      <th>1</th>\n",
       "      <td>741</td>\n",
       "      <td>36</td>\n",
       "      <td>9</td>\n",
       "      <td>12.59</td>\n",
       "      <td>2022-10-02</td>\n",
       "      <td>10:55:20</td>\n",
       "      <td>202240</td>\n",
       "      <td>NaN</td>\n",
       "      <td>Sunday</td>\n",
       "      <td>7</td>\n",
       "      <td>3</td>\n",
       "      <td>14</td>\n",
       "      <td>0.642857</td>\n",
       "      <td>71.58</td>\n",
       "      <td>0.175887</td>\n",
       "    </tr>\n",
       "    <tr>\n",
       "      <th>0</th>\n",
       "      <td>742</td>\n",
       "      <td>8</td>\n",
       "      <td>1</td>\n",
       "      <td>48.99</td>\n",
       "      <td>2022-10-03</td>\n",
       "      <td>08:00:00</td>\n",
       "      <td>202240</td>\n",
       "      <td>1.0</td>\n",
       "      <td>Monday</td>\n",
       "      <td>1</td>\n",
       "      <td>3</td>\n",
       "      <td>14</td>\n",
       "      <td>0.071429</td>\n",
       "      <td>71.58</td>\n",
       "      <td>0.684409</td>\n",
       "    </tr>\n",
       "    <tr>\n",
       "      <th>2</th>\n",
       "      <td>743</td>\n",
       "      <td>26</td>\n",
       "      <td>4</td>\n",
       "      <td>10.00</td>\n",
       "      <td>2022-10-04</td>\n",
       "      <td>19:10:01</td>\n",
       "      <td>202240</td>\n",
       "      <td>1.0</td>\n",
       "      <td>Tuesday</td>\n",
       "      <td>2</td>\n",
       "      <td>3</td>\n",
       "      <td>14</td>\n",
       "      <td>0.285714</td>\n",
       "      <td>71.58</td>\n",
       "      <td>0.139704</td>\n",
       "    </tr>\n",
       "  </tbody>\n",
       "</table>\n",
       "</div>"
      ],
      "text/plain": [
       "   Receipt_id  Venue_id  Total_Nbr_of_Items  Total_Price Receipt_Date  \\\n",
       "1         741        36                   9        12.59   2022-10-02   \n",
       "0         742         8                   1        48.99   2022-10-03   \n",
       "2         743        26                   4        10.00   2022-10-04   \n",
       "\n",
       "  Receipt_Time  week_of_year  Date_diff Week_day  Week_day_numeric  \\\n",
       "1     10:55:20        202240        NaN   Sunday                 7   \n",
       "0     08:00:00        202240        1.0   Monday                 1   \n",
       "2     19:10:01        202240        1.0  Tuesday                 2   \n",
       "\n",
       "   Nbr_trips_per_wk  Nbr_items_per_wk  Nbr_items_wk_perc  Expenditure_per_wk  \\\n",
       "1                 3                14           0.642857               71.58   \n",
       "0                 3                14           0.071429               71.58   \n",
       "2                 3                14           0.285714               71.58   \n",
       "\n",
       "   Total_Exp_wk_perc  \n",
       "1           0.175887  \n",
       "0           0.684409  \n",
       "2           0.139704  "
      ]
     },
     "execution_count": 19,
     "metadata": {},
     "output_type": "execute_result"
    }
   ],
   "source": [
    "# Calculate the number of trips per week\n",
    "Receipt['Nbr_trips_per_wk'] = Receipt.groupby(['week_of_year'])['Receipt_id'].transform('count')\n",
    "\n",
    "# Calculate number of items bought per week\n",
    "Receipt['Nbr_items_per_wk'] = Receipt.groupby(['week_of_year'])['Total_Nbr_of_Items'].transform('sum')\n",
    "# Calculating receipt Total_Nbr_of_Items as a percentage of the weeks Total_Nbr_of_Items \n",
    "Receipt['Nbr_items_wk_perc'] = Receipt.Total_Nbr_of_Items / Receipt.Nbr_items_per_wk\n",
    "\n",
    "# Calculate expenditure per week\n",
    "Receipt['Expenditure_per_wk'] = Receipt.groupby(['week_of_year'])['Total_Price'].transform('sum')\n",
    "# Calculating receipt Total_Price as a percentage of the weeks expenditure\n",
    "Receipt['Total_Exp_wk_perc'] = Receipt.Total_Price / Receipt.Expenditure_per_wk\n",
    "Receipt.head(3)"
   ]
  },
  {
   "cell_type": "code",
   "execution_count": null,
   "id": "98c18770",
   "metadata": {},
   "outputs": [],
   "source": []
  },
  {
   "cell_type": "code",
   "execution_count": 20,
   "id": "52588756",
   "metadata": {},
   "outputs": [
    {
     "data": {
      "text/html": [
       "<div>\n",
       "<style scoped>\n",
       "    .dataframe tbody tr th:only-of-type {\n",
       "        vertical-align: middle;\n",
       "    }\n",
       "\n",
       "    .dataframe tbody tr th {\n",
       "        vertical-align: top;\n",
       "    }\n",
       "\n",
       "    .dataframe thead th {\n",
       "        text-align: right;\n",
       "    }\n",
       "</style>\n",
       "<table border=\"1\" class=\"dataframe\">\n",
       "  <thead>\n",
       "    <tr style=\"text-align: right;\">\n",
       "      <th></th>\n",
       "      <th>Receipt_id</th>\n",
       "      <th>Venue_id</th>\n",
       "      <th>Total_Nbr_of_Items</th>\n",
       "      <th>Total_Price</th>\n",
       "      <th>Receipt_Date</th>\n",
       "      <th>Receipt_Time</th>\n",
       "      <th>week_of_year</th>\n",
       "      <th>Date_diff</th>\n",
       "      <th>Week_day</th>\n",
       "      <th>Week_day_numeric</th>\n",
       "      <th>Nbr_trips_per_wk</th>\n",
       "      <th>Nbr_items_per_wk</th>\n",
       "      <th>Nbr_items_wk_perc</th>\n",
       "      <th>Expenditure_per_wk</th>\n",
       "      <th>Total_Exp_wk_perc</th>\n",
       "      <th>hour</th>\n",
       "      <th>Part_of_day</th>\n",
       "    </tr>\n",
       "  </thead>\n",
       "  <tbody>\n",
       "    <tr>\n",
       "      <th>1</th>\n",
       "      <td>741</td>\n",
       "      <td>36</td>\n",
       "      <td>9</td>\n",
       "      <td>12.59</td>\n",
       "      <td>2022-10-02</td>\n",
       "      <td>10:55:20</td>\n",
       "      <td>202240</td>\n",
       "      <td>NaN</td>\n",
       "      <td>Sunday</td>\n",
       "      <td>7</td>\n",
       "      <td>3</td>\n",
       "      <td>14</td>\n",
       "      <td>0.642857</td>\n",
       "      <td>71.58</td>\n",
       "      <td>0.175887</td>\n",
       "      <td>10</td>\n",
       "      <td>Morning</td>\n",
       "    </tr>\n",
       "    <tr>\n",
       "      <th>0</th>\n",
       "      <td>742</td>\n",
       "      <td>8</td>\n",
       "      <td>1</td>\n",
       "      <td>48.99</td>\n",
       "      <td>2022-10-03</td>\n",
       "      <td>08:00:00</td>\n",
       "      <td>202240</td>\n",
       "      <td>1.0</td>\n",
       "      <td>Monday</td>\n",
       "      <td>1</td>\n",
       "      <td>3</td>\n",
       "      <td>14</td>\n",
       "      <td>0.071429</td>\n",
       "      <td>71.58</td>\n",
       "      <td>0.684409</td>\n",
       "      <td>8</td>\n",
       "      <td>Morning</td>\n",
       "    </tr>\n",
       "    <tr>\n",
       "      <th>2</th>\n",
       "      <td>743</td>\n",
       "      <td>26</td>\n",
       "      <td>4</td>\n",
       "      <td>10.00</td>\n",
       "      <td>2022-10-04</td>\n",
       "      <td>19:10:01</td>\n",
       "      <td>202240</td>\n",
       "      <td>1.0</td>\n",
       "      <td>Tuesday</td>\n",
       "      <td>2</td>\n",
       "      <td>3</td>\n",
       "      <td>14</td>\n",
       "      <td>0.285714</td>\n",
       "      <td>71.58</td>\n",
       "      <td>0.139704</td>\n",
       "      <td>19</td>\n",
       "      <td>Evening</td>\n",
       "    </tr>\n",
       "  </tbody>\n",
       "</table>\n",
       "</div>"
      ],
      "text/plain": [
       "   Receipt_id  Venue_id  Total_Nbr_of_Items  Total_Price Receipt_Date  \\\n",
       "1         741        36                   9        12.59   2022-10-02   \n",
       "0         742         8                   1        48.99   2022-10-03   \n",
       "2         743        26                   4        10.00   2022-10-04   \n",
       "\n",
       "  Receipt_Time  week_of_year  Date_diff Week_day  Week_day_numeric  \\\n",
       "1     10:55:20        202240        NaN   Sunday                 7   \n",
       "0     08:00:00        202240        1.0   Monday                 1   \n",
       "2     19:10:01        202240        1.0  Tuesday                 2   \n",
       "\n",
       "   Nbr_trips_per_wk  Nbr_items_per_wk  Nbr_items_wk_perc  Expenditure_per_wk  \\\n",
       "1                 3                14           0.642857               71.58   \n",
       "0                 3                14           0.071429               71.58   \n",
       "2                 3                14           0.285714               71.58   \n",
       "\n",
       "   Total_Exp_wk_perc  hour Part_of_day  \n",
       "1           0.175887    10     Morning  \n",
       "0           0.684409     8     Morning  \n",
       "2           0.139704    19     Evening  "
      ]
     },
     "execution_count": 20,
     "metadata": {},
     "output_type": "execute_result"
    }
   ],
   "source": [
    "# extract the time of day as morning, afternoon, evening etc\n",
    "Receipt['hour'] = Receipt['Receipt_Time'].apply(lambda x: x.hour)\n",
    "\n",
    "bins_= [0,7,11,17,20,23]\n",
    "lbl = ['Early','Morning','Afternoon','Evening','Late_night']\n",
    "\n",
    "Receipt['Part_of_day'] = pd.cut(Receipt['hour'],bins=bins_, labels=lbl, include_lowest=True)\n",
    "\n",
    "Receipt.tail()"
   ]
  },
  {
   "cell_type": "markdown",
   "id": "096b17dc",
   "metadata": {},
   "source": [
    "<h3 style=\"color: green;\">hs.payments</h3>"
   ]
  },
  {
   "cell_type": "code",
   "execution_count": 21,
   "id": "a4ca9e0a",
   "metadata": {},
   "outputs": [],
   "source": [
    "# merging Payment to Receipt for the analysis\n",
    "Receipt_Payment = pd.merge(Receipt, \n",
    "                           Payment[['Receipt_id','Payment_Type','Card_Source']], \n",
    "                           on='Receipt_id', how='left')"
   ]
  },
  {
   "cell_type": "markdown",
   "id": "614b0038",
   "metadata": {},
   "source": [
    "<h3 style=\"color: green;\">hs.item</h3>"
   ]
  },
  {
   "cell_type": "code",
   "execution_count": 22,
   "id": "39ccb267",
   "metadata": {},
   "outputs": [],
   "source": [
    "raw0 = pd.merge(Receipt_Payment,\n",
    "                     Item[['Receipt_id','Item_id','Item_name','Item_Price']], \n",
    "                     on='Receipt_id', \n",
    "                     how='left' )\n"
   ]
  },
  {
   "cell_type": "markdown",
   "id": "1557d3cf",
   "metadata": {},
   "source": [
    "<h3 style=\"color: green;\">Grouping items and creating new features</h3>"
   ]
  },
  {
   "cell_type": "code",
   "execution_count": 23,
   "id": "63c07fb2",
   "metadata": {},
   "outputs": [],
   "source": [
    "# breads\n",
    "nots = ['garlic','Ham','Garlic','ham']\n",
    "ins = ['Bread','bloomer','bread','Bloomer']\n",
    "\n",
    "raw0['Bread'] = raw0.Item_name.apply(lambda sentence: 1 if any(word in sentence for word in ins) \n",
    "                            and not any(word in sentence for word in nots) else 0)"
   ]
  },
  {
   "cell_type": "code",
   "execution_count": 24,
   "id": "341c7c35",
   "metadata": {},
   "outputs": [],
   "source": [
    "# Cooked meats indicator\n",
    "not_cook = ['glass','shampoo','water','conditioner','champagne']\n",
    "cooked_meats = ['chicken pasty Slices twin pack','steak and kidney pasty',\n",
    "                'chicken cooked','cooked chicken','roast chicken thighs',\n",
    "                'mackerel','Salmon','pork pies classic','ham',\n",
    "                'sardines','sausages cocktail','spicy chorizo sausages',\n",
    "                'sausages rolls','sausage rolls','salami','meatballs']\n",
    "\n",
    "raw0['Cooked_meats'] = raw0.Item_name.apply(lambda sentence: 1 if \n",
    "                                            any(word.lower() in sentence.lower() \n",
    "                                                for word in cooked_meats) \n",
    "                                            and not any(word.lower() in sentence.lower() \n",
    "                                                        for word in not_cook) \n",
    "                                            else 0)"
   ]
  },
  {
   "cell_type": "code",
   "execution_count": 25,
   "id": "81adb37e",
   "metadata": {},
   "outputs": [],
   "source": [
    "# Raw meats indicator\n",
    "not_raw = ['pasty','cooked','roast','seasoning',\n",
    "           'southern','fried','meal','piece',\n",
    "           'box','bake','szechuan','pies',\n",
    "           'mushroom','pie','salami','rolls','cocktails',\n",
    "           'chips','chorizo']\n",
    "raw_meats = ['bacon','chicken','lamb','gammon','sausages',\n",
    "             'sausage','pork','fish','beef','eggs']\n",
    "\n",
    "raw0['Raw_meats'] = raw0.Item_name.apply(lambda sentence: 1 if any(word.lower() in sentence.lower() for word in raw_meats) \n",
    "                            and not any(word.lower() in sentence.lower() for word in not_raw) else 0)\n"
   ]
  },
  {
   "cell_type": "code",
   "execution_count": 26,
   "id": "38155344",
   "metadata": {},
   "outputs": [],
   "source": [
    "# Creating eating out indicator using the restaurants and fastfoods Venue id\n",
    "eating_out = [11,20,25,31,34,35,40,41,42,48]\n",
    "raw0['Eating_out'] = raw0.apply(lambda x: 1 if x['Venue_id'] in eating_out or \n",
    "                                         x['Item_name'] in ['Food @ space centre',\n",
    "                                                         'Drinks @ space centre'] \n",
    "                                         else 0,axis=1)"
   ]
  },
  {
   "cell_type": "code",
   "execution_count": 27,
   "id": "85032aed",
   "metadata": {},
   "outputs": [],
   "source": [
    "# Creating snack indicator\n",
    "not_snack = ['diesel','james']\n",
    "snacks = ['snickers','digestive','digestives',\n",
    "          'chocolate','yogurt','cake','cakes',\n",
    "          'snack','nuts','donuts','doughnut',\n",
    "          'mikati','fudge','maltesers','twix','marmalade',\n",
    "          'jam','custard']\n",
    "\n",
    "raw0['Snacks'] = raw0.Item_name.apply(lambda sentence: 1 if \n",
    "                                      any(word.lower() in sentence.lower() for word in snacks)\n",
    "                                      and not \n",
    "                                      any(word.lower() in sentence.lower() for word in not_snack)\n",
    "                                     else 0)"
   ]
  },
  {
   "cell_type": "code",
   "execution_count": 28,
   "id": "e9c55d42",
   "metadata": {},
   "outputs": [],
   "source": [
    "# Creating drinks indicator variable\n",
    "# Note: this includes alcoholic and non alcoholic drinks\n",
    "\n",
    "not_drink = ['diesel','glass','socks','fan','heater',\n",
    "             'beef','source','ironing','plaster','ham','lockets']\n",
    "\n",
    "drinks = ['juice','vimto','ribena','squash','tropical','liquer',\n",
    "          'dr pepper','coke','alcohol','beer','rubicon','courvoisier'\n",
    "          'wine','irish','port','rum','original','smoothies','water',\n",
    "          'honey','cordial','whiskey']\n",
    "\n",
    "raw0['Drinks'] = raw0.Item_name.apply(lambda sentence: 1 if any(word.lower() in sentence.lower()\n",
    "                                                                for word in drinks) \n",
    "                                      and not any(word.lower() in sentence.lower() \n",
    "                                                  for word in not_drink)\n",
    "                                     else 0)"
   ]
  },
  {
   "cell_type": "code",
   "execution_count": 29,
   "id": "41540c6e",
   "metadata": {},
   "outputs": [],
   "source": [
    "# Creating a vegetables indicator\n",
    "not_veg = ['seed','bread','fried','black','dr','lisbon']\n",
    "vegetables = ['cabbage','carrots','parsnip','greens','garlic','ginger',\n",
    "              'tomatoes','onions','chillies','ngai ngai','leaf',\n",
    "              'leaves','mushrooms','spinach','coriander','parsley',\n",
    "              'broccoli','pumpkin','peas','peppers','cucumber','leeks',\n",
    "             'brussel sprouts','mint','asparagus','beans']\n",
    "\n",
    "raw0['Vegetables'] = raw0.Item_name.apply(lambda sentence: \n",
    "                                          1 if any(word.lower() in sentence.lower() \n",
    "                                                   for word in vegetables)\n",
    "                                         and not any(word.lower() in sentence.lower() \n",
    "                                                     for word in not_veg)\n",
    "                                         else 0)"
   ]
  },
  {
   "cell_type": "code",
   "execution_count": 30,
   "id": "90d01d51",
   "metadata": {},
   "outputs": [],
   "source": [
    "# Creating a fruits indicator\n",
    "not_fruit = ['juice','rubicon','original','smoothies','yogurt','cordial',\n",
    "             'ribena','squash','volvic','water','lockets','bucket']\n",
    "fruit = ['olives','apples','mango','grape','grapes','bananas',\n",
    "          'lime','lemon','strawberries','oranges']\n",
    "\n",
    "raw0['Fruit'] = raw0.Item_name.apply(lambda sentence: 1 if any(word.lower() in sentence.lower() \n",
    "                                                               for word in fruit) \n",
    "                                     and not any(word.lower() in sentence.lower() \n",
    "                                                 for word in not_fruit)\n",
    "                                    else 0)"
   ]
  },
  {
   "cell_type": "code",
   "execution_count": 31,
   "id": "82ac60d4",
   "metadata": {},
   "outputs": [],
   "source": [
    "# Creating an indicator for cooking base\n",
    "not_base = ['fried']\n",
    "cooking_base = ['pasta','spaghetti','rice','flour','potatoe','potatoes','potato']\n",
    "\n",
    "raw0['Cooking_base'] = raw0.Item_name.apply(lambda sentence: 1 if \n",
    "                                            any(word.lower() in sentence.lower() \n",
    "                                                for word in cooking_base) \n",
    "                                            and not any(word.lower() in sentence.lower() \n",
    "                                                        for word in not_base) \n",
    "                                            else 0)"
   ]
  },
  {
   "cell_type": "code",
   "execution_count": 32,
   "id": "d5510337",
   "metadata": {},
   "outputs": [],
   "source": [
    "# Creating an indicator for Dairy produce\n",
    "dairy_produce = ['cheese','brilliantly','butter','butterlicious','spread','margarine']\n",
    "raw0['Dairy_produce'] = raw0.Item_name.apply(lambda sentence: 1 if \n",
    "                                             any(word.lower() in sentence.lower() \n",
    "                                                 for word in dairy_produce) \n",
    "                                             else 0)"
   ]
  },
  {
   "cell_type": "code",
   "execution_count": 33,
   "id": "786b5a5d",
   "metadata": {},
   "outputs": [],
   "source": [
    "# Creating an indicator for seasoning\n",
    "seasoning = ['black pepper','salt','seasoning','spice','cinnamon','paprika']\n",
    "\n",
    "raw0['Seasoning'] = raw0.Item_name.apply(lambda sentence: 1 if \n",
    "                                         any(word.lower() in sentence.lower() \n",
    "                                             for word in seasoning) \n",
    "                                         else 0 )"
   ]
  },
  {
   "cell_type": "code",
   "execution_count": 34,
   "id": "d0976b26",
   "metadata": {},
   "outputs": [],
   "source": [
    "# creating an indicator for breakfast food\n",
    "breakfast = ['granola','muesli','sultanas']\n",
    "\n",
    "raw0['Breakfast'] = raw0.Item_name.apply(lambda sentence: 1 if \n",
    "                                         any(word.lower() in sentence.lower() \n",
    "                                             for word in breakfast) \n",
    "                                         else 0 )"
   ]
  },
  {
   "cell_type": "code",
   "execution_count": 35,
   "id": "5947c34b",
   "metadata": {},
   "outputs": [],
   "source": [
    "# Creating an indicator for transport\n",
    "transport = ['unleaded','diesel','return ticket']\n",
    "raw0['Transport'] = raw0.Item_name.apply(lambda sentence: 1 if \n",
    "                                         any(word.lower() in sentence.lower() \n",
    "                                             for word in transport)\n",
    "                                         else 0)"
   ]
  },
  {
   "cell_type": "code",
   "execution_count": 36,
   "id": "36a37c4d",
   "metadata": {},
   "outputs": [],
   "source": [
    "# Creating an indicator for diy\n",
    "not_diy = ['sony']\n",
    "diy = ['fifty box 44l black','soil scoop','garden glove','compost','carrot amsterdam',\n",
    "       'cabbage copenhagen','parsnip gladiator','Spring onion white lisbon seed','bucket',\n",
    "       'onion white ailsa craig seed','dahlia assorted bright seed','gorilla',\n",
    "       'kaze box','galvanised garden wheelbarrow','magnusson 500mm steel ruler',\n",
    "       'tape measure','timber','bosch 34 piece drill accessory','wood screw steel',\n",
    "       'bolted screws set','decking srew csk pz pk500','heavy duty rubble sacks 50l',\n",
    "       'magnusson screw driver slot 100 x','wiha slotted screw driver 150 x',\n",
    "       'general purpose plier set 3pc','mag ratchet precision Screwdriver',\n",
    "       'diall l75 decking screws 250pck','chrome plated barrel latch','wire',\n",
    "       'satin nickel barrel latch','chrome plated barrel latch',\n",
    "       'ronseal varnish outdoor clear gloss','zipper metal silver teeth',\n",
    "       'neodymium magnets']\n",
    "\n",
    "raw0['DIY'] = raw0.Item_name.apply(lambda sentence: 1 if any(word.lower() in sentence.lower() \n",
    "                                                             for word in diy) \n",
    "                                   and not any(word.lower() in sentence.lower() \n",
    "                                               for word in not_diy) \n",
    "                                   else 0)"
   ]
  },
  {
   "cell_type": "code",
   "execution_count": 37,
   "id": "0706aba8",
   "metadata": {},
   "outputs": [],
   "source": [
    "# Creating an indicator for electronics\n",
    "electronics = ['macallister combi drill','macallister multipendulum jigsaw 600w',\n",
    "               'bench table saw','fan heater','voltmeter','hair clippers wahl',\n",
    "               'silk steamer','vacuum cleaner','table saw',\n",
    "               'rotary tool kit','reciprocating saws','air fryer oven']\n",
    "\n",
    "raw0['Electronics'] = raw0.Item_name.apply(lambda sentence: 1 if \n",
    "                                           any(word.lower() in sentence.lower() \n",
    "                                               for word in electronics) \n",
    "                                           else 0)"
   ]
  },
  {
   "cell_type": "code",
   "execution_count": 38,
   "id": "be53625a",
   "metadata": {},
   "outputs": [],
   "source": [
    "# creating an indicator for education\n",
    "not_edu = ['clevo']\n",
    "education = ['King Richard Williams','linkedin','mysql','financial','python',\n",
    "             'bootcamp','web server','linux','apache','sas','pencils',\n",
    "             'eraser','WHS 15cm ruler','bic pen','a4','binders']\n",
    "\n",
    "raw0['Education'] = raw0.Item_name.apply(lambda sentence: 1 if \n",
    "                                         any(word.lower() in sentence.lower() \n",
    "                                             for word in education) \n",
    "                                         and not \n",
    "                                         any(word.lower() in sentence.lower() \n",
    "                                             for word in not_edu) \n",
    "                                         else 0)"
   ]
  },
  {
   "cell_type": "code",
   "execution_count": 39,
   "id": "d0c4adf5",
   "metadata": {},
   "outputs": [],
   "source": [
    "# Creating an indicator for tech and services\n",
    "tech_and_services = ['macbook pro','flash drive','lonovo','sony','clevo','tesco','domain registration',\n",
    "                     'membership payment']\n",
    "\n",
    "raw0['Tech_and_services'] = raw0.Item_name.apply(lambda sentence: 1 if \n",
    "                                                 any(word.lower() in sentence.lower() \n",
    "                                                     for word in tech_and_services) \n",
    "                                                 else 0)"
   ]
  },
  {
   "cell_type": "code",
   "execution_count": 40,
   "id": "d532c566",
   "metadata": {},
   "outputs": [],
   "source": [
    "# Creating an indicator for cosmetics and self care\n",
    "\n",
    "not_cosmetic = ['sony']\n",
    "cosmetics_and_selfcare = ['shampoo','shower','tooth','colgate','wisdom','nivea',\n",
    "                          'razor','body','blades','aqueous','shave','african',\n",
    "                          'perfume','brut','roll on','Roll-on','bettina bath']\n",
    "\n",
    "raw0['Cosmetics_and_selfcare'] = raw0.Item_name.apply(lambda sentence: 1 if \n",
    "                                                      any(word.lower() in sentence.lower() \n",
    "                                                          for word in cosmetics_and_selfcare) \n",
    "                                                      and not \n",
    "                                                      any(word.lower() in sentence.lower() \n",
    "                                                          for word in not_cosmetic) \n",
    "                                                      else 0)"
   ]
  },
  {
   "cell_type": "code",
   "execution_count": 41,
   "id": "bc5a8f8d",
   "metadata": {},
   "outputs": [],
   "source": [
    "# Creating an indicator for clothes and shoes\n",
    "clothes_and_shoes = ['lonsdale','slaz','trainers','addidas','puma','sondico','nike',\n",
    "                     'umbrella','trousers','socks','shirt','boxers','gloves','boots',\n",
    "                     'insoles']\n",
    "raw0['Clothes_and_shoes'] = raw0.Item_name.apply(lambda sentence: 1 if \n",
    "                                                 any(word.lower() in sentence.lower() \n",
    "                                                     for word in clothes_and_shoes) \n",
    "                                                 else 0)"
   ]
  },
  {
   "cell_type": "code",
   "execution_count": 42,
   "id": "5318b26d",
   "metadata": {},
   "outputs": [],
   "source": [
    "# creating an indicator for house and kitchen \n",
    "not_house = ['cake']\n",
    "house_and_kitchen = ['fairy liquid','measure jug','fitted bed sheet','glass',\n",
    "                     'turner (spatula)','rolling pin','fairy liquid','orange citrus',\n",
    "                     'turkey baster','dish drainer','extension lead','grater','power spray',\n",
    "                     'liquid','roaster and rack','kitchen roller','salad tongs',\n",
    "                     'strainer 12cm','arial pods','metal scourer','bathmat','curtain hooks',\n",
    "                     'ant killer spray','scouring pads','sponge','surf','foil','plaster',\n",
    "                     'knife sharpener','electric hand mixer','athena cotton wool','mop',\n",
    "                     'ofargo']\n",
    "\n",
    "raw0['House_and_kitchen'] = raw0.Item_name.apply(lambda sentence: 1 if \n",
    "                                                 any(word.lower() in sentence.lower() \n",
    "                                                     for word in house_and_kitchen) \n",
    "                                                 and not \n",
    "                                                 any(word.lower() in sentence.lower() \n",
    "                                                     for word in not_house) \n",
    "                                                 else 0)"
   ]
  },
  {
   "cell_type": "code",
   "execution_count": 43,
   "id": "58ee95c2",
   "metadata": {},
   "outputs": [],
   "source": [
    "indicator_list = ['Bread','Cooked_meats','Raw_meats','Eating_out','Snacks','Drinks',\n",
    "                  'Vegetables','Fruit','Cooking_base','Dairy_produce','Seasoning',\n",
    "                  'Breakfast','Transport','DIY','Electronics','Education',\n",
    "                  'Tech_and_services','Cosmetics_and_selfcare','Clothes_and_shoes',\n",
    "                  'House_and_kitchen']\n",
    "\n",
    "# Looping through the indicator list to derive new features\n",
    "for x in indicator_list:\n",
    "    # Calculate item x count by shopping trip(Receipt) and by week\n",
    "    raw0[\"{}_receipt\".format(x)] = raw0.groupby(['Receipt_id'])[x].transform('sum')\n",
    "    raw0[\"{}_wk\".format(x)] = raw0.groupby(['week_of_year'])[x].transform('sum')\n",
    "\n",
    "    # Receipt item x as a proportion of week's item x\n",
    "    raw0[\"{}_wk_perc\".format(x)] = raw0[\"{}_receipt\".format(x)] / raw0[\"{}_wk\".format(x)]\n",
    "\n",
    "    # Calculating item x expenditure by shopping trip(Receipt) and by week\n",
    "    raw0[\"{}_exp_receipt\".format(x)] = \\\n",
    "    raw0.query(\"{}==1\".format(x)).groupby(['Receipt_id',x])['Item_Price'].transform('sum')\n",
    "    \n",
    "    raw0[\"{}_exp_wk\".format(x)] = \\\n",
    "    raw0.query(\"{}==1\".format(x)).groupby(['week_of_year',x])['Item_Price'].transform('sum')\n",
    "    \n",
    "    # Receipt item x expenditure as a proportion of week's item x expenditure\n",
    "    raw0[\"{}_wk_exp_perc\".format(x)] = \\\n",
    "    raw0[\"{}_exp_receipt\".format(x)] / raw0[\"{}_exp_wk\".format(x)]"
   ]
  },
  {
   "cell_type": "code",
   "execution_count": 44,
   "id": "a861e9ee",
   "metadata": {},
   "outputs": [],
   "source": [
    "# Filling in the single missing value for Date_diff\n",
    "raw0['Date_diff'].fillna(0,inplace=True)"
   ]
  },
  {
   "cell_type": "code",
   "execution_count": 45,
   "id": "53c20af6",
   "metadata": {},
   "outputs": [],
   "source": [
    "# Filling in missing values from the check above\n",
    "fill_na_list = ['Bread_wk_perc','Bread_exp_receipt','Bread_exp_wk',\n",
    "             'Bread_wk_exp_perc','Cooked_meats_receipt','Cooked_meats_wk','Cooked_meats_wk_perc','Cooked_meats_exp_receipt',\n",
    "             'Cooked_meats_exp_wk','Raw_meats_receipt','Raw_meats_wk','Raw_meats_wk_perc','Raw_meats_exp_receipt',\n",
    "             'Raw_meats_exp_wk','Raw_meats_wk_exp_perc','Eating_out_receipt','Eating_out_wk','Eating_out_wk_perc',\n",
    "             'Eating_out_exp_receipt','Eating_out_exp_wk','Eating_out_wk_exp_perc','Snacks_receipt','Snacks_wk',\n",
    "             'Snacks_wk_perc','Snacks_exp_receipt','Snacks_exp_wk','Snacks_wk_exp_perc','Drinks_receipt','Drinks_wk',\n",
    "             'Drinks_wk_perc','Drinks_exp_receipt','Drinks_exp_wk','Drinks_wk_exp_perc','Vegetables_receipt',\n",
    "             'Vegetables_wk','Vegetables_wk_perc','Vegetables_exp_receipt','Vegetables_exp_wk','Vegetables_wk_exp_perc',\n",
    "             'Fruit_receipt','Fruit_wk','Fruit_wk_perc','Fruit_exp_receipt','Fruit_exp_wk','Fruit_wk_exp_perc',\n",
    "             'Cooking_base_receipt','Cooking_base_wk','Cooking_base_wk_perc','Cooking_base_exp_receipt','Cooking_base_exp_wk',\n",
    "             'Cooking_base_wk_exp_perc','Dairy_produce_receipt','Dairy_produce_wk','Dairy_produce_wk_perc',\n",
    "             'Dairy_produce_exp_receipt','Dairy_produce_exp_wk','Dairy_produce_wk_exp_perc','Seasoning_receipt',\n",
    "             'Seasoning_wk','Seasoning_wk_perc','Seasoning_exp_receipt','Seasoning_exp_wk','Seasoning_wk_exp_perc',\n",
    "             'Breakfast_receipt','Breakfast_wk','Breakfast_wk_perc','Breakfast_exp_receipt','Breakfast_exp_wk',\n",
    "             'Breakfast_wk_exp_perc','Transport_wk','Transport_wk_perc','Transport_exp_receipt','Transport_exp_wk',\n",
    "             'Transport_wk_exp_perc','DIY_receipt','DIY_wk','DIY_wk_perc','DIY_exp_receipt','DIY_exp_wk','DIY_wk_exp_perc',\n",
    "             'Electronics_receipt','Electronics_wk','Electronics_wk_perc','Electronics_exp_receipt','Electronics_exp_wk',\n",
    "             'Electronics_wk_exp_perc','Education_receipt','Education_wk','Education_wk_perc','Education_exp_receipt',\n",
    "             'Education_exp_wk','Education_wk_exp_perc','Tech_and_services_receipt','Tech_and_services_wk',\n",
    "             'Tech_and_services_wk_perc','Tech_and_services_exp_receipt','Tech_and_services_exp_wk',\n",
    "             'Tech_and_services_wk_exp_perc','Cosmetics_and_selfcare_receipt','Cosmetics_and_selfcare_wk',\n",
    "             'Cosmetics_and_selfcare_wk_perc','Cosmetics_and_selfcare_exp_receipt','Cosmetics_and_selfcare_exp_wk',\n",
    "             'Cosmetics_and_selfcare_wk_exp_perc','Clothes_and_shoes_receipt','Clothes_and_shoes_wk',\n",
    "             'Clothes_and_shoes_wk_perc','Clothes_and_shoes_exp_receipt','Clothes_and_shoes_exp_wk',\n",
    "             'Clothes_and_shoes_wk_exp_perc','House_and_kitchen_receipt','House_and_kitchen_wk',\n",
    "             'House_and_kitchen_wk_perc','House_and_kitchen_exp_receipt','House_and_kitchen_exp_wk',\n",
    "             'House_and_kitchen_wk_exp_perc']\n",
    "\n",
    "for x in fill_na_list:\n",
    "    y = raw0.groupby(['Receipt_id'])[x].transform('sum')\n",
    "    raw0[x]= raw0.groupby(['Receipt_id'])[x].apply(lambda x: x.fillna(y))"
   ]
  },
  {
   "cell_type": "code",
   "execution_count": 46,
   "id": "f0bb528b",
   "metadata": {},
   "outputs": [
    {
     "name": "stderr",
     "output_type": "stream",
     "text": [
      "/tmp/ipykernel_6781/3896849674.py:2: PerformanceWarning: DataFrame is highly fragmented.  This is usually the result of calling `frame.insert` many times, which has poor performance.  Consider joining all columns at once using pd.concat(axis=1) instead. To get a de-fragmented frame, use `newframe = frame.copy()`\n",
      "  raw0['Part_of_day_num'] = raw0['Part_of_day']\n"
     ]
    },
    {
     "data": {
      "text/plain": [
       "3    11\n",
       "1    10\n",
       "0     0\n",
       "2     0\n",
       "4     0\n",
       "Name: Part_of_day_num, dtype: int64"
      ]
     },
     "execution_count": 46,
     "metadata": {},
     "output_type": "execute_result"
    }
   ],
   "source": [
    "# Encoding Part_of_day\n",
    "raw0['Part_of_day_num'] = raw0['Part_of_day']\n",
    "\n",
    "\n",
    "encode_Part_of_day = {'Part_of_day_num':{'Early':0,\n",
    "                                         'Morning':1,\n",
    "                                         'Afternoon':2,\n",
    "                                         'Evening':3,\n",
    "                                         'Late_night':4}}\n",
    "\n",
    "# Applying the encoder\n",
    "raw0.replace(encode_Part_of_day, inplace=True)\n",
    "\n",
    "raw0.Part_of_day_num.value_counts()"
   ]
  },
  {
   "cell_type": "code",
   "execution_count": 47,
   "id": "07b4bb6f",
   "metadata": {},
   "outputs": [
    {
     "data": {
      "text/plain": [
       "0    21\n",
       "Name: Payment_Type_num, dtype: int64"
      ]
     },
     "execution_count": 47,
     "metadata": {},
     "output_type": "execute_result"
    }
   ],
   "source": [
    "# Encode Payment_Type\n",
    "raw0['Payment_Type_num'] = raw0['Payment_Type']\n",
    "\n",
    "encode_Payment_Type = {'Payment_Type_num': {'Card':0,'Cash':1,'Plan':2}}\n",
    "\n",
    "# applying the encoder\n",
    "raw0.replace(encode_Payment_Type, inplace=True)\n",
    "raw0.Payment_Type_num.value_counts()"
   ]
  },
  {
   "cell_type": "code",
   "execution_count": 48,
   "id": "2a629e62",
   "metadata": {},
   "outputs": [
    {
     "data": {
      "text/plain": [
       "0    20\n",
       "3     1\n",
       "Name: Card_Source_num, dtype: int64"
      ]
     },
     "execution_count": 48,
     "metadata": {},
     "output_type": "execute_result"
    }
   ],
   "source": [
    "# Encoding Card_Source\n",
    "raw0['Card_Source_num'] = raw0['Card_Source']\n",
    "\n",
    "encode_Card_Source = {'Card_Source_num': {'Contactless':0,\n",
    "                                          'Pin':1,\n",
    "                                          '0':2,\n",
    "                                          'DD':3,\n",
    "                                          'DB':4,\n",
    "                                          'Plan':5,'Transfer':6}}\n",
    "\n",
    "# Applying the encoder\n",
    "raw0.replace(encode_Card_Source, inplace=True)\n",
    "raw0.Card_Source_num.value_counts()"
   ]
  },
  {
   "cell_type": "code",
   "execution_count": 49,
   "id": "1c169f19",
   "metadata": {},
   "outputs": [],
   "source": [
    "raw0=raw0.query(\"Receipt_id == {}\".format(Receipt_id_g))"
   ]
  },
  {
   "cell_type": "code",
   "execution_count": 50,
   "id": "bd09d32a",
   "metadata": {},
   "outputs": [
    {
     "name": "stdout",
     "output_type": "stream",
     "text": [
      "(1, 133)\n"
     ]
    },
    {
     "data": {
      "text/html": [
       "<div>\n",
       "<style scoped>\n",
       "    .dataframe tbody tr th:only-of-type {\n",
       "        vertical-align: middle;\n",
       "    }\n",
       "\n",
       "    .dataframe tbody tr th {\n",
       "        vertical-align: top;\n",
       "    }\n",
       "\n",
       "    .dataframe thead th {\n",
       "        text-align: right;\n",
       "    }\n",
       "</style>\n",
       "<table border=\"1\" class=\"dataframe\">\n",
       "  <thead>\n",
       "    <tr style=\"text-align: right;\">\n",
       "      <th></th>\n",
       "      <th>Venue_id</th>\n",
       "      <th>Total_Nbr_of_Items</th>\n",
       "      <th>Total_Price</th>\n",
       "      <th>Date_diff</th>\n",
       "      <th>Week_day_numeric</th>\n",
       "      <th>Nbr_trips_per_wk</th>\n",
       "      <th>Nbr_items_per_wk</th>\n",
       "      <th>Nbr_items_wk_perc</th>\n",
       "      <th>Expenditure_per_wk</th>\n",
       "      <th>Total_Exp_wk_perc</th>\n",
       "      <th>...</th>\n",
       "      <th>Clothes_and_shoes_wk_perc</th>\n",
       "      <th>Clothes_and_shoes_exp_receipt</th>\n",
       "      <th>Clothes_and_shoes_exp_wk</th>\n",
       "      <th>Clothes_and_shoes_wk_exp_perc</th>\n",
       "      <th>House_and_kitchen_receipt</th>\n",
       "      <th>House_and_kitchen_wk</th>\n",
       "      <th>House_and_kitchen_wk_perc</th>\n",
       "      <th>House_and_kitchen_exp_receipt</th>\n",
       "      <th>House_and_kitchen_exp_wk</th>\n",
       "      <th>House_and_kitchen_wk_exp_perc</th>\n",
       "    </tr>\n",
       "  </thead>\n",
       "  <tbody>\n",
       "    <tr>\n",
       "      <th>10</th>\n",
       "      <td>26</td>\n",
       "      <td>4</td>\n",
       "      <td>10.0</td>\n",
       "      <td>1.0</td>\n",
       "      <td>2</td>\n",
       "      <td>3</td>\n",
       "      <td>14</td>\n",
       "      <td>0.285714</td>\n",
       "      <td>71.58</td>\n",
       "      <td>0.139704</td>\n",
       "      <td>...</td>\n",
       "      <td>0.0</td>\n",
       "      <td>0.0</td>\n",
       "      <td>0.0</td>\n",
       "      <td>0.0</td>\n",
       "      <td>0</td>\n",
       "      <td>0</td>\n",
       "      <td>0.0</td>\n",
       "      <td>0.0</td>\n",
       "      <td>0.0</td>\n",
       "      <td>0.0</td>\n",
       "    </tr>\n",
       "  </tbody>\n",
       "</table>\n",
       "<p>1 rows × 132 columns</p>\n",
       "</div>"
      ],
      "text/plain": [
       "    Venue_id  Total_Nbr_of_Items  Total_Price  Date_diff  Week_day_numeric  \\\n",
       "10        26                   4         10.0        1.0                 2   \n",
       "\n",
       "    Nbr_trips_per_wk  Nbr_items_per_wk  Nbr_items_wk_perc  Expenditure_per_wk  \\\n",
       "10                 3                14           0.285714               71.58   \n",
       "\n",
       "    Total_Exp_wk_perc  ...  Clothes_and_shoes_wk_perc  \\\n",
       "10           0.139704  ...                        0.0   \n",
       "\n",
       "   Clothes_and_shoes_exp_receipt  Clothes_and_shoes_exp_wk  \\\n",
       "10                           0.0                       0.0   \n",
       "\n",
       "    Clothes_and_shoes_wk_exp_perc  House_and_kitchen_receipt  \\\n",
       "10                            0.0                          0   \n",
       "\n",
       "    House_and_kitchen_wk  House_and_kitchen_wk_perc  \\\n",
       "10                     0                        0.0   \n",
       "\n",
       "    House_and_kitchen_exp_receipt  House_and_kitchen_exp_wk  \\\n",
       "10                            0.0                       0.0   \n",
       "\n",
       "    House_and_kitchen_wk_exp_perc  \n",
       "10                            0.0  \n",
       "\n",
       "[1 rows x 132 columns]"
      ]
     },
     "execution_count": 50,
     "metadata": {},
     "output_type": "execute_result"
    }
   ],
   "source": [
    "raw1 = raw0[['Receipt_id','Venue_id','Total_Nbr_of_Items','Total_Price','Date_diff','Week_day_numeric','Nbr_trips_per_wk','Nbr_items_per_wk',\n",
    "             'Nbr_items_wk_perc','Expenditure_per_wk','Total_Exp_wk_perc','hour',\n",
    "             'Part_of_day_num','Payment_Type_num','Card_Source_num','Bread_receipt','Bread_wk','Bread_wk_perc',\n",
    "             'Bread_exp_receipt','Bread_exp_wk','Bread_wk_exp_perc','Cooked_meats_receipt','Cooked_meats_wk','Cooked_meats_wk_perc',\n",
    "             'Cooked_meats_exp_receipt','Cooked_meats_exp_wk','Raw_meats_receipt','Raw_meats_wk','Raw_meats_wk_perc','Raw_meats_exp_receipt',\n",
    "             'Raw_meats_exp_wk','Raw_meats_wk_exp_perc','Eating_out_receipt','Eating_out_wk','Eating_out_wk_perc','Eating_out_exp_receipt',\n",
    "             'Eating_out_exp_wk','Eating_out_wk_exp_perc','Snacks_receipt','Snacks_wk','Snacks_wk_perc','Snacks_exp_receipt','Snacks_exp_wk',\n",
    "             'Snacks_wk_exp_perc','Drinks_receipt','Drinks_wk','Drinks_wk_perc','Drinks_exp_receipt','Drinks_exp_wk','Drinks_wk_exp_perc',\n",
    "             'Vegetables_receipt','Vegetables_wk','Vegetables_wk_perc','Vegetables_exp_receipt','Vegetables_exp_wk',\n",
    "             'Vegetables_wk_exp_perc','Fruit_receipt','Fruit_wk','Fruit_wk_perc','Fruit_exp_receipt','Fruit_exp_wk','Fruit_wk_exp_perc',\n",
    "             'Cooking_base_receipt','Cooking_base_wk','Cooking_base_wk_perc','Cooking_base_exp_receipt','Cooking_base_exp_wk',\n",
    "             'Cooking_base_wk_exp_perc','Dairy_produce_receipt','Dairy_produce_wk','Dairy_produce_wk_perc',\n",
    "             'Dairy_produce_exp_receipt','Dairy_produce_exp_wk','Dairy_produce_wk_exp_perc','Seasoning_receipt',\n",
    "             'Seasoning_wk','Seasoning_wk_perc','Seasoning_exp_receipt','Seasoning_exp_wk','Seasoning_wk_exp_perc',\n",
    "             'Breakfast_receipt','Breakfast_wk','Breakfast_wk_perc','Breakfast_exp_receipt','Breakfast_exp_wk',\n",
    "             'Breakfast_wk_exp_perc','Transport_wk','Transport_wk_perc','Transport_exp_receipt','Transport_exp_wk',\n",
    "             'Transport_wk_exp_perc','DIY_receipt','DIY_wk','DIY_wk_perc','DIY_exp_receipt','DIY_exp_wk','DIY_wk_exp_perc',\n",
    "             'Electronics_receipt','Electronics_wk','Electronics_wk_perc','Electronics_exp_receipt','Electronics_exp_wk',\n",
    "             'Electronics_wk_exp_perc','Education_receipt','Education_wk','Education_wk_perc','Education_exp_receipt',\n",
    "             'Education_exp_wk','Education_wk_exp_perc','Tech_and_services_receipt','Tech_and_services_wk',\n",
    "             'Tech_and_services_wk_perc','Tech_and_services_exp_receipt','Tech_and_services_exp_wk',\n",
    "             'Tech_and_services_wk_exp_perc','Cosmetics_and_selfcare_receipt','Cosmetics_and_selfcare_wk',\n",
    "             'Cosmetics_and_selfcare_wk_perc','Cosmetics_and_selfcare_exp_receipt','Cosmetics_and_selfcare_exp_wk',\n",
    "             'Cosmetics_and_selfcare_wk_exp_perc','Clothes_and_shoes_receipt','Clothes_and_shoes_wk',\n",
    "             'Clothes_and_shoes_wk_perc','Clothes_and_shoes_exp_receipt','Clothes_and_shoes_exp_wk',\n",
    "             'Clothes_and_shoes_wk_exp_perc','House_and_kitchen_receipt','House_and_kitchen_wk',\n",
    "             'House_and_kitchen_wk_perc','House_and_kitchen_exp_receipt','House_and_kitchen_exp_wk',\n",
    "             'House_and_kitchen_wk_exp_perc']].drop_duplicates(subset=['Receipt_id'])\n",
    "print(raw1.shape)\n",
    "\n",
    "# Droping Receipt_id\n",
    "raw1.drop(['Receipt_id'], axis=1, inplace=True)\n",
    "raw1.tail()"
   ]
  },
  {
   "cell_type": "code",
   "execution_count": 51,
   "id": "6d1a446f",
   "metadata": {},
   "outputs": [],
   "source": [
    "# capping outliers for Total_Nbr_of_Items at the 99th quantile\n",
    "raw1['Total_Nbr_of_Items'].clip(upper=raw1['Total_Nbr_of_Items'].quantile(.99), inplace=True)\n",
    "\n",
    "# capping outliers for Total_Price at the 95th quantile (a value of 35.2)\n",
    "# this is more reasonable than the 99th quantile\n",
    "raw1['Total_Price'].clip(upper=raw1['Total_Price'].quantile(.95), inplace=True)\n",
    "\n",
    "# capping outliers for Nbr_trips_per_wk at the 95th quantile \n",
    "raw1['Nbr_trips_per_wk'].clip(upper=raw1['Nbr_trips_per_wk'].quantile(.95), inplace=True)\n",
    "\n",
    "# capping outliers for Nbr_items_per_wk at the 95th quantile \n",
    "raw1['Nbr_items_per_wk'].clip(upper=raw1['Nbr_items_per_wk'].quantile(.95), inplace=True)\n",
    "\n",
    "# capping outliers for Expenditure_per_wk at the 95th quantile \n",
    "raw1['Expenditure_per_wk'].clip(upper=raw1['Expenditure_per_wk'].quantile(.95), inplace=True)\n",
    "\n",
    "# capping outliers for Electronics_exp_receipt at the 99th quantile \n",
    "raw1['Electronics_exp_receipt'].clip(upper=raw1['Electronics_exp_receipt'].quantile(.99), inplace=True)\n",
    "\n",
    "# capping outliers for Electronics_exp_wk at the 99th quantile \n",
    "raw1['Electronics_exp_wk'].clip(upper=raw1['Electronics_exp_wk'].quantile(.99), inplace=True)\n",
    "\n",
    "# capping outliers for Education_exp_receipt at the 99th quantile \n",
    "raw1['Education_exp_receipt'].clip(upper=raw1['Education_exp_receipt'].quantile(.99), inplace=True)\n",
    "\n",
    "# capping outliers for Education_exp_wk at the 99th quantile \n",
    "raw1['Education_exp_wk'].clip(upper=raw1['Education_exp_wk'].quantile(.99), inplace=True)\n",
    "\n",
    "# capping outliers for DIY_exp_receipt at the 99th quantile \n",
    "raw1['DIY_exp_receipt'].clip(upper=raw1['DIY_exp_receipt'].quantile(.99), inplace=True)\n",
    "\n",
    "# capping outliers for DIY_exp_wk at the 99th quantile \n",
    "raw1['DIY_exp_wk'].clip(upper=raw1['DIY_exp_wk'].quantile(.99), inplace=True)\n",
    "\n",
    "# capping outliers for Cosmetics_and_selfcare_exp_receipt at the 99th quantile \n",
    "raw1['Cosmetics_and_selfcare_exp_receipt'].clip(upper=raw1['Cosmetics_and_selfcare_exp_receipt'].quantile(.99), inplace=True)\n",
    "\n",
    "# capping outliers for Cosmetics_and_selfcare_exp_wk at the 99th quantile \n",
    "raw1['Cosmetics_and_selfcare_exp_wk'].clip(upper=raw1['Cosmetics_and_selfcare_exp_wk'].quantile(.99), inplace=True)"
   ]
  },
  {
   "cell_type": "code",
   "execution_count": 52,
   "id": "584e6868",
   "metadata": {},
   "outputs": [],
   "source": [
    "# For standard scaler fit transform \n",
    "# use the saved version of standard scaler\n",
    "# load it with joblib\n",
    "\n",
    "scaler = joblib.load('./Models/StandardScaler_06102022')\n",
    "X_transform = scaler.transform(raw1)\n",
    "X_transform = pd.DataFrame(X_transform, columns=raw1.columns)\n",
    "\n"
   ]
  },
  {
   "cell_type": "code",
   "execution_count": 53,
   "id": "e48bf816",
   "metadata": {},
   "outputs": [
    {
     "data": {
      "text/plain": [
       "array([1])"
      ]
     },
     "execution_count": 53,
     "metadata": {},
     "output_type": "execute_result"
    }
   ],
   "source": [
    "# predict using the classifier  model\n",
    "rfc_loaded = joblib.load('./Models/RandomForestClassifier_Model_27092022')\n",
    "Guest_prediction = rfc_loaded.predict(X_transform)\n",
    "\n",
    "Guest_prediction"
   ]
  },
  {
   "cell_type": "code",
   "execution_count": 54,
   "id": "bacee610",
   "metadata": {},
   "outputs": [
    {
     "data": {
      "text/plain": [
       "array([0.02183127])"
      ]
     },
     "execution_count": 54,
     "metadata": {},
     "output_type": "execute_result"
    }
   ],
   "source": [
    "# droping Total_Price as it is the target feature for the regressor model\n",
    "X_transform.drop(['Total_Price'],axis=1, inplace=True)\n",
    "\n",
    "# predict using the regressor model\n",
    "RFR_loaded = joblib.load('./Models/RandomForestRegressor_Model_06102022')\n",
    "Guest_exp_predict = RFR_loaded.predict(X_transform)\n",
    "Guest_exp_predict"
   ]
  },
  {
   "cell_type": "code",
   "execution_count": 58,
   "id": "36e165bb",
   "metadata": {},
   "outputs": [],
   "source": [
    "# Inverse transform Guest_exp_predict to see the actual prediction\n",
    "# Guest_inv_transf_pred = scaler.inverse_transform(Guest_exp_predict.reshape(-1,1), copy=None)"
   ]
  },
  {
   "cell_type": "code",
   "execution_count": 74,
   "id": "49f090c7",
   "metadata": {
    "scrolled": true
   },
   "outputs": [
    {
     "data": {
      "text/plain": [
       "array([14.24657534,  5.53863014, 10.77534638])"
      ]
     },
     "execution_count": 74,
     "metadata": {},
     "output_type": "execute_result"
    }
   ],
   "source": [
    "scaler.mean_[:3]"
   ]
  },
  {
   "cell_type": "code",
   "execution_count": 80,
   "id": "f9611345",
   "metadata": {},
   "outputs": [],
   "source": [
    "mean = scaler.mean_[2]"
   ]
  },
  {
   "cell_type": "code",
   "execution_count": 76,
   "id": "02f8217d",
   "metadata": {
    "scrolled": true
   },
   "outputs": [
    {
     "data": {
      "text/plain": [
       "array([204.30319277,  26.313213  ,  79.2761244 ])"
      ]
     },
     "execution_count": 76,
     "metadata": {},
     "output_type": "execute_result"
    }
   ],
   "source": [
    "scaler.var_[:3]"
   ]
  },
  {
   "cell_type": "code",
   "execution_count": 78,
   "id": "44b5929a",
   "metadata": {},
   "outputs": [
    {
     "data": {
      "text/plain": [
       "8.903714078889333"
      ]
     },
     "execution_count": 78,
     "metadata": {},
     "output_type": "execute_result"
    }
   ],
   "source": [
    "# scaler standard deviation\n",
    "std =  np.sqrt(scaler.var_[2])\n",
    "std"
   ]
  },
  {
   "cell_type": "code",
   "execution_count": 63,
   "id": "279f649a",
   "metadata": {},
   "outputs": [
    {
     "data": {
      "text/plain": [
       "511"
      ]
     },
     "execution_count": 63,
     "metadata": {},
     "output_type": "execute_result"
    }
   ],
   "source": [
    "scaler.n_samples_seen_"
   ]
  },
  {
   "cell_type": "code",
   "execution_count": 81,
   "id": "8a8f6114",
   "metadata": {},
   "outputs": [
    {
     "data": {
      "text/plain": [
       "array([10.96972575])"
      ]
     },
     "execution_count": 81,
     "metadata": {},
     "output_type": "execute_result"
    }
   ],
   "source": [
    "# StandardScaler transformation\n",
    "# y = (x - mean)/std\n",
    "# x = y * std + mean\n",
    "\n",
    "# find out which mean is the Total_Price\n",
    "estimate_total_price = (Guest_exp_predict * std) + mean\n",
    "estimate_total_price"
   ]
  }
 ],
 "metadata": {
  "kernelspec": {
   "display_name": "Python 3 (ipykernel)",
   "language": "python",
   "name": "python3"
  },
  "language_info": {
   "codemirror_mode": {
    "name": "ipython",
    "version": 3
   },
   "file_extension": ".py",
   "mimetype": "text/x-python",
   "name": "python",
   "nbconvert_exporter": "python",
   "pygments_lexer": "ipython3",
   "version": "3.10.6"
  }
 },
 "nbformat": 4,
 "nbformat_minor": 5
}
