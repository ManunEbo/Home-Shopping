{
 "cells": [
  {
   "cell_type": "markdown",
   "id": "64836fa7",
   "metadata": {},
   "source": [
    "<h1 style=\"color: green;\">Summary</h1>\n",
    "<p>\n",
    "In this section the base transformers are calculated and saved for deployment<br>\n",
    "The following tasks are performed:\n",
    "<ul>\n",
    "<li>Capping outliers for Total_Price and Expenditure_per_wk</li>\n",
    "<li>Binning high cardinality numeric features</li>\n",
    "<li>Categorical encoding rare labels</li>\n",
    "<li>Categorical encoding monotonic (WOE)</li>\n",
    "<li>Saving the encoders for deployment pipeline transformations</li>\n",
    "\n",
    "</ul>\n",
    "All of this is done with the raw data extracted in <b>Data Extraction</b><br>\n",
    "The full sample dataset i.e. before train test split.<br>\n",
    "</p>\n"
   ]
  },
  {
   "cell_type": "code",
   "execution_count": 1,
   "id": "dea811eb",
   "metadata": {},
   "outputs": [],
   "source": [
    "import pandas as pd\n",
    "import numpy as np\n",
    "import matplotlib.pyplot as plt\n",
    "import seaborn as sb\n",
    "\n",
    "# for feature engineering\n",
    "from feature_engine.discretisation import EqualWidthDiscretiser\n",
    "from feature_engine.discretisation import ArbitraryDiscretiser\n",
    "from feature_engine.encoding import RareLabelEncoder\n",
    "from feature_engine.outliers import ArbitraryOutlierCapper\n",
    "\n",
    "# for Weight of evidence\n",
    "from feature_engine.encoding import WoEEncoder\n",
    "from category_encoders.woe import WOEEncoder\n",
    "\n",
    "\n",
    "# joblib for storing models\n",
    "import joblib\n",
    "\n",
    "from sklearn.model_selection import train_test_split\n",
    "\n",
    "import warnings\n",
    "warnings.filterwarnings('ignore')"
   ]
  },
  {
   "cell_type": "code",
   "execution_count": 7,
   "id": "4766a610",
   "metadata": {},
   "outputs": [],
   "source": [
    "features = ['Total_Nbr_of_Items', 'Venue', 'Date_diff', 'Nbr_items_per_wk',\n",
    "               'Expenditure_per_wk', 'Total_Exp_wk_perc', 'Drinks', 'Vegetables',\n",
    "               'Cosmetics_and_selfcare', 'House_and_kitchen', 'Bread_wk',\n",
    "               'Cooked_meats_wk', 'Raw_meats_wk', 'Snacks_wk', 'Snacks_exp_receipt',\n",
    "               'Snacks_exp_wk', 'Drinks_wk', 'Drinks_exp_wk', 'Vegetables_exp_wk',\n",
    "               'Fruit_wk', 'Cooking_base_wk', 'Dairy_produce_wk', 'Seasoning_wk',\n",
    "               'Breakfast_wk', 'Education_wk', 'Cosmetics_and_selfcare_wk',\n",
    "               'Cosmetics_and_selfcare_wk_exp_perc', 'House_and_kitchen_wk','Trips_response_lt_5']"
   ]
  },
  {
   "cell_type": "code",
   "execution_count": 15,
   "id": "08140d18",
   "metadata": {},
   "outputs": [],
   "source": [
    "raw0 = pd.read_csv(\"../Data/homeshopping.csv\")\n"
   ]
  },
  {
   "cell_type": "code",
   "execution_count": 16,
   "id": "2151b1f7",
   "metadata": {},
   "outputs": [],
   "source": [
    "raw0 = raw0[features]"
   ]
  },
  {
   "cell_type": "markdown",
   "id": "15b0755e",
   "metadata": {},
   "source": [
    "# Capping Expenditure_per_wk"
   ]
  },
  {
   "cell_type": "code",
   "execution_count": 17,
   "id": "23cc5e9d",
   "metadata": {},
   "outputs": [
    {
     "data": {
      "text/html": [
       "<div>\n",
       "<style scoped>\n",
       "    .dataframe tbody tr th:only-of-type {\n",
       "        vertical-align: middle;\n",
       "    }\n",
       "\n",
       "    .dataframe tbody tr th {\n",
       "        vertical-align: top;\n",
       "    }\n",
       "\n",
       "    .dataframe thead th {\n",
       "        text-align: right;\n",
       "    }\n",
       "</style>\n",
       "<table border=\"1\" class=\"dataframe\">\n",
       "  <thead>\n",
       "    <tr style=\"text-align: right;\">\n",
       "      <th></th>\n",
       "      <th>Total_Nbr_of_Items</th>\n",
       "      <th>Venue</th>\n",
       "      <th>Date_diff</th>\n",
       "      <th>Nbr_items_per_wk</th>\n",
       "      <th>Expenditure_per_wk</th>\n",
       "      <th>Total_Exp_wk_perc</th>\n",
       "      <th>Drinks</th>\n",
       "      <th>Vegetables</th>\n",
       "      <th>Cosmetics_and_selfcare</th>\n",
       "      <th>House_and_kitchen</th>\n",
       "      <th>...</th>\n",
       "      <th>Vegetables_exp_wk</th>\n",
       "      <th>Fruit_wk</th>\n",
       "      <th>Cooking_base_wk</th>\n",
       "      <th>Dairy_produce_wk</th>\n",
       "      <th>Seasoning_wk</th>\n",
       "      <th>Breakfast_wk</th>\n",
       "      <th>Education_wk</th>\n",
       "      <th>Cosmetics_and_selfcare_wk</th>\n",
       "      <th>Cosmetics_and_selfcare_wk_exp_perc</th>\n",
       "      <th>House_and_kitchen_wk</th>\n",
       "    </tr>\n",
       "  </thead>\n",
       "  <tbody>\n",
       "    <tr>\n",
       "      <th>0</th>\n",
       "      <td>1</td>\n",
       "      <td>eBay</td>\n",
       "      <td>0.0</td>\n",
       "      <td>3</td>\n",
       "      <td>17.16</td>\n",
       "      <td>0.173660</td>\n",
       "      <td>0</td>\n",
       "      <td>0</td>\n",
       "      <td>0</td>\n",
       "      <td>0</td>\n",
       "      <td>...</td>\n",
       "      <td>0.0</td>\n",
       "      <td>0</td>\n",
       "      <td>0</td>\n",
       "      <td>0</td>\n",
       "      <td>0</td>\n",
       "      <td>0</td>\n",
       "      <td>0</td>\n",
       "      <td>0</td>\n",
       "      <td>0.0</td>\n",
       "      <td>0</td>\n",
       "    </tr>\n",
       "    <tr>\n",
       "      <th>1</th>\n",
       "      <td>1</td>\n",
       "      <td>eBay</td>\n",
       "      <td>0.0</td>\n",
       "      <td>3</td>\n",
       "      <td>17.16</td>\n",
       "      <td>0.191725</td>\n",
       "      <td>0</td>\n",
       "      <td>0</td>\n",
       "      <td>0</td>\n",
       "      <td>0</td>\n",
       "      <td>...</td>\n",
       "      <td>0.0</td>\n",
       "      <td>0</td>\n",
       "      <td>0</td>\n",
       "      <td>0</td>\n",
       "      <td>0</td>\n",
       "      <td>0</td>\n",
       "      <td>0</td>\n",
       "      <td>0</td>\n",
       "      <td>0.0</td>\n",
       "      <td>0</td>\n",
       "    </tr>\n",
       "    <tr>\n",
       "      <th>2</th>\n",
       "      <td>1</td>\n",
       "      <td>eBay</td>\n",
       "      <td>0.0</td>\n",
       "      <td>3</td>\n",
       "      <td>17.16</td>\n",
       "      <td>0.634615</td>\n",
       "      <td>0</td>\n",
       "      <td>0</td>\n",
       "      <td>0</td>\n",
       "      <td>0</td>\n",
       "      <td>...</td>\n",
       "      <td>0.0</td>\n",
       "      <td>0</td>\n",
       "      <td>0</td>\n",
       "      <td>0</td>\n",
       "      <td>0</td>\n",
       "      <td>0</td>\n",
       "      <td>0</td>\n",
       "      <td>0</td>\n",
       "      <td>0.0</td>\n",
       "      <td>0</td>\n",
       "    </tr>\n",
       "    <tr>\n",
       "      <th>3</th>\n",
       "      <td>1</td>\n",
       "      <td>Abbey Sports</td>\n",
       "      <td>5.0</td>\n",
       "      <td>4</td>\n",
       "      <td>28.69</td>\n",
       "      <td>0.348554</td>\n",
       "      <td>0</td>\n",
       "      <td>0</td>\n",
       "      <td>0</td>\n",
       "      <td>0</td>\n",
       "      <td>...</td>\n",
       "      <td>0.0</td>\n",
       "      <td>0</td>\n",
       "      <td>0</td>\n",
       "      <td>0</td>\n",
       "      <td>0</td>\n",
       "      <td>0</td>\n",
       "      <td>0</td>\n",
       "      <td>0</td>\n",
       "      <td>0.0</td>\n",
       "      <td>0</td>\n",
       "    </tr>\n",
       "    <tr>\n",
       "      <th>4</th>\n",
       "      <td>1</td>\n",
       "      <td>eBay</td>\n",
       "      <td>1.0</td>\n",
       "      <td>4</td>\n",
       "      <td>28.69</td>\n",
       "      <td>0.205995</td>\n",
       "      <td>0</td>\n",
       "      <td>0</td>\n",
       "      <td>0</td>\n",
       "      <td>0</td>\n",
       "      <td>...</td>\n",
       "      <td>0.0</td>\n",
       "      <td>0</td>\n",
       "      <td>0</td>\n",
       "      <td>0</td>\n",
       "      <td>0</td>\n",
       "      <td>0</td>\n",
       "      <td>0</td>\n",
       "      <td>0</td>\n",
       "      <td>0.0</td>\n",
       "      <td>0</td>\n",
       "    </tr>\n",
       "  </tbody>\n",
       "</table>\n",
       "<p>5 rows × 28 columns</p>\n",
       "</div>"
      ],
      "text/plain": [
       "   Total_Nbr_of_Items         Venue  Date_diff  Nbr_items_per_wk  \\\n",
       "0                   1          eBay        0.0                 3   \n",
       "1                   1          eBay        0.0                 3   \n",
       "2                   1          eBay        0.0                 3   \n",
       "3                   1  Abbey Sports        5.0                 4   \n",
       "4                   1          eBay        1.0                 4   \n",
       "\n",
       "   Expenditure_per_wk  Total_Exp_wk_perc  Drinks  Vegetables  \\\n",
       "0               17.16           0.173660       0           0   \n",
       "1               17.16           0.191725       0           0   \n",
       "2               17.16           0.634615       0           0   \n",
       "3               28.69           0.348554       0           0   \n",
       "4               28.69           0.205995       0           0   \n",
       "\n",
       "   Cosmetics_and_selfcare  House_and_kitchen  ...  Vegetables_exp_wk  \\\n",
       "0                       0                  0  ...                0.0   \n",
       "1                       0                  0  ...                0.0   \n",
       "2                       0                  0  ...                0.0   \n",
       "3                       0                  0  ...                0.0   \n",
       "4                       0                  0  ...                0.0   \n",
       "\n",
       "   Fruit_wk  Cooking_base_wk  Dairy_produce_wk  Seasoning_wk  Breakfast_wk  \\\n",
       "0         0                0                 0             0             0   \n",
       "1         0                0                 0             0             0   \n",
       "2         0                0                 0             0             0   \n",
       "3         0                0                 0             0             0   \n",
       "4         0                0                 0             0             0   \n",
       "\n",
       "   Education_wk  Cosmetics_and_selfcare_wk  \\\n",
       "0             0                          0   \n",
       "1             0                          0   \n",
       "2             0                          0   \n",
       "3             0                          0   \n",
       "4             0                          0   \n",
       "\n",
       "   Cosmetics_and_selfcare_wk_exp_perc  House_and_kitchen_wk  \n",
       "0                                 0.0                     0  \n",
       "1                                 0.0                     0  \n",
       "2                                 0.0                     0  \n",
       "3                                 0.0                     0  \n",
       "4                                 0.0                     0  \n",
       "\n",
       "[5 rows x 28 columns]"
      ]
     },
     "execution_count": 17,
     "metadata": {},
     "output_type": "execute_result"
    }
   ],
   "source": [
    "raw_cap = raw0.drop(['Trips_response_lt_5'], axis=1)\n",
    "raw_cap.head()"
   ]
  },
  {
   "cell_type": "code",
   "execution_count": 28,
   "id": "8242749f",
   "metadata": {},
   "outputs": [
    {
     "data": {
      "text/plain": [
       "['../Data transformers/capper_expenditure12062023']"
      ]
     },
     "execution_count": 28,
     "metadata": {},
     "output_type": "execute_result"
    }
   ],
   "source": [
    "# capping the values at 200 for Expenditure_per_wk\n",
    "# Since Total_Price did not make it into the final model\n",
    "\n",
    "capper = ArbitraryOutlierCapper(\n",
    "    max_capping_dict={ 'Expenditure_per_wk': 200},\n",
    "    min_capping_dict=None,\n",
    ")\n",
    "\n",
    "capper.fit(raw_cap)\n",
    "\n",
    "\n",
    "joblib.dump(capper,\"../Data transformers/capper_expenditure12062023\")\n",
    "raw_cap = capper.transform(raw_cap)"
   ]
  },
  {
   "cell_type": "markdown",
   "id": "95145e7a",
   "metadata": {},
   "source": [
    "# Binning Expenditure_per_wk"
   ]
  },
  {
   "cell_type": "code",
   "execution_count": 29,
   "id": "9ee0480f",
   "metadata": {},
   "outputs": [
    {
     "data": {
      "text/plain": [
       "['../Data transformers/Equal_width_bin_expenditure12062023']"
      ]
     },
     "execution_count": 29,
     "metadata": {},
     "output_type": "execute_result"
    }
   ],
   "source": [
    "list1 = ['Expenditure_per_wk']\n",
    "\n",
    "# binning list1 separately\n",
    "disc1 = EqualWidthDiscretiser(bins=6, variables = list1)\n",
    "disc1.fit(raw_cap)\n",
    "\n",
    "joblib.dump(disc1,\"../Data transformers/Equal_width_bin_expenditure12062023\")\n",
    "\n",
    "raw_cap = disc1.transform(raw_cap)"
   ]
  },
  {
   "cell_type": "markdown",
   "id": "856d2a5e",
   "metadata": {},
   "source": [
    "# Bin high cardinality features"
   ]
  },
  {
   "cell_type": "code",
   "execution_count": 38,
   "id": "29eef0c1",
   "metadata": {},
   "outputs": [],
   "source": [
    "high_card_num = ['Total_Nbr_of_Items', 'Nbr_items_per_wk', 'Expenditure_per_wk', 'Total_Exp_wk_perc', 'Drinks',\n",
    " 'Vegetables', 'Cosmetics_and_selfcare', 'Bread_wk', 'Cooked_meats_wk', 'Raw_meats_wk',\n",
    " 'Snacks_wk', 'Snacks_exp_receipt', 'Snacks_exp_wk', 'Drinks_wk', 'Drinks_exp_wk', 'Vegetables_exp_wk',\n",
    " 'Fruit_wk', 'Cooking_base_wk', 'Dairy_produce_wk', 'Breakfast_wk', 'Education_wk', 'Cosmetics_and_selfcare_wk',\n",
    " 'Cosmetics_and_selfcare_wk_exp_perc', 'House_and_kitchen_wk'\n",
    "]\n",
    "\n",
    "# Binning high cardinality numeric features\n",
    "# note, this includes the list1 features\n",
    "disc = EqualWidthDiscretiser(bins=6, variables = high_card_num)\n",
    "disc.fit(raw_cap[high_card_num])\n",
    "\n",
    "joblib.dump(disc,\"../Data transformers/Hig_cardinality_12062023\")\n",
    "\n",
    "raw_cap_high_card = disc.transform(raw_cap[high_card_num])"
   ]
  },
  {
   "cell_type": "markdown",
   "id": "f0572afc",
   "metadata": {},
   "source": [
    "# Rare value encode for high cardinality features"
   ]
  },
  {
   "cell_type": "code",
   "execution_count": 39,
   "id": "6acd7a21",
   "metadata": {},
   "outputs": [],
   "source": [
    "# change variable type to object in preparation for rare value fit and transform\n",
    "for var in high_card_num:\n",
    "    raw_cap_high_card[var] = pd.Series(raw_cap_high_card[var], dtype=object)"
   ]
  },
  {
   "cell_type": "code",
   "execution_count": 40,
   "id": "f30a5648",
   "metadata": {},
   "outputs": [],
   "source": [
    "# Rare value encoder for numeric high cardinality features\n",
    "rare_encoder_high_card = RareLabelEncoder(\n",
    "    tol=0.047,  # minimal percentage to be considered non-rare\n",
    "    n_categories=3,  # minimal number of categories the variable should have to re-group rare categories\n",
    "    \n",
    "    #variables=high_card_num,  # variables to re-group\n",
    "    \n",
    "    # using the variable list without Date_diff\n",
    "    variables=high_card_num,  # variables to re-group\n",
    ")\n",
    "rare_encoder_high_card.fit(raw_cap_high_card)\n",
    "\n",
    "joblib.dump(rare_encoder_high_card,\"../Data transformers/Rare_enc_High_cardinality_12062023\")\n",
    "\n",
    "raw_cap_high_card = rare_encoder_high_card.transform(raw_cap_high_card)"
   ]
  },
  {
   "cell_type": "markdown",
   "id": "cc1ed398",
   "metadata": {},
   "source": [
    "# Binning Date_diff"
   ]
  },
  {
   "cell_type": "code",
   "execution_count": 31,
   "id": "da4c1295",
   "metadata": {},
   "outputs": [
    {
     "data": {
      "text/plain": [
       "['../Data transformers/Date_diff_transformer_12062023']"
      ]
     },
     "execution_count": 31,
     "metadata": {},
     "output_type": "execute_result"
    }
   ],
   "source": [
    "Arbitrary_disc = ArbitraryDiscretiser(\n",
    "    binning_dict = {\n",
    "        \"Date_diff\": ['-inf',0, 1, 2, 3, 4,'inf']},\n",
    ")\n",
    "\n",
    "Arbitrary_disc.fit(raw_cap)\n",
    "\n",
    "joblib.dump(Arbitrary_disc,\"../Data transformers/Date_diff_transformer_12062023\")\n",
    "\n",
    "raw_cap = Arbitrary_disc.transform(raw_cap)\n",
    "\n",
    "# convert Date_diff to object\n",
    "raw_cap['Date_diff'] = pd.Series(raw_cap['Date_diff'], dtype=object)"
   ]
  },
  {
   "cell_type": "markdown",
   "id": "3b8509cb",
   "metadata": {},
   "source": [
    "# Binning low cardinality features rare values"
   ]
  },
  {
   "cell_type": "code",
   "execution_count": 33,
   "id": "0ce92d99",
   "metadata": {},
   "outputs": [],
   "source": [
    "low_card_num = ['House_and_kitchen', 'Seasoning_wk']\n",
    "\n",
    "# change variable type to object in preparation for rare label encoding\n",
    "for var in low_card_num:\n",
    "    raw_cap[var] = pd.Series(raw_cap[var], dtype=object)"
   ]
  },
  {
   "cell_type": "code",
   "execution_count": 34,
   "id": "8f5b85b6",
   "metadata": {},
   "outputs": [
    {
     "data": {
      "text/plain": [
       "['../Data transformers/low_cardinality_rare_transformer_12062023']"
      ]
     },
     "execution_count": 34,
     "metadata": {},
     "output_type": "execute_result"
    }
   ],
   "source": [
    "# Rare value encoder for numeric low cardinality\n",
    "rare_encoder_low_card = RareLabelEncoder(\n",
    "    tol=0.047,  # minimal percentage to be considered non-rare\n",
    "    n_categories=3,  # minimal number of categories the variable should have to re-group rare categories\n",
    "    variables=low_card_num,  # variables to re-group\n",
    ")\n",
    "\n",
    "rare_encoder_low_card.fit(raw_cap)\n",
    "\n",
    "joblib.dump(rare_encoder_low_card,\"../Data transformers/low_cardinality_rare_transformer_12062023\")"
   ]
  },
  {
   "cell_type": "markdown",
   "id": "3bd7730e",
   "metadata": {},
   "source": [
    "# Categorical feature encoding"
   ]
  },
  {
   "cell_type": "code",
   "execution_count": 36,
   "id": "daf198c6",
   "metadata": {},
   "outputs": [
    {
     "data": {
      "text/plain": [
       "['../Data transformers/Categorical_rare_transformer_12062023']"
      ]
     },
     "execution_count": 36,
     "metadata": {},
     "output_type": "execute_result"
    }
   ],
   "source": [
    "Cat_feat = ['Venue']\n",
    "\n",
    "# Rare value encoder for categorical features\n",
    "rare_encoder_cat = RareLabelEncoder(\n",
    "    tol=0.05,  # minimal percentage to be considered non-rare\n",
    "    n_categories=3,  # minimal number of categories the variable should have to re-group rare categories\n",
    "    variables=Cat_feat,  # variables to re-group\n",
    ")\n",
    "\n",
    "rare_encoder_cat.fit(raw_cap)\n",
    "\n",
    "\n",
    "joblib.dump(rare_encoder_cat,\"../Data transformers/Categorical_rare_transformer_12062023\")"
   ]
  },
  {
   "cell_type": "markdown",
   "id": "541eb739",
   "metadata": {},
   "source": [
    "# WOE encoding "
   ]
  },
  {
   "cell_type": "code",
   "execution_count": null,
   "id": "c6353c0f",
   "metadata": {},
   "outputs": [],
   "source": []
  },
  {
   "cell_type": "code",
   "execution_count": null,
   "id": "0a58c1de",
   "metadata": {},
   "outputs": [],
   "source": []
  }
 ],
 "metadata": {
  "kernelspec": {
   "display_name": "Python 3 (ipykernel)",
   "language": "python",
   "name": "python3"
  },
  "language_info": {
   "codemirror_mode": {
    "name": "ipython",
    "version": 3
   },
   "file_extension": ".py",
   "mimetype": "text/x-python",
   "name": "python",
   "nbconvert_exporter": "python",
   "pygments_lexer": "ipython3",
   "version": "3.10.6"
  }
 },
 "nbformat": 4,
 "nbformat_minor": 5
}
