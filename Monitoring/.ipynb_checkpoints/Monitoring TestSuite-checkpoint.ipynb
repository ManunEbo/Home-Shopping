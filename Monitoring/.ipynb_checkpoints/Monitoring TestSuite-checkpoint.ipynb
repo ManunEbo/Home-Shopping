{
 "cells": [
  {
   "cell_type": "code",
   "execution_count": 1,
   "id": "74c3b7c4",
   "metadata": {},
   "outputs": [],
   "source": [
    "import pandas as pd\n",
    "import numpy as np\n",
    "\n",
    "from sklearn import datasets, ensemble, model_selection\n",
    "from evidently import ColumnMapping\n",
    "from evidently.options import DataDriftOptions\n",
    "from evidently.test_suite import TestSuite\n",
    "from evidently.tests import *"
   ]
  },
  {
   "cell_type": "markdown",
   "id": "d7af16c7",
   "metadata": {},
   "source": [
    "<h3 style=\"color: green;\">Prepare datasets</h3>"
   ]
  },
  {
   "cell_type": "code",
   "execution_count": 2,
   "id": "d9d5ad7a",
   "metadata": {},
   "outputs": [
    {
     "ename": "FileNotFoundError",
     "evalue": "[Errno 2] No such file or directory: './Data/adult.csv'",
     "output_type": "error",
     "traceback": [
      "\u001b[0;31m---------------------------------------------------------------------------\u001b[0m",
      "\u001b[0;31mFileNotFoundError\u001b[0m                         Traceback (most recent call last)",
      "Cell \u001b[0;32mIn [2], line 2\u001b[0m\n\u001b[1;32m      1\u001b[0m \u001b[38;5;66;03m# Reading in the pre-saved data\u001b[39;00m\n\u001b[0;32m----> 2\u001b[0m adult \u001b[38;5;241m=\u001b[39m \u001b[43mpd\u001b[49m\u001b[38;5;241;43m.\u001b[39;49m\u001b[43mread_csv\u001b[49m\u001b[43m(\u001b[49m\u001b[38;5;124;43m\"\u001b[39;49m\u001b[38;5;124;43m./Data/adult.csv\u001b[39;49m\u001b[38;5;124;43m\"\u001b[39;49m\u001b[43m)\u001b[49m\n",
      "File \u001b[0;32m~/.local/lib/python3.10/site-packages/pandas/util/_decorators.py:311\u001b[0m, in \u001b[0;36mdeprecate_nonkeyword_arguments.<locals>.decorate.<locals>.wrapper\u001b[0;34m(*args, **kwargs)\u001b[0m\n\u001b[1;32m    305\u001b[0m \u001b[38;5;28;01mif\u001b[39;00m \u001b[38;5;28mlen\u001b[39m(args) \u001b[38;5;241m>\u001b[39m num_allow_args:\n\u001b[1;32m    306\u001b[0m     warnings\u001b[38;5;241m.\u001b[39mwarn(\n\u001b[1;32m    307\u001b[0m         msg\u001b[38;5;241m.\u001b[39mformat(arguments\u001b[38;5;241m=\u001b[39marguments),\n\u001b[1;32m    308\u001b[0m         \u001b[38;5;167;01mFutureWarning\u001b[39;00m,\n\u001b[1;32m    309\u001b[0m         stacklevel\u001b[38;5;241m=\u001b[39mstacklevel,\n\u001b[1;32m    310\u001b[0m     )\n\u001b[0;32m--> 311\u001b[0m \u001b[38;5;28;01mreturn\u001b[39;00m \u001b[43mfunc\u001b[49m\u001b[43m(\u001b[49m\u001b[38;5;241;43m*\u001b[39;49m\u001b[43margs\u001b[49m\u001b[43m,\u001b[49m\u001b[43m \u001b[49m\u001b[38;5;241;43m*\u001b[39;49m\u001b[38;5;241;43m*\u001b[39;49m\u001b[43mkwargs\u001b[49m\u001b[43m)\u001b[49m\n",
      "File \u001b[0;32m~/.local/lib/python3.10/site-packages/pandas/io/parsers/readers.py:678\u001b[0m, in \u001b[0;36mread_csv\u001b[0;34m(filepath_or_buffer, sep, delimiter, header, names, index_col, usecols, squeeze, prefix, mangle_dupe_cols, dtype, engine, converters, true_values, false_values, skipinitialspace, skiprows, skipfooter, nrows, na_values, keep_default_na, na_filter, verbose, skip_blank_lines, parse_dates, infer_datetime_format, keep_date_col, date_parser, dayfirst, cache_dates, iterator, chunksize, compression, thousands, decimal, lineterminator, quotechar, quoting, doublequote, escapechar, comment, encoding, encoding_errors, dialect, error_bad_lines, warn_bad_lines, on_bad_lines, delim_whitespace, low_memory, memory_map, float_precision, storage_options)\u001b[0m\n\u001b[1;32m    663\u001b[0m kwds_defaults \u001b[38;5;241m=\u001b[39m _refine_defaults_read(\n\u001b[1;32m    664\u001b[0m     dialect,\n\u001b[1;32m    665\u001b[0m     delimiter,\n\u001b[0;32m   (...)\u001b[0m\n\u001b[1;32m    674\u001b[0m     defaults\u001b[38;5;241m=\u001b[39m{\u001b[38;5;124m\"\u001b[39m\u001b[38;5;124mdelimiter\u001b[39m\u001b[38;5;124m\"\u001b[39m: \u001b[38;5;124m\"\u001b[39m\u001b[38;5;124m,\u001b[39m\u001b[38;5;124m\"\u001b[39m},\n\u001b[1;32m    675\u001b[0m )\n\u001b[1;32m    676\u001b[0m kwds\u001b[38;5;241m.\u001b[39mupdate(kwds_defaults)\n\u001b[0;32m--> 678\u001b[0m \u001b[38;5;28;01mreturn\u001b[39;00m \u001b[43m_read\u001b[49m\u001b[43m(\u001b[49m\u001b[43mfilepath_or_buffer\u001b[49m\u001b[43m,\u001b[49m\u001b[43m \u001b[49m\u001b[43mkwds\u001b[49m\u001b[43m)\u001b[49m\n",
      "File \u001b[0;32m~/.local/lib/python3.10/site-packages/pandas/io/parsers/readers.py:575\u001b[0m, in \u001b[0;36m_read\u001b[0;34m(filepath_or_buffer, kwds)\u001b[0m\n\u001b[1;32m    572\u001b[0m _validate_names(kwds\u001b[38;5;241m.\u001b[39mget(\u001b[38;5;124m\"\u001b[39m\u001b[38;5;124mnames\u001b[39m\u001b[38;5;124m\"\u001b[39m, \u001b[38;5;28;01mNone\u001b[39;00m))\n\u001b[1;32m    574\u001b[0m \u001b[38;5;66;03m# Create the parser.\u001b[39;00m\n\u001b[0;32m--> 575\u001b[0m parser \u001b[38;5;241m=\u001b[39m \u001b[43mTextFileReader\u001b[49m\u001b[43m(\u001b[49m\u001b[43mfilepath_or_buffer\u001b[49m\u001b[43m,\u001b[49m\u001b[43m \u001b[49m\u001b[38;5;241;43m*\u001b[39;49m\u001b[38;5;241;43m*\u001b[39;49m\u001b[43mkwds\u001b[49m\u001b[43m)\u001b[49m\n\u001b[1;32m    577\u001b[0m \u001b[38;5;28;01mif\u001b[39;00m chunksize \u001b[38;5;129;01mor\u001b[39;00m iterator:\n\u001b[1;32m    578\u001b[0m     \u001b[38;5;28;01mreturn\u001b[39;00m parser\n",
      "File \u001b[0;32m~/.local/lib/python3.10/site-packages/pandas/io/parsers/readers.py:932\u001b[0m, in \u001b[0;36mTextFileReader.__init__\u001b[0;34m(self, f, engine, **kwds)\u001b[0m\n\u001b[1;32m    929\u001b[0m     \u001b[38;5;28mself\u001b[39m\u001b[38;5;241m.\u001b[39moptions[\u001b[38;5;124m\"\u001b[39m\u001b[38;5;124mhas_index_names\u001b[39m\u001b[38;5;124m\"\u001b[39m] \u001b[38;5;241m=\u001b[39m kwds[\u001b[38;5;124m\"\u001b[39m\u001b[38;5;124mhas_index_names\u001b[39m\u001b[38;5;124m\"\u001b[39m]\n\u001b[1;32m    931\u001b[0m \u001b[38;5;28mself\u001b[39m\u001b[38;5;241m.\u001b[39mhandles: IOHandles \u001b[38;5;241m|\u001b[39m \u001b[38;5;28;01mNone\u001b[39;00m \u001b[38;5;241m=\u001b[39m \u001b[38;5;28;01mNone\u001b[39;00m\n\u001b[0;32m--> 932\u001b[0m \u001b[38;5;28mself\u001b[39m\u001b[38;5;241m.\u001b[39m_engine \u001b[38;5;241m=\u001b[39m \u001b[38;5;28;43mself\u001b[39;49m\u001b[38;5;241;43m.\u001b[39;49m\u001b[43m_make_engine\u001b[49m\u001b[43m(\u001b[49m\u001b[43mf\u001b[49m\u001b[43m,\u001b[49m\u001b[43m \u001b[49m\u001b[38;5;28;43mself\u001b[39;49m\u001b[38;5;241;43m.\u001b[39;49m\u001b[43mengine\u001b[49m\u001b[43m)\u001b[49m\n",
      "File \u001b[0;32m~/.local/lib/python3.10/site-packages/pandas/io/parsers/readers.py:1216\u001b[0m, in \u001b[0;36mTextFileReader._make_engine\u001b[0;34m(self, f, engine)\u001b[0m\n\u001b[1;32m   1212\u001b[0m     mode \u001b[38;5;241m=\u001b[39m \u001b[38;5;124m\"\u001b[39m\u001b[38;5;124mrb\u001b[39m\u001b[38;5;124m\"\u001b[39m\n\u001b[1;32m   1213\u001b[0m \u001b[38;5;66;03m# error: No overload variant of \"get_handle\" matches argument types\u001b[39;00m\n\u001b[1;32m   1214\u001b[0m \u001b[38;5;66;03m# \"Union[str, PathLike[str], ReadCsvBuffer[bytes], ReadCsvBuffer[str]]\"\u001b[39;00m\n\u001b[1;32m   1215\u001b[0m \u001b[38;5;66;03m# , \"str\", \"bool\", \"Any\", \"Any\", \"Any\", \"Any\", \"Any\"\u001b[39;00m\n\u001b[0;32m-> 1216\u001b[0m \u001b[38;5;28mself\u001b[39m\u001b[38;5;241m.\u001b[39mhandles \u001b[38;5;241m=\u001b[39m \u001b[43mget_handle\u001b[49m\u001b[43m(\u001b[49m\u001b[43m  \u001b[49m\u001b[38;5;66;43;03m# type: ignore[call-overload]\u001b[39;49;00m\n\u001b[1;32m   1217\u001b[0m \u001b[43m    \u001b[49m\u001b[43mf\u001b[49m\u001b[43m,\u001b[49m\n\u001b[1;32m   1218\u001b[0m \u001b[43m    \u001b[49m\u001b[43mmode\u001b[49m\u001b[43m,\u001b[49m\n\u001b[1;32m   1219\u001b[0m \u001b[43m    \u001b[49m\u001b[43mencoding\u001b[49m\u001b[38;5;241;43m=\u001b[39;49m\u001b[38;5;28;43mself\u001b[39;49m\u001b[38;5;241;43m.\u001b[39;49m\u001b[43moptions\u001b[49m\u001b[38;5;241;43m.\u001b[39;49m\u001b[43mget\u001b[49m\u001b[43m(\u001b[49m\u001b[38;5;124;43m\"\u001b[39;49m\u001b[38;5;124;43mencoding\u001b[39;49m\u001b[38;5;124;43m\"\u001b[39;49m\u001b[43m,\u001b[49m\u001b[43m \u001b[49m\u001b[38;5;28;43;01mNone\u001b[39;49;00m\u001b[43m)\u001b[49m\u001b[43m,\u001b[49m\n\u001b[1;32m   1220\u001b[0m \u001b[43m    \u001b[49m\u001b[43mcompression\u001b[49m\u001b[38;5;241;43m=\u001b[39;49m\u001b[38;5;28;43mself\u001b[39;49m\u001b[38;5;241;43m.\u001b[39;49m\u001b[43moptions\u001b[49m\u001b[38;5;241;43m.\u001b[39;49m\u001b[43mget\u001b[49m\u001b[43m(\u001b[49m\u001b[38;5;124;43m\"\u001b[39;49m\u001b[38;5;124;43mcompression\u001b[39;49m\u001b[38;5;124;43m\"\u001b[39;49m\u001b[43m,\u001b[49m\u001b[43m \u001b[49m\u001b[38;5;28;43;01mNone\u001b[39;49;00m\u001b[43m)\u001b[49m\u001b[43m,\u001b[49m\n\u001b[1;32m   1221\u001b[0m \u001b[43m    \u001b[49m\u001b[43mmemory_map\u001b[49m\u001b[38;5;241;43m=\u001b[39;49m\u001b[38;5;28;43mself\u001b[39;49m\u001b[38;5;241;43m.\u001b[39;49m\u001b[43moptions\u001b[49m\u001b[38;5;241;43m.\u001b[39;49m\u001b[43mget\u001b[49m\u001b[43m(\u001b[49m\u001b[38;5;124;43m\"\u001b[39;49m\u001b[38;5;124;43mmemory_map\u001b[39;49m\u001b[38;5;124;43m\"\u001b[39;49m\u001b[43m,\u001b[49m\u001b[43m \u001b[49m\u001b[38;5;28;43;01mFalse\u001b[39;49;00m\u001b[43m)\u001b[49m\u001b[43m,\u001b[49m\n\u001b[1;32m   1222\u001b[0m \u001b[43m    \u001b[49m\u001b[43mis_text\u001b[49m\u001b[38;5;241;43m=\u001b[39;49m\u001b[43mis_text\u001b[49m\u001b[43m,\u001b[49m\n\u001b[1;32m   1223\u001b[0m \u001b[43m    \u001b[49m\u001b[43merrors\u001b[49m\u001b[38;5;241;43m=\u001b[39;49m\u001b[38;5;28;43mself\u001b[39;49m\u001b[38;5;241;43m.\u001b[39;49m\u001b[43moptions\u001b[49m\u001b[38;5;241;43m.\u001b[39;49m\u001b[43mget\u001b[49m\u001b[43m(\u001b[49m\u001b[38;5;124;43m\"\u001b[39;49m\u001b[38;5;124;43mencoding_errors\u001b[39;49m\u001b[38;5;124;43m\"\u001b[39;49m\u001b[43m,\u001b[49m\u001b[43m \u001b[49m\u001b[38;5;124;43m\"\u001b[39;49m\u001b[38;5;124;43mstrict\u001b[39;49m\u001b[38;5;124;43m\"\u001b[39;49m\u001b[43m)\u001b[49m\u001b[43m,\u001b[49m\n\u001b[1;32m   1224\u001b[0m \u001b[43m    \u001b[49m\u001b[43mstorage_options\u001b[49m\u001b[38;5;241;43m=\u001b[39;49m\u001b[38;5;28;43mself\u001b[39;49m\u001b[38;5;241;43m.\u001b[39;49m\u001b[43moptions\u001b[49m\u001b[38;5;241;43m.\u001b[39;49m\u001b[43mget\u001b[49m\u001b[43m(\u001b[49m\u001b[38;5;124;43m\"\u001b[39;49m\u001b[38;5;124;43mstorage_options\u001b[39;49m\u001b[38;5;124;43m\"\u001b[39;49m\u001b[43m,\u001b[49m\u001b[43m \u001b[49m\u001b[38;5;28;43;01mNone\u001b[39;49;00m\u001b[43m)\u001b[49m\u001b[43m,\u001b[49m\n\u001b[1;32m   1225\u001b[0m \u001b[43m\u001b[49m\u001b[43m)\u001b[49m\n\u001b[1;32m   1226\u001b[0m \u001b[38;5;28;01massert\u001b[39;00m \u001b[38;5;28mself\u001b[39m\u001b[38;5;241m.\u001b[39mhandles \u001b[38;5;129;01mis\u001b[39;00m \u001b[38;5;129;01mnot\u001b[39;00m \u001b[38;5;28;01mNone\u001b[39;00m\n\u001b[1;32m   1227\u001b[0m f \u001b[38;5;241m=\u001b[39m \u001b[38;5;28mself\u001b[39m\u001b[38;5;241m.\u001b[39mhandles\u001b[38;5;241m.\u001b[39mhandle\n",
      "File \u001b[0;32m~/.local/lib/python3.10/site-packages/pandas/io/common.py:786\u001b[0m, in \u001b[0;36mget_handle\u001b[0;34m(path_or_buf, mode, encoding, compression, memory_map, is_text, errors, storage_options)\u001b[0m\n\u001b[1;32m    781\u001b[0m \u001b[38;5;28;01melif\u001b[39;00m \u001b[38;5;28misinstance\u001b[39m(handle, \u001b[38;5;28mstr\u001b[39m):\n\u001b[1;32m    782\u001b[0m     \u001b[38;5;66;03m# Check whether the filename is to be opened in binary mode.\u001b[39;00m\n\u001b[1;32m    783\u001b[0m     \u001b[38;5;66;03m# Binary mode does not support 'encoding' and 'newline'.\u001b[39;00m\n\u001b[1;32m    784\u001b[0m     \u001b[38;5;28;01mif\u001b[39;00m ioargs\u001b[38;5;241m.\u001b[39mencoding \u001b[38;5;129;01mand\u001b[39;00m \u001b[38;5;124m\"\u001b[39m\u001b[38;5;124mb\u001b[39m\u001b[38;5;124m\"\u001b[39m \u001b[38;5;129;01mnot\u001b[39;00m \u001b[38;5;129;01min\u001b[39;00m ioargs\u001b[38;5;241m.\u001b[39mmode:\n\u001b[1;32m    785\u001b[0m         \u001b[38;5;66;03m# Encoding\u001b[39;00m\n\u001b[0;32m--> 786\u001b[0m         handle \u001b[38;5;241m=\u001b[39m \u001b[38;5;28;43mopen\u001b[39;49m\u001b[43m(\u001b[49m\n\u001b[1;32m    787\u001b[0m \u001b[43m            \u001b[49m\u001b[43mhandle\u001b[49m\u001b[43m,\u001b[49m\n\u001b[1;32m    788\u001b[0m \u001b[43m            \u001b[49m\u001b[43mioargs\u001b[49m\u001b[38;5;241;43m.\u001b[39;49m\u001b[43mmode\u001b[49m\u001b[43m,\u001b[49m\n\u001b[1;32m    789\u001b[0m \u001b[43m            \u001b[49m\u001b[43mencoding\u001b[49m\u001b[38;5;241;43m=\u001b[39;49m\u001b[43mioargs\u001b[49m\u001b[38;5;241;43m.\u001b[39;49m\u001b[43mencoding\u001b[49m\u001b[43m,\u001b[49m\n\u001b[1;32m    790\u001b[0m \u001b[43m            \u001b[49m\u001b[43merrors\u001b[49m\u001b[38;5;241;43m=\u001b[39;49m\u001b[43merrors\u001b[49m\u001b[43m,\u001b[49m\n\u001b[1;32m    791\u001b[0m \u001b[43m            \u001b[49m\u001b[43mnewline\u001b[49m\u001b[38;5;241;43m=\u001b[39;49m\u001b[38;5;124;43m\"\u001b[39;49m\u001b[38;5;124;43m\"\u001b[39;49m\u001b[43m,\u001b[49m\n\u001b[1;32m    792\u001b[0m \u001b[43m        \u001b[49m\u001b[43m)\u001b[49m\n\u001b[1;32m    793\u001b[0m     \u001b[38;5;28;01melse\u001b[39;00m:\n\u001b[1;32m    794\u001b[0m         \u001b[38;5;66;03m# Binary mode\u001b[39;00m\n\u001b[1;32m    795\u001b[0m         handle \u001b[38;5;241m=\u001b[39m \u001b[38;5;28mopen\u001b[39m(handle, ioargs\u001b[38;5;241m.\u001b[39mmode)\n",
      "\u001b[0;31mFileNotFoundError\u001b[0m: [Errno 2] No such file or directory: './Data/adult.csv'"
     ]
    }
   ],
   "source": [
    "# Reading in the pre-saved data\n",
    "adult = pd.read_csv(\"./Data/adult.csv\")"
   ]
  },
  {
   "cell_type": "code",
   "execution_count": null,
   "id": "126bde41",
   "metadata": {},
   "outputs": [],
   "source": [
    "# Dataset for data quality and Integrity\n",
    "# adult_data = datasets.fetch_openml(name='adult', version=2, as_frame='auto')\n",
    "# adult = adult_data.frame\n",
    "\n",
    "adult_ref = adult[~adult.education.isin(['Some-college','HS-grad','Bachelors'])]\n",
    "\n",
    "adult_cur = adult[~adult.education.isin(['Some-college','HS-grad','Bachelors'])]\n",
    "\n",
    "# creating missing values\n",
    "adult_cur.iloc[:2000,3:5] = np.nan"
   ]
  },
  {
   "cell_type": "code",
   "execution_count": null,
   "id": "7c9388b8",
   "metadata": {},
   "outputs": [],
   "source": [
    "# DON'T RUN THIS\n",
    "# saving the adult data to csv\n",
    "# adult.to_csv(\"./Data/adult.csv\", index=False)"
   ]
  },
  {
   "cell_type": "code",
   "execution_count": null,
   "id": "03e58c89",
   "metadata": {},
   "outputs": [],
   "source": [
    "# Dataset for regression\n",
    "housing_data = datasets.fetch_california_housing(as_frame='auto')\n",
    "housing = housing_data.frame\n",
    "\n",
    "housing.rename(columns={'MedHouseVal': 'target'}, inplace=True)\n",
    "housing['prediction'] = housing_data['target'].values + np.random.normal(0,3, housing.shape[0])\n",
    "\n",
    "housing_ref = housing.sample(n=5000, replace=False)\n",
    "housing_cur = housing.sample(n=5000, replace=False)\n",
    "\n",
    "# extra changes to check drift\n",
    "housing_cur['prediction'] = housing_cur['prediction'].values + np.random.normal(1,3, housing_cur.shape[0])\n",
    "print(housing_ref.shape,housing_cur.shape)"
   ]
  },
  {
   "cell_type": "code",
   "execution_count": null,
   "id": "a2895f37",
   "metadata": {},
   "outputs": [],
   "source": [
    "# Dataset for binary probabilistic classification\n",
    "cancer = datasets.load_breast_cancer(as_frame='auto')\n",
    "cancer_df = cancer.frame\n",
    "\n",
    "cancer_ref = cancer_df.sample(n=300, replace=False)\n",
    "cancer_cur = cancer_df.sample(n=200, replace=False)\n",
    "\n",
    "# building a model\n",
    "model = ensemble.RandomForestClassifier(random_state=1, n_estimators=10)\n",
    "model.fit(cancer_ref[cancer.feature_names.tolist()],cancer_ref.target)\n",
    "\n",
    "# making predictions\n",
    "cancer_ref['prediction'] = model.predict_proba(cancer_ref[cancer.feature_names.tolist()])[:,1]\n",
    "cancer_cur['prediction'] = model.predict_proba(cancer_cur[cancer.feature_names.tolist()])[:,1]"
   ]
  },
  {
   "cell_type": "code",
   "execution_count": null,
   "id": "ada90252",
   "metadata": {},
   "outputs": [],
   "source": [
    "# Dataset for multiclass classification (labels)\n",
    "iris_data = datasets.load_iris(as_frame='auto')\n",
    "iris = iris_data.frame\n",
    "\n",
    "iris_ref = iris.sample(n=75, replace=False)\n",
    "iris_cur = iris.sample(n=75, replace=False)\n",
    "\n",
    "model = ensemble.RandomForestClassifier(random_state=1, n_estimators=3)\n",
    "model.fit(iris_ref[iris_data.feature_names],iris_ref.target)\n",
    "\n",
    "iris_ref['prediction'] = model.predict(iris_ref[iris_data.feature_names])\n",
    "iris_cur['prediction'] = model.predict(iris_cur[iris_data.feature_names])"
   ]
  },
  {
   "cell_type": "markdown",
   "id": "90a47807",
   "metadata": {},
   "source": [
    "<h3 style=\"color: green;\">How to run TestSuites</h3>"
   ]
  },
  {
   "cell_type": "code",
   "execution_count": null,
   "id": "495a9d6b",
   "metadata": {},
   "outputs": [],
   "source": [
    "# Dataset-level test\n",
    "data_integrity_dataset_tests = TestSuite(tests=[\n",
    "    TestNumberOfColumns(),\n",
    "    TestNumberOfRows(),\n",
    "    TestNumberOfNulls(),\n",
    "    TestShareOfNulls(),\n",
    "    TestNumberOfColumnsWithNulls(),\n",
    "    TestNumberOfRowsWithNulls(),\n",
    "    TestShareOfColumnsWithNulls(),\n",
    "    TestShareOfRowsWithNulls(),\n",
    "    TestNumberOfDifferentNulls(),\n",
    "    TestNumberOfConstantColumns(),\n",
    "    TestNumberOfEmptyRows(),\n",
    "    TestNumberOfEmptyColumns(),\n",
    "    TestNumberOfDuplicatedRows(),\n",
    "    TestNumberOfDuplicatedColumns(),\n",
    "    TestColumnsType(),\n",
    "])\n",
    "\n",
    "data_integrity_dataset_tests.run(reference_data=adult_ref, current_data=adult_cur)\n",
    "data_integrity_dataset_tests.save_html(\"./Reports/Data integrity adult dataset tests.html\")"
   ]
  },
  {
   "cell_type": "code",
   "execution_count": null,
   "id": "49f9602a",
   "metadata": {},
   "outputs": [],
   "source": [
    "#column-level tests\n",
    "data_integrity_column_tests = TestSuite(tests=[\n",
    "    TestColumnNumberOfNulls(column_name='education'),\n",
    "    TestColumnShareOfNulls(column_name='education'),\n",
    "    TestColumnNumberOfDifferentNulls(column_name='education'),\n",
    "    TestColumnAllConstantValues(column_name='education'),\n",
    "    TestColumnAllUniqueValues(column_name='education'),\n",
    "    TestColumnValueRegExp(column_name='education',reg_exp='^[0..9]')\n",
    "])\n",
    "\n",
    "data_integrity_column_tests.run(reference_data=adult_ref, current_data=adult_cur)\n",
    "data_integrity_column_tests.save_html(\"./Reports/Data integrity column tests.html\")"
   ]
  },
  {
   "cell_type": "markdown",
   "id": "7e2744da",
   "metadata": {},
   "source": [
    "<h3 style=\"color: green;\">Data Quality Tests</h3>"
   ]
  },
  {
   "cell_type": "code",
   "execution_count": null,
   "id": "2c036373",
   "metadata": {},
   "outputs": [],
   "source": [
    "#dataset-level tests\n",
    "data_quality_dataset_tests = TestSuite(tests=[\n",
    "    TestTargetPredictionCorrelation(),\n",
    "    TestHighlyCorrelatedFeatures(),\n",
    "    TestTargetFeaturesCorrelations(),\n",
    "    TestPredictionFeaturesCorrelations(),\n",
    "    TestCorrelationChanges(),\n",
    "])\n",
    "\n",
    "data_quality_dataset_tests.run(reference_data=adult_ref, current_data=adult_cur)\n",
    "data_quality_dataset_tests.save_html(\"./Reports/Data quality adult dataset test.html\")"
   ]
  },
  {
   "cell_type": "code",
   "execution_count": null,
   "id": "03e4a2ce",
   "metadata": {},
   "outputs": [],
   "source": [
    "#column-level tests\n",
    "data_quality_column_tests = TestSuite(tests=[\n",
    "    TestFeatureValueMin(column_name='education-num'),\n",
    "    TestFeatureValueMax(column_name='education-num'),\n",
    "    TestFeatureValueMean(column_name='education-num'),\n",
    "    TestFeatureValueMedian(column_name='education-num'),\n",
    "    TestFeatureValueStd(column_name='education-num'),\n",
    "    TestNumberOfUniqueValues(column_name='education'),\n",
    "    TestUniqueValuesShare(column_name='education'),\n",
    "    TestMostCommonValueShare(column_name='education'),\n",
    "    TestMeanInNSigmas(column_name='education-num'),\n",
    "    TestValueRange(column_name='education-num'),\n",
    "    TestNumberOfOutRangeValues(column_name='education-num'),\n",
    "    TestShareOfOutRangeValues(column_name='education-num'),\n",
    "    TestValueList(column_name='education'),\n",
    "    TestNumberOfOutListValues(column_name='education'),\n",
    "    TestShareOfOutListValues(column_name='education'),\n",
    "    TestValueQuantile(column_name='education-num', quantile=0.25),\n",
    "    TestShareOfOutListValues(column_name='education-num'),\n",
    "])\n",
    "\n",
    "data_quality_column_tests.run(reference_data=adult_ref, current_data=adult_cur)\n",
    "data_quality_column_tests.save_html(\"./Reports/Data quality adult dataset column test.html\")"
   ]
  },
  {
   "cell_type": "markdown",
   "id": "ae86c873",
   "metadata": {},
   "source": [
    "<h3 style=\"color: green;\">Data Drift Tests</h3>\n"
   ]
  },
  {
   "cell_type": "code",
   "execution_count": null,
   "id": "064fb199",
   "metadata": {},
   "outputs": [],
   "source": [
    "#dataset-level tests\n",
    "data_drift_dataset_tests = TestSuite(tests=[\n",
    "    TestNumberOfDriftedFeatures(),\n",
    "    TestShareOfDriftedFeatures(),    \n",
    "])\n",
    "\n",
    "data_drift_dataset_tests.run(reference_data=adult_ref, current_data=adult_cur)\n",
    "data_drift_dataset_tests.save_html(\"./Reports/Data drift adult dataset test.html\")"
   ]
  },
  {
   "cell_type": "code",
   "execution_count": null,
   "id": "fb469d6d",
   "metadata": {},
   "outputs": [],
   "source": [
    "#column-level tests\n",
    "data_drift_column_tests = TestSuite(tests=[\n",
    "    TestFeatureValueDrift(column_name='education-num')\n",
    "])\n",
    "\n",
    "data_drift_column_tests.run(reference_data=adult_ref, current_data=adult_cur)\n",
    "data_drift_column_tests.save_html(\"./Reports/Data drift adult dataset column test.html\")"
   ]
  },
  {
   "cell_type": "markdown",
   "id": "9310c903",
   "metadata": {},
   "source": [
    "<h3 style=\"color: green;\">Regression Performance Tests</h3>"
   ]
  },
  {
   "cell_type": "code",
   "execution_count": null,
   "id": "5051ebc9",
   "metadata": {},
   "outputs": [],
   "source": [
    "#dataset-level tests\n",
    "regression_performance_dataset_tests = TestSuite(tests=[\n",
    "    TestValueMAE(),\n",
    "    TestValueRMSE(),\n",
    "    TestValueMeanError(),\n",
    "    TestValueMAPE(),\n",
    "    TestValueAbsMaxError(),\n",
    "    TestValueR2Score()\n",
    "])\n",
    "\n",
    "regression_performance_dataset_tests.run(reference_data=housing_ref, current_data=housing_cur)\n",
    "regression_performance_dataset_tests.save_html(\"./Reports/Regression performance housing dataset test.html\")"
   ]
  },
  {
   "cell_type": "markdown",
   "id": "0fd6cdc8",
   "metadata": {},
   "source": [
    "<h3 style=\"color: green;\">Classification Performance Tests</h3>"
   ]
  },
  {
   "cell_type": "code",
   "execution_count": null,
   "id": "d3fcefcb",
   "metadata": {},
   "outputs": [],
   "source": [
    "#dataset-level tests\n",
    "classification_performance_dataset_tests = TestSuite(tests=[\n",
    "    TestAccuracyScore(),\n",
    "    TestPrecisionScore(),\n",
    "    TestRecallScore(),\n",
    "    TestF1Score(),\n",
    "    TestRocAuc(),\n",
    "    TestPrecisionByClass(label='0'),\n",
    "    TestPrecisionByClass(label='1'),\n",
    "    TestPrecisionByClass(label='2'),\n",
    "    TestRecallByClass(label='0'),\n",
    "    TestRecallByClass(label='1'),\n",
    "    TestRecallByClass(label='2'),\n",
    "    TestF1ByClass(label='0'),\n",
    "    TestF1ByClass(label='1'),\n",
    "    TestF1ByClass(label='2'),\n",
    "])\n",
    "\n",
    "classification_performance_dataset_tests.run(reference_data=iris_ref, current_data=iris_cur)\n",
    "classification_performance_dataset_tests.save_html(\"./Reports/Classification performance test.html\")"
   ]
  },
  {
   "cell_type": "markdown",
   "id": "fb82d34a",
   "metadata": {},
   "source": [
    "<h3 style=\"color: green;\">Probabilistic Classification Performance Tests</h3>"
   ]
  },
  {
   "cell_type": "code",
   "execution_count": null,
   "id": "cb732c1a",
   "metadata": {},
   "outputs": [],
   "source": [
    "#dataset-level tests\n",
    "prob_classification_performance_dataset_tests = TestSuite(tests=[\n",
    "    TestAccuracyScore(),\n",
    "    TestPrecisionScore(),\n",
    "    TestRecallScore(),\n",
    "    TestF1Score(),\n",
    "    TestRocAuc(),\n",
    "    TestLogLoss(),\n",
    "    TestPrecisionByClass(label='0'),\n",
    "    TestPrecisionByClass(label='1'),\n",
    "    TestRecallByClass(label='0'),\n",
    "    TestRecallByClass(label='1'),\n",
    "    TestF1ByClass(label='0'),\n",
    "    TestF1ByClass(label='1'),\n",
    "\n",
    "])\n",
    "\n",
    "prob_classification_performance_dataset_tests.run(reference_data=cancer_ref, current_data=cancer_cur)\n",
    "prob_classification_performance_dataset_tests.save_html(\"./Reports/Probabilistic classification performance test.html\")"
   ]
  },
  {
   "cell_type": "markdown",
   "id": "3ab01601",
   "metadata": {},
   "source": [
    "<h3 style=\"color: green;\">How to set test parameters?</h3>"
   ]
  },
  {
   "cell_type": "code",
   "execution_count": null,
   "id": "f022bba1",
   "metadata": {},
   "outputs": [],
   "source": [
    "#simple test parameters\n",
    "feature_level_tests = TestSuite(tests=[\n",
    "    TestMeanInNSigmas(column_name='hours-per-week', n_sigmas=3),\n",
    "    TestMeanInNSigmas(column_name='age', n_sigmas=3),\n",
    "    TestShareOfOutRangeValues(column_name='hours-per-week', lte=0),\n",
    "    TestColumnShareOfNulls(column_name='education', lt=0.2),\n",
    "])\n",
    "\n",
    "feature_level_tests.run(reference_data=adult_ref, current_data=adult_cur)\n",
    "feature_level_tests.save_html(\"./Reports/Feature level tests.html\")"
   ]
  }
 ],
 "metadata": {
  "kernelspec": {
   "display_name": "Python 3 (ipykernel)",
   "language": "python",
   "name": "python3"
  },
  "language_info": {
   "codemirror_mode": {
    "name": "ipython",
    "version": 3
   },
   "file_extension": ".py",
   "mimetype": "text/x-python",
   "name": "python",
   "nbconvert_exporter": "python",
   "pygments_lexer": "ipython3",
   "version": "3.10.6"
  }
 },
 "nbformat": 4,
 "nbformat_minor": 5
}
