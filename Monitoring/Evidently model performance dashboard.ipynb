{
 "cells": [
  {
   "cell_type": "markdown",
   "id": "cc64ecbd",
   "metadata": {},
   "source": [
    "<h1 style=\"color:green\">Model monitoring with Evidently</h1>"
   ]
  },
  {
   "cell_type": "code",
   "execution_count": 2,
   "id": "1585c9fc",
   "metadata": {},
   "outputs": [
    {
     "name": "stderr",
     "output_type": "stream",
     "text": [
      "/home/kapanga/Documents/Python/Home Shopping ML/venv/lib/python3.10/site-packages/evidently/analyzers/__init__.py:3: UserWarning: analyzers are deprecated, use metrics instead\n",
      "  warnings.warn(\"analyzers are deprecated, use metrics instead\")\n",
      "/home/kapanga/Documents/Python/Home Shopping ML/venv/lib/python3.10/site-packages/evidently/dashboard/__init__.py:8: UserWarning: dashboards are deprecated, use metrics instead\n",
      "  warnings.warn(\"dashboards are deprecated, use metrics instead\")\n"
     ]
    }
   ],
   "source": [
    "import pandas as pd\n",
    "import numpy as np\n",
    "\n",
    "import time\n",
    "\n",
    "import seaborn as sb\n",
    "import matplotlib.pyplot as plt\n",
    "\n",
    "\n",
    "\n",
    "# Metrics Accuracy\n",
    "from sklearn.metrics import \\\n",
    "accuracy_score, confusion_matrix, recall_score, roc_curve,roc_auc_score\n",
    "\n",
    "# joblib for storing models\n",
    "import joblib\n",
    "\n",
    "\n",
    "# Evidently\n",
    "from evidently.dashboard import Dashboard\n",
    "from evidently.pipeline.column_mapping import ColumnMapping\n",
    "from evidently.dashboard.tabs import ClassificationPerformanceTab,ProbClassificationPerformanceTab"
   ]
  },
  {
   "cell_type": "markdown",
   "id": "9cf2549e",
   "metadata": {},
   "source": [
    "<h3 style=\"color: green;\">Reading in the data</h3>"
   ]
  },
  {
   "cell_type": "code",
   "execution_count": 22,
   "id": "eef44fcb",
   "metadata": {},
   "outputs": [],
   "source": [
    "X_train =pd.read_csv(\"../Data/base_classifier_data.csv\")\n",
    "X_test =pd.read_csv(\"../Data/test_classifier_data.csv\")\n",
    "\n",
    "# Reading in the target\n",
    "y_train =pd.read_csv(\"../Data/base_classifier_target.csv\")\n",
    "y_test =pd.read_csv(\"../Data/test_classifier_target.csv\")"
   ]
  },
  {
   "cell_type": "code",
   "execution_count": 10,
   "id": "dbe4a7ca",
   "metadata": {},
   "outputs": [
    {
     "name": "stdout",
     "output_type": "stream",
     "text": [
      "(587, 156)\n",
      "(240, 156)\n"
     ]
    }
   ],
   "source": [
    "print(X_train.shape)\n",
    "print(X_test.shape)"
   ]
  },
  {
   "cell_type": "markdown",
   "id": "5a4ec185",
   "metadata": {},
   "source": [
    "<h3 style=\"color: green;\">Load the model using joblib</h3>"
   ]
  },
  {
   "cell_type": "code",
   "execution_count": 20,
   "id": "895170ce",
   "metadata": {},
   "outputs": [],
   "source": [
    "xgb_loaded = joblib.load('../Models/Classifier_models/xgboost_classifier23032023')"
   ]
  },
  {
   "cell_type": "code",
   "execution_count": 23,
   "id": "9a68339f",
   "metadata": {},
   "outputs": [],
   "source": [
    "probas_name = ['target_0','target_1']\n",
    "train_probas = pd.DataFrame(xgb_loaded.predict_proba(X_train), columns=probas_name)\n",
    "test_probas = pd.DataFrame(xgb_loaded.predict_proba(X_test), columns=probas_name)"
   ]
  },
  {
   "cell_type": "code",
   "execution_count": 24,
   "id": "b1f5b884",
   "metadata": {},
   "outputs": [],
   "source": [
    "# storing the class predictions to train and test\n",
    "X_train['prediction'] = xgb_loaded.predict(X_train)\n",
    "X_test['prediction'] = xgb_loaded.predict(X_test)\n",
    "\n",
    "# reseting the index in preparation for concatenation\n",
    "X_train.reset_index(inplace=True, drop=True)\n",
    "X_test.reset_index(inplace=True, drop=True)\n",
    "\n",
    "# Concatenating probability predictions to train and test\n",
    "X_train = pd.concat([X_train,train_probas], axis=1)\n",
    "X_test = pd.concat([X_test,test_probas], axis=1)\n",
    "\n"
   ]
  },
  {
   "cell_type": "code",
   "execution_count": 25,
   "id": "4023eba7",
   "metadata": {},
   "outputs": [],
   "source": [
    "# Adding the target to the datasets\n",
    "X_train['target'] = y_train.values\n",
    "X_test['target'] = y_test.values"
   ]
  },
  {
   "cell_type": "code",
   "execution_count": 26,
   "id": "d0c9a9f8",
   "metadata": {
    "scrolled": false
   },
   "outputs": [
    {
     "data": {
      "text/html": [
       "<div>\n",
       "<style scoped>\n",
       "    .dataframe tbody tr th:only-of-type {\n",
       "        vertical-align: middle;\n",
       "    }\n",
       "\n",
       "    .dataframe tbody tr th {\n",
       "        vertical-align: top;\n",
       "    }\n",
       "\n",
       "    .dataframe thead th {\n",
       "        text-align: right;\n",
       "    }\n",
       "</style>\n",
       "<table border=\"1\" class=\"dataframe\">\n",
       "  <thead>\n",
       "    <tr style=\"text-align: right;\">\n",
       "      <th></th>\n",
       "      <th>Total_Nbr_of_Items</th>\n",
       "      <th>Total_Price</th>\n",
       "      <th>Date_diff</th>\n",
       "      <th>Week_day_numeric</th>\n",
       "      <th>Nbr_items_per_wk</th>\n",
       "      <th>Nbr_items_wk_perc</th>\n",
       "      <th>Expenditure_per_wk</th>\n",
       "      <th>Total_Exp_wk_perc</th>\n",
       "      <th>hour</th>\n",
       "      <th>Part_of_day_num</th>\n",
       "      <th>...</th>\n",
       "      <th>Afro_supermarket</th>\n",
       "      <th>Amazon</th>\n",
       "      <th>Yours_Supermarket</th>\n",
       "      <th>Sainsbury</th>\n",
       "      <th>Asda</th>\n",
       "      <th>LinkedIn</th>\n",
       "      <th>prediction</th>\n",
       "      <th>target_0</th>\n",
       "      <th>target_1</th>\n",
       "      <th>target</th>\n",
       "    </tr>\n",
       "  </thead>\n",
       "  <tbody>\n",
       "    <tr>\n",
       "      <th>0</th>\n",
       "      <td>-0.508363</td>\n",
       "      <td>-0.231013</td>\n",
       "      <td>-0.191830</td>\n",
       "      <td>1.071121</td>\n",
       "      <td>1.475415</td>\n",
       "      <td>-0.681293</td>\n",
       "      <td>0.420746</td>\n",
       "      <td>-0.583656</td>\n",
       "      <td>1.262206</td>\n",
       "      <td>1.556529</td>\n",
       "      <td>...</td>\n",
       "      <td>-0.19262</td>\n",
       "      <td>-0.131647</td>\n",
       "      <td>-0.266773</td>\n",
       "      <td>-0.327944</td>\n",
       "      <td>-0.370941</td>\n",
       "      <td>-0.092688</td>\n",
       "      <td>0</td>\n",
       "      <td>0.995862</td>\n",
       "      <td>0.004138</td>\n",
       "      <td>0</td>\n",
       "    </tr>\n",
       "    <tr>\n",
       "      <th>1</th>\n",
       "      <td>1.459563</td>\n",
       "      <td>0.244153</td>\n",
       "      <td>0.177364</td>\n",
       "      <td>1.071121</td>\n",
       "      <td>-0.873191</td>\n",
       "      <td>1.960226</td>\n",
       "      <td>-0.530668</td>\n",
       "      <td>0.366994</td>\n",
       "      <td>0.217192</td>\n",
       "      <td>0.264192</td>\n",
       "      <td>...</td>\n",
       "      <td>-0.19262</td>\n",
       "      <td>-0.131647</td>\n",
       "      <td>-0.266773</td>\n",
       "      <td>-0.327944</td>\n",
       "      <td>-0.370941</td>\n",
       "      <td>-0.092688</td>\n",
       "      <td>1</td>\n",
       "      <td>0.151880</td>\n",
       "      <td>0.848120</td>\n",
       "      <td>1</td>\n",
       "    </tr>\n",
       "    <tr>\n",
       "      <th>2</th>\n",
       "      <td>-0.687266</td>\n",
       "      <td>-1.092006</td>\n",
       "      <td>-0.191830</td>\n",
       "      <td>-0.944097</td>\n",
       "      <td>-0.792204</td>\n",
       "      <td>-0.558370</td>\n",
       "      <td>2.732454</td>\n",
       "      <td>-0.988954</td>\n",
       "      <td>0.478446</td>\n",
       "      <td>0.264192</td>\n",
       "      <td>...</td>\n",
       "      <td>-0.19262</td>\n",
       "      <td>-0.131647</td>\n",
       "      <td>-0.266773</td>\n",
       "      <td>-0.327944</td>\n",
       "      <td>-0.370941</td>\n",
       "      <td>-0.092688</td>\n",
       "      <td>1</td>\n",
       "      <td>0.204227</td>\n",
       "      <td>0.795773</td>\n",
       "      <td>1</td>\n",
       "    </tr>\n",
       "    <tr>\n",
       "      <th>3</th>\n",
       "      <td>1.280661</td>\n",
       "      <td>0.370798</td>\n",
       "      <td>-0.561025</td>\n",
       "      <td>1.071121</td>\n",
       "      <td>0.422592</td>\n",
       "      <td>0.640134</td>\n",
       "      <td>-0.255744</td>\n",
       "      <td>0.115471</td>\n",
       "      <td>-0.305315</td>\n",
       "      <td>0.264192</td>\n",
       "      <td>...</td>\n",
       "      <td>-0.19262</td>\n",
       "      <td>-0.131647</td>\n",
       "      <td>-0.266773</td>\n",
       "      <td>3.049302</td>\n",
       "      <td>-0.370941</td>\n",
       "      <td>-0.092688</td>\n",
       "      <td>0</td>\n",
       "      <td>0.985461</td>\n",
       "      <td>0.014539</td>\n",
       "      <td>0</td>\n",
       "    </tr>\n",
       "    <tr>\n",
       "      <th>4</th>\n",
       "      <td>-0.866168</td>\n",
       "      <td>-1.055682</td>\n",
       "      <td>-0.561025</td>\n",
       "      <td>0.063512</td>\n",
       "      <td>1.394429</td>\n",
       "      <td>-0.863871</td>\n",
       "      <td>-0.501408</td>\n",
       "      <td>-0.908772</td>\n",
       "      <td>-1.089076</td>\n",
       "      <td>-1.028146</td>\n",
       "      <td>...</td>\n",
       "      <td>-0.19262</td>\n",
       "      <td>-0.131647</td>\n",
       "      <td>3.748504</td>\n",
       "      <td>-0.327944</td>\n",
       "      <td>-0.370941</td>\n",
       "      <td>-0.092688</td>\n",
       "      <td>0</td>\n",
       "      <td>0.994260</td>\n",
       "      <td>0.005740</td>\n",
       "      <td>0</td>\n",
       "    </tr>\n",
       "  </tbody>\n",
       "</table>\n",
       "<p>5 rows × 160 columns</p>\n",
       "</div>"
      ],
      "text/plain": [
       "   Total_Nbr_of_Items  Total_Price  Date_diff  Week_day_numeric  \\\n",
       "0           -0.508363    -0.231013  -0.191830          1.071121   \n",
       "1            1.459563     0.244153   0.177364          1.071121   \n",
       "2           -0.687266    -1.092006  -0.191830         -0.944097   \n",
       "3            1.280661     0.370798  -0.561025          1.071121   \n",
       "4           -0.866168    -1.055682  -0.561025          0.063512   \n",
       "\n",
       "   Nbr_items_per_wk  Nbr_items_wk_perc  Expenditure_per_wk  Total_Exp_wk_perc  \\\n",
       "0          1.475415          -0.681293            0.420746          -0.583656   \n",
       "1         -0.873191           1.960226           -0.530668           0.366994   \n",
       "2         -0.792204          -0.558370            2.732454          -0.988954   \n",
       "3          0.422592           0.640134           -0.255744           0.115471   \n",
       "4          1.394429          -0.863871           -0.501408          -0.908772   \n",
       "\n",
       "       hour  Part_of_day_num  ...  Afro_supermarket    Amazon  \\\n",
       "0  1.262206         1.556529  ...          -0.19262 -0.131647   \n",
       "1  0.217192         0.264192  ...          -0.19262 -0.131647   \n",
       "2  0.478446         0.264192  ...          -0.19262 -0.131647   \n",
       "3 -0.305315         0.264192  ...          -0.19262 -0.131647   \n",
       "4 -1.089076        -1.028146  ...          -0.19262 -0.131647   \n",
       "\n",
       "   Yours_Supermarket  Sainsbury      Asda  LinkedIn  prediction  target_0  \\\n",
       "0          -0.266773  -0.327944 -0.370941 -0.092688           0  0.995862   \n",
       "1          -0.266773  -0.327944 -0.370941 -0.092688           1  0.151880   \n",
       "2          -0.266773  -0.327944 -0.370941 -0.092688           1  0.204227   \n",
       "3          -0.266773   3.049302 -0.370941 -0.092688           0  0.985461   \n",
       "4           3.748504  -0.327944 -0.370941 -0.092688           0  0.994260   \n",
       "\n",
       "   target_1  target  \n",
       "0  0.004138       0  \n",
       "1  0.848120       1  \n",
       "2  0.795773       1  \n",
       "3  0.014539       0  \n",
       "4  0.005740       0  \n",
       "\n",
       "[5 rows x 160 columns]"
      ]
     },
     "execution_count": 26,
     "metadata": {},
     "output_type": "execute_result"
    }
   ],
   "source": [
    "X_train.head()"
   ]
  },
  {
   "cell_type": "code",
   "execution_count": 47,
   "id": "7496737f",
   "metadata": {},
   "outputs": [
    {
     "data": {
      "text/plain": [
       "Index(['Cosmetics_and_selfcare_wk_perc', 'Cosmetics_and_selfcare_exp_receipt',\n",
       "       'Cosmetics_and_selfcare_exp_wk', 'Cosmetics_and_selfcare_wk_exp_perc',\n",
       "       'Clothes_and_shoes_receipt', 'Clothes_and_shoes_wk',\n",
       "       'Clothes_and_shoes_wk_perc', 'Clothes_and_shoes_exp_receipt',\n",
       "       'Clothes_and_shoes_exp_wk', 'Clothes_and_shoes_wk_exp_perc',\n",
       "       'House_and_kitchen_receipt', 'House_and_kitchen_wk',\n",
       "       'House_and_kitchen_wk_perc', 'House_and_kitchen_exp_receipt',\n",
       "       'House_and_kitchen_exp_wk', 'House_and_kitchen_wk_exp_perc', 'eBay',\n",
       "       'Abbey_Sports', 'Currys_PC_World', 'Aldi', 'Europe', 'Udemy',\n",
       "       'Sports_direct.com', 'Wilko', 'Primark', 'B_and_Q', 'Tesco', 'Maryland',\n",
       "       'BP', 'Afro_supermarket', 'Amazon', 'Yours_Supermarket', 'Sainsbury',\n",
       "       'Asda', 'LinkedIn', 'prediction', 'target_0', 'target_1', 'target'],\n",
       "      dtype='object')"
      ]
     },
     "execution_count": 47,
     "metadata": {},
     "output_type": "execute_result"
    }
   ],
   "source": [
    "x = X_train.columns\n",
    "x[121:]"
   ]
  },
  {
   "cell_type": "code",
   "execution_count": 42,
   "id": "43c22970",
   "metadata": {},
   "outputs": [
    {
     "data": {
      "text/plain": [
       "(587, 160)"
      ]
     },
     "execution_count": 42,
     "metadata": {},
     "output_type": "execute_result"
    }
   ],
   "source": [
    "X_train.shape"
   ]
  },
  {
   "cell_type": "code",
   "execution_count": 35,
   "id": "94e36660",
   "metadata": {
    "scrolled": true
   },
   "outputs": [
    {
     "data": {
      "text/plain": [
       "-0.473868     447\n",
       " 1.201798     122\n",
       " 2.877464      15\n",
       " 6.228797       1\n",
       " 11.255795      1\n",
       " 4.553130       1\n",
       "Name: Cooked_meats_receipt, dtype: int64"
      ]
     },
     "execution_count": 35,
     "metadata": {},
     "output_type": "execute_result"
    }
   ],
   "source": [
    "X_train['Cooked_meats_receipt'].value_counts()"
   ]
  },
  {
   "cell_type": "code",
   "execution_count": 31,
   "id": "ca991813",
   "metadata": {},
   "outputs": [
    {
     "data": {
      "text/plain": [
       "(587, 160)"
      ]
     },
     "execution_count": 31,
     "metadata": {},
     "output_type": "execute_result"
    }
   ],
   "source": []
  },
  {
   "cell_type": "markdown",
   "id": "d3504d63",
   "metadata": {},
   "source": [
    "<h5 style=\"color: green;\">Column mapping</h5>"
   ]
  },
  {
   "cell_type": "code",
   "execution_count": 48,
   "id": "85d48003",
   "metadata": {},
   "outputs": [],
   "source": [
    "num_feat=['Total_Nbr_of_Items', 'Total_Price', 'Date_diff', 'Week_day_numeric',\n",
    "           'Nbr_items_per_wk', 'Nbr_items_wk_perc', 'Expenditure_per_wk',\n",
    "           'Total_Exp_wk_perc', 'hour',  'Bread_receipt',\n",
    "           'Bread_wk', 'Bread_wk_perc', 'Bread_exp_receipt', 'Bread_exp_wk',\n",
    "           'Bread_wk_exp_perc', 'Cooked_meats_receipt', 'Cooked_meats_wk',\n",
    "           'Cooked_meats_wk_perc', 'Cooked_meats_exp_receipt',\n",
    "           'Cooked_meats_exp_wk', 'Raw_meats_receipt', 'Raw_meats_wk',\n",
    "           'Raw_meats_wk_perc', 'Raw_meats_exp_receipt', 'Raw_meats_exp_wk',\n",
    "           'Raw_meats_wk_exp_perc', 'Eating_out_receipt', 'Eating_out_wk',\n",
    "           'Eating_out_wk_perc', 'Eating_out_exp_receipt','Eating_out_wk_exp_perc','Eating_out_exp_wk', \n",
    "           'Snacks_receipt', 'Snacks_wk','Snacks_wk_perc', 'Snacks_exp_receipt', 'Snacks_exp_wk',\n",
    "           'Snacks_wk_exp_perc', 'Drinks_receipt', 'Drinks_wk', 'Drinks_wk_perc',\n",
    "           'Drinks_exp_receipt', 'Drinks_exp_wk', 'Drinks_wk_exp_perc',\n",
    "           'Vegetables_receipt', 'Vegetables_wk', 'Vegetables_wk_perc',\n",
    "           'Vegetables_exp_receipt', 'Vegetables_exp_wk', 'Vegetables_wk_exp_perc',\n",
    "           'Fruit_receipt', 'Fruit_wk', 'Fruit_wk_perc', 'Fruit_exp_receipt',\n",
    "           'Fruit_exp_wk', 'Fruit_wk_exp_perc', 'Cooking_base_receipt',\n",
    "           'Cooking_base_wk', 'Cooking_base_wk_perc', 'Cooking_base_exp_receipt',\n",
    "           'Cooking_base_exp_wk', 'Cooking_base_wk_exp_perc',\n",
    "           'Dairy_produce_receipt', 'Dairy_produce_wk', 'Dairy_produce_wk_perc',\n",
    "           'Dairy_produce_exp_receipt', 'Dairy_produce_exp_wk',\n",
    "           'Dairy_produce_wk_exp_perc', 'Seasoning_receipt', 'Seasoning_wk',\n",
    "           'Seasoning_exp_receipt', 'Seasoning_exp_wk', 'Seasoning_wk_exp_perc','Seasoning_wk_perc',\n",
    "           'Breakfast_receipt', 'Breakfast_wk', 'Breakfast_wk_perc',\n",
    "           'Breakfast_exp_receipt', 'Breakfast_exp_wk', 'Breakfast_wk_exp_perc',\n",
    "           'Transport_wk', 'Transport_wk_perc', 'Transport_exp_receipt',\n",
    "           'Transport_exp_wk', 'Transport_wk_exp_perc', 'DIY_receipt', 'DIY_wk',\n",
    "           'DIY_wk_perc', 'DIY_exp_receipt', 'DIY_exp_wk', 'DIY_wk_exp_perc',\n",
    "           'Electronics_receipt', 'Electronics_wk', 'Electronics_wk_perc',\n",
    "           'Electronics_exp_receipt', 'Electronics_exp_wk',\n",
    "           'Electronics_wk_exp_perc', 'Education_receipt', 'Education_wk',\n",
    "           'Education_wk_perc', 'Education_exp_receipt', 'Education_exp_wk',\n",
    "           'Education_wk_exp_perc', 'Tech_and_services_receipt',\n",
    "           'Tech_and_services_wk', 'Tech_and_services_wk_perc',\n",
    "           'Tech_and_services_exp_receipt', 'Tech_and_services_exp_wk',\n",
    "           'Tech_and_services_wk_exp_perc', 'Cosmetics_and_selfcare_receipt',\n",
    "           'Cosmetics_and_selfcare_wk_perc', 'Cosmetics_and_selfcare_exp_receipt',\n",
    "           'Cosmetics_and_selfcare_exp_wk', 'Cosmetics_and_selfcare_wk_exp_perc','Cosmetics_and_selfcare_wk',\n",
    "           'Clothes_and_shoes_receipt', 'Clothes_and_shoes_wk',\n",
    "           'Clothes_and_shoes_wk_perc', 'Clothes_and_shoes_exp_receipt',\n",
    "           'Clothes_and_shoes_exp_wk', 'Clothes_and_shoes_wk_exp_perc',\n",
    "           'House_and_kitchen_receipt', 'House_and_kitchen_wk',\n",
    "           'House_and_kitchen_wk_perc', 'House_and_kitchen_exp_receipt',\n",
    "           'House_and_kitchen_exp_wk', 'House_and_kitchen_wk_exp_perc'\n",
    "         \n",
    "         ]"
   ]
  },
  {
   "cell_type": "code",
   "execution_count": 49,
   "id": "fb660741",
   "metadata": {},
   "outputs": [],
   "source": [
    "categorical_feat = ['Part_of_day_num','Ptype_Card',\n",
    "                    'Ptype_Cash', 'Ptype_Plan', 'SRC_Cash_or_plan', 'SRC_Contactless',\n",
    "                    'SRC_DB', 'SRC_DD', 'SRC_Pin', 'SRC_Transfer','eBay',\n",
    "                    'Abbey_Sports', 'Currys_PC_World', 'Aldi', 'Europe', 'Udemy',\n",
    "                    'Sports_direct.com', 'Wilko', 'Primark', 'B_and_Q', 'Tesco', 'Maryland',\n",
    "                    'BP', 'Afro_supermarket', 'Amazon', 'Yours_Supermarket', 'Sainsbury',\n",
    "                    'Asda', 'LinkedIn', 'prediction', 'target_0', 'target_1', 'target'\n",
    "                   ]\n",
    "features = num_feat + categorical_feat"
   ]
  },
  {
   "cell_type": "code",
   "execution_count": 50,
   "id": "d4cd8971",
   "metadata": {},
   "outputs": [
    {
     "data": {
      "text/plain": [
       "160"
      ]
     },
     "execution_count": 50,
     "metadata": {},
     "output_type": "execute_result"
    }
   ],
   "source": [
    "len(num_feat) + len(categorical_feat)"
   ]
  },
  {
   "cell_type": "code",
   "execution_count": 51,
   "id": "03b56aee",
   "metadata": {},
   "outputs": [],
   "source": [
    "colmnMap = ColumnMapping()\n",
    "colmnMap.target = 'target'\n",
    "colmnMap.prediction = 'prediction'\n",
    "colmnMap.numerical_features = num_feat\n",
    "colmnMap.categorical_features = categorical_feat"
   ]
  },
  {
   "cell_type": "markdown",
   "id": "5690aa8f",
   "metadata": {},
   "source": [
    "<h5 style=\"color: green;\">Model performance Dashboard</h5>"
   ]
  },
  {
   "cell_type": "code",
   "execution_count": 53,
   "id": "9dece9f8",
   "metadata": {},
   "outputs": [],
   "source": [
    "xgb_model_performance = Dashboard(tabs=[ClassificationPerformanceTab(verbose_level=1)])\n",
    "xgb_model_performance.calculate(X_train[features],\n",
    "                                X_test[features], column_mapping = colmnMap)\n",
    "\n",
    "xgb_model_performance.save(\"../Reports/XGBoost classifier training vs test performance dashboard.html\")"
   ]
  },
  {
   "cell_type": "markdown",
   "id": "40426e27",
   "metadata": {},
   "source": [
    "<h3 style=\"color: green;\">Probabilistic classification performance</h3>"
   ]
  },
  {
   "cell_type": "code",
   "execution_count": 60,
   "id": "6dc839cf",
   "metadata": {},
   "outputs": [],
   "source": [
    "# Formating the target as required for probabilistic classification performance\n",
    "X_train['target'] = [train_probas.columns.tolist()[x] for x in X_train['target']]\n",
    "\n",
    "X_test['target'] = [test_probas.columns.tolist()[x] for x in X_test['target']]"
   ]
  },
  {
   "cell_type": "code",
   "execution_count": 61,
   "id": "579e06a1",
   "metadata": {},
   "outputs": [
    {
     "data": {
      "text/plain": [
       "Index(['target_0', 'target_1'], dtype='object')"
      ]
     },
     "execution_count": 61,
     "metadata": {},
     "output_type": "execute_result"
    }
   ],
   "source": [
    "test_probas.columns"
   ]
  },
  {
   "cell_type": "code",
   "execution_count": 56,
   "id": "d0441ea5",
   "metadata": {},
   "outputs": [],
   "source": [
    "for x in probas_name:\n",
    "    num_feat.append(x)\n",
    "\n",
    "features = num_feat + categorical_feat"
   ]
  },
  {
   "cell_type": "code",
   "execution_count": 57,
   "id": "3c56bfe1",
   "metadata": {},
   "outputs": [],
   "source": [
    "colmnMap = ColumnMapping()\n",
    "colmnMap.target = 'target'\n",
    "colmnMap.prediction = train_probas.columns.tolist()\n",
    "colmnMap.numerical_features = num_feat\n",
    "colmnMap.categorical_features = categorical_feat"
   ]
  },
  {
   "cell_type": "code",
   "execution_count": 1,
   "id": "982699ef",
   "metadata": {},
   "outputs": [],
   "source": [
    "xgb_classi_prob_performance = Dashboard(tabs=[ProbClassificationPerformanceTab(verbose_level=1)])\n",
    "xgb_classi_prob_performance.calculate(X_train[features],\n",
    "                                X_test[features], column_mapping = colmnMap)\n",
    "\n",
    "xgb_classi_prob_performance.save(\"../Reports/XGBoost classifier probabilistic performance dashboard.html\")"
   ]
  },
  {
   "cell_type": "code",
   "execution_count": null,
   "id": "58e04727",
   "metadata": {},
   "outputs": [],
   "source": []
  }
 ],
 "metadata": {
  "kernelspec": {
   "display_name": "Python 3 (ipykernel)",
   "language": "python",
   "name": "python3"
  },
  "language_info": {
   "codemirror_mode": {
    "name": "ipython",
    "version": 3
   },
   "file_extension": ".py",
   "mimetype": "text/x-python",
   "name": "python",
   "nbconvert_exporter": "python",
   "pygments_lexer": "ipython3",
   "version": "3.10.6"
  }
 },
 "nbformat": 4,
 "nbformat_minor": 5
}
