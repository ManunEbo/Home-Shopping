{
 "cells": [
  {
   "cell_type": "markdown",
   "id": "f183ead0",
   "metadata": {},
   "source": [
    "<h1 style=\"color: green;\">Summary: Deployment pipeline</h1>\n",
    "<p>\n",
    "In this section various modules are imported to run the production pipeline to generate a classification score.<br>\n",
    "The following tasks are accomplished below:\n",
    "<ul>\n",
    "<li>Import module to read data from the database, <b>pull_last_7_days_receipts</b></li>\n",
    "<li>Use the functions within <b>pull_last_7_days_receipts</b> to attach new receipt data to database data set</li>\n",
    "<li>Import module for deriving features from text feature <b>derive_item_name_features</b></li>\n",
    "<li>Import module for data transformations and prediction, <b>data_transformers</b></li>\n",
    "</ul>\n",
    "Note, sklearn pipeline was not suitable for the way the code is structured.<br>\n",
    "The tasks could easily have been accomplished using 1 large function or a class. Instead the modules were prefered.\n",
    "</p>"
   ]
  },
  {
   "cell_type": "code",
   "execution_count": 1,
   "id": "05cc2cd2",
   "metadata": {},
   "outputs": [],
   "source": [
    "import pandas as pd\n",
    "# import numpy as np\n",
    "\n",
    "import pull_last_7_days_receipts as pull_data\n",
    "import derive_item_name_features as derive_features\n",
    "import data_transformers\n",
    "\n",
    "\n",
    "import warnings\n",
    "warnings.filterwarnings('ignore')\n",
    "\n",
    "# display all columns\n",
    "# pd.set_option('display.max_columns', None)"
   ]
  },
  {
   "cell_type": "markdown",
   "id": "8b077f53",
   "metadata": {},
   "source": [
    "<h1 style=\"color: green;\">Guest receipt data</h1>\n",
    "<p>\n",
    "The guest receipt is the new shopping list before going shopping. It will be added to the data pulled from the database.<br>Then it will all be processed and single prediction will be generated.\n",
    "</p>"
   ]
  },
  {
   "cell_type": "code",
   "execution_count": 2,
   "id": "de6f8442",
   "metadata": {},
   "outputs": [],
   "source": [
    "venue_g = 'Asda'\n",
    "Total_Nbr_of_Items_g = 11\n",
    "Total_Price_g = 15.44\n",
    "Receipt_Date_g = pd.to_datetime('2023-06-11', format=\"%Y-%m-%d\")\n",
    "\n",
    "Item_name_g = ['Whole chicken','Garlic pouch','Chopped tomatoes',\n",
    "               'Chopped tomatoes','Chopped tomatoes','Lemons',\n",
    "               'Limes','Vimto','Red onions','Peppers mixed','Colgate']\n",
    "Item_Price_g = [4.98,2.79,0.32,0.32,0.32,0.79,0.79,2.50,0.67,0.97,0.99]"
   ]
  },
  {
   "cell_type": "markdown",
   "id": "35896fc8",
   "metadata": {},
   "source": [
    "<h1 style=\"color: green;\">Pull the data from the database</h1>"
   ]
  },
  {
   "cell_type": "code",
   "execution_count": 3,
   "id": "19dffa62",
   "metadata": {},
   "outputs": [],
   "source": [
    "last_7_days = pull_data.read_last_7_days()"
   ]
  },
  {
   "cell_type": "markdown",
   "id": "5d6febd2",
   "metadata": {},
   "source": [
    "<h1 style=\"color: green;\">Attach guest data to database data</h1>"
   ]
  },
  {
   "cell_type": "code",
   "execution_count": 4,
   "id": "6811426f",
   "metadata": {},
   "outputs": [],
   "source": [
    "last_7_days = pull_data.attach_new_receipt_data(last_7_days, venue_g, Total_Nbr_of_Items_g, Total_Price_g, \n",
    "                                                Receipt_Date_g, Item_name_g, Item_Price_g)"
   ]
  },
  {
   "cell_type": "markdown",
   "id": "58045ee1",
   "metadata": {},
   "source": [
    "<h1 style=\"color: green;\">Feature engineering using item_name, text feature</h1>"
   ]
  },
  {
   "cell_type": "code",
   "execution_count": 5,
   "id": "d841ec9f",
   "metadata": {},
   "outputs": [],
   "source": [
    "last_7_days = derive_features.item_name_features(last_7_days)"
   ]
  },
  {
   "cell_type": "markdown",
   "id": "4154e6b0",
   "metadata": {},
   "source": [
    "<h1 style=\"color: green;\">Transform the data and make a prediction</h1>"
   ]
  },
  {
   "cell_type": "code",
   "execution_count": 6,
   "id": "9334230d",
   "metadata": {},
   "outputs": [
    {
     "data": {
      "text/plain": [
       "array([0.], dtype=float32)"
      ]
     },
     "execution_count": 6,
     "metadata": {},
     "output_type": "execute_result"
    }
   ],
   "source": [
    "prediction = data_transformers.transform_and_predict(last_7_days)\n",
    "prediction"
   ]
  },
  {
   "cell_type": "markdown",
   "id": "08117e5a",
   "metadata": {},
   "source": [
    "<p>\n",
    "Interpreting the output:\n",
    "<ul>\n",
    "<li>0: This week, the predicted number of shopping trips will exceed 4</li>\n",
    "<li>1: This week, the predicted number of shopping trips will be less than 5</li>\n",
    "</ul>\n",
    "</p>"
   ]
  },
  {
   "cell_type": "code",
   "execution_count": null,
   "id": "ec749bf4",
   "metadata": {},
   "outputs": [],
   "source": []
  }
 ],
 "metadata": {
  "kernelspec": {
   "display_name": "Python 3 (ipykernel)",
   "language": "python",
   "name": "python3"
  },
  "language_info": {
   "codemirror_mode": {
    "name": "ipython",
    "version": 3
   },
   "file_extension": ".py",
   "mimetype": "text/x-python",
   "name": "python",
   "nbconvert_exporter": "python",
   "pygments_lexer": "ipython3",
   "version": "3.10.6"
  }
 },
 "nbformat": 4,
 "nbformat_minor": 5
}
